{
 "cells": [
  {
   "cell_type": "code",
   "execution_count": 93,
   "metadata": {},
   "outputs": [
    {
     "name": "stdout",
     "output_type": "stream",
     "text": [
      "<module 'utils' from 'C:\\\\Users/u0138247/Scan-to-BIM-CVPR-2024\\\\utils\\\\__init__.py'>\n",
      "<module 'utils' from 'C:\\\\Users/u0138247/Scan-to-BIM-CVPR-2024\\\\utils\\\\__init__.py'>\n"
     ]
    }
   ],
   "source": [
    "#IMPORT PACKAGES\n",
    "from rdflib import Graph, URIRef\n",
    "import os.path\n",
    "import importlib\n",
    "from pathlib import Path\n",
    "import numpy as np\n",
    "import xml.etree.ElementTree as ET\n",
    "import open3d as o3d\n",
    "import uuid    \n",
    "import pye57 \n",
    "import ifcopenshell\n",
    "import ifcopenshell.geom as geom\n",
    "import ifcopenshell.util\n",
    "from ifcopenshell.util.selector import Selector\n",
    "import multiprocessing\n",
    "import random as rd\n",
    "import pandas as pd\n",
    "# from tabulate import tabulate\n",
    "import cv2\n",
    "import laspy\n",
    "import math\n",
    "from sklearn.neighbors import NearestNeighbors\n",
    "from shapely.geometry import LineString\n",
    "from sklearn.linear_model import LinearRegression\n",
    "from scipy.optimize import curve_fit\n",
    "from shapely.geometry import Point, LineString, Polygon\n",
    "import json\n",
    "from functools import cmp_to_key\n",
    "from sympy import Point, Line, intersection\n",
    "from collections import defaultdict\n",
    "import random\n",
    "from shapely.geometry import MultiPoint\n",
    "from shapely.ops import nearest_points\n",
    "import networkx as nx\n",
    "from itertools import permutations\n",
    "import glob\n",
    "import re\n",
    "\n",
    "import matplotlib.pyplot as plt\n",
    "\n",
    "import geomapi\n",
    "from geomapi.nodes import *\n",
    "import geomapi.utils as ut\n",
    "from geomapi.utils import geometryutils as gmu\n",
    "import geomapi.tools as tl\n",
    "\n",
    "\n",
    "import sys\n",
    "module_path = r\"C:/Users/u0138247/Scan-to-BIM-CVPR-2024\"\n",
    "# if module_path not in sys.path:\n",
    "#     sys.path.append(module_path)\n",
    "\n",
    "# Now you can import the module\n",
    "import utils\n",
    "\n",
    "# Verify the import\n",
    "print(utils)\n",
    "import utils.t1_utils as t1\n",
    "\n",
    "\n",
    "module_path = r\"C:\\Users\\u0138247\\OneDrive - KU Leuven\\2024-05 CVPR scan-to-BIM challenge\\code\\Scan-to-BIM-CVPR-2024-MB\"\n",
    "\n",
    "import utils\n",
    "\n",
    "# Verify the import\n",
    "print(utils)\n",
    "import utils.t6_utils as t6\n"
   ]
  },
  {
   "cell_type": "code",
   "execution_count": 2,
   "metadata": {},
   "outputs": [
    {
     "name": "stdout",
     "output_type": "stream",
     "text": [
      "['01_OfficeLab_01_F1_floorplan.txt', '04_Library_01_F1_floorplan.txt', '04_Library_01_F2_floorplan.txt', '05_MedOffice_01_B1_floorplan.txt', '05_MedOffice_01_F1_floorplan.txt', '05_MedOffice_01_F2_floorplan.txt', '05_MedOffice_01_F3_floorplan.txt', '06_MedOffice_02_B1_floorplan.txt', '06_MedOffice_02_F1_floorplan.txt', '06_MedOffice_02_F2_floorplan.txt', '06_MedOffice_02_F3_floorplan.txt', '09_MedOffice_04_F1_floorplan.txt', '09_MedOffice_04_F2_floorplan.txt', '09_MedOffice_04_F3_floorplan.txt', '09_MedOffice_04_F4_floorplan.txt', '09_MedOffice_04_F5_floorplan.txt', '12_SmallBuilding_02_F1_floorplan.txt', '12_SmallBuilding_02_F2_floorplan.txt', '15_ShortOffice_03_B1_floorplan.txt', '15_ShortOffice_03_F1_floorplan.txt', '15_ShortOffice_03_F2_floorplan.txt', '16_Facility_01_F1_floorplan.txt', '19_MedOffice_07_B1_floorplan.txt', '19_MedOffice_07_F1_floorplan.txt', '19_MedOffice_07_F2_floorplan.txt', '19_MedOffice_07_F3_floorplan.txt', '19_MedOffice_07_F4_floorplan.txt', '20_MedOffice_08_B1_floorplan.txt', '20_MedOffice_08_F1_floorplan.txt', '20_MedOffice_08_F2_floorplan.txt', '20_MedOffice_08_F3_floorplan.txt', '20_MedOffice_08_F4_floorplan.txt', '20_MedOffice_08_F5_floorplan.txt', '20_MedOffice_08_F6_floorplan.txt', '22_Annex_01_F1_floorplan.txt', '24_Facility_04_F1_floorplan.txt', '26_Parking_02_B1_floorplan.txt', '26_Parking_02_F1_floorplan.txt', '26_Parking_02_F2_floorplan.txt', '30_ShortOffice_04_B1_floorplan.txt', '30_ShortOffice_04_F1_floorplan.txt', '30_ShortOffice_04_F2_floorplan.txt', '30_ShortOffice_04_F3_floorplan.txt', '31_Lab_01_F1_floorplan.txt', '32_ShortOffice_05_F1_floorplan.txt', '32_ShortOffice_05_F2_floorplan.txt', '32_ShortOffice_05_F3_floorplan.txt', '33_SmallBuilding_03_B1_floorplan.txt', '33_SmallBuilding_03_F1_floorplan.txt']\n"
     ]
    }
   ],
   "source": [
    "folder_path = r'C:\\Users\\u0138247\\OneDrive - KU Leuven\\2024-05 CVPR scan-to-BIM challenge\\data\\t0\\2D\\train\\json_train'\n",
    "txt_files = [file for file in os.listdir(folder_path) if file.endswith('.txt')]\n",
    "\n",
    "print(txt_files)"
   ]
  },
  {
   "cell_type": "code",
   "execution_count": 3,
   "metadata": {},
   "outputs": [
    {
     "name": "stdout",
     "output_type": "stream",
     "text": [
      "05_MedOffice_01_F2_floorplan.txt\n"
     ]
    }
   ],
   "source": [
    "txt_file = [file for file in txt_files if '05_MedOffice_01_F2' in file and file.endswith('.txt')]\n",
    "if txt_file:\n",
    "    txt_file = txt_file[0]\n",
    "    print(txt_file)\n",
    "else:\n",
    "    print(\"TWT file not found.\")"
   ]
  },
  {
   "cell_type": "code",
   "execution_count": 4,
   "metadata": {},
   "outputs": [],
   "source": [
    "\n",
    "folder_path = r'C:\\Users\\u0138247\\OneDrive - KU Leuven\\2024-05 CVPR scan-to-BIM challenge\\data\\t0\\2D\\train\\json_train'\n",
    "txt_file_path = os.path.join(folder_path, '05_MedOffice_01_F2_floorplan.txt')\n",
    "\n",
    "with open(txt_file_path, 'r') as file:\n",
    "    content = file.read()\n",
    "\n"
   ]
  },
  {
   "cell_type": "code",
   "execution_count": 5,
   "metadata": {},
   "outputs": [],
   "source": [
    "\n",
    "layer_names = []\n",
    "data = json.loads(content)\n",
    "\n",
    "for key in data.keys():\n",
    "    if key.startswith(\"layer\"):\n",
    "        layer_names.append(data[key][\"layer name\"])\n",
    "\n",
    "wall_layer_names = [name for name in layer_names if 'wall' in name.lower()]\n",
    "points = []\n",
    "for key, value in data.items():\n",
    "    if key.startswith(\"layer\"):\n",
    "        points.extend(value.get(\"points\", []))\n"
   ]
  },
  {
   "cell_type": "code",
   "execution_count": 6,
   "metadata": {},
   "outputs": [],
   "source": [
    "import open3d as o3d\n",
    "\n",
    "linesets = []\n",
    "\n",
    "for element_points in points:\n",
    "    # Extract x and y coordinates from the points\n",
    "    x_coords = element_points['coordinates'][::2]\n",
    "    y_coords = element_points['coordinates'][1::2]\n",
    "    \n",
    "    # Create a line set from the coordinates\n",
    "    lines = []\n",
    "    for i in range(len(x_coords) - 1):\n",
    "        line = [i, i + 1]\n",
    "        lines.append(line)\n",
    "    \n",
    "    # Create a line set object\n",
    "    lineset = o3d.geometry.LineSet()\n",
    "    lineset.points = o3d.utility.Vector3dVector(list(zip(x_coords, y_coords, [0]*len(x_coords))))\n",
    "    lineset.lines = o3d.utility.Vector2iVector(lines)\n",
    "    \n",
    "    # Append the line set to the list\n",
    "    linesets.append(lineset)"
   ]
  },
  {
   "cell_type": "code",
   "execution_count": 7,
   "metadata": {},
   "outputs": [
    {
     "name": "stdout",
     "output_type": "stream",
     "text": [
      "[LineSet with 1 lines., LineSet with 1 lines., LineSet with 1 lines., LineSet with 1 lines., LineSet with 1 lines., LineSet with 1 lines., LineSet with 1 lines., LineSet with 1 lines., LineSet with 1 lines., LineSet with 1 lines., LineSet with 1 lines., LineSet with 2 lines., LineSet with 1 lines., LineSet with 1 lines., LineSet with 1 lines., LineSet with 1 lines., LineSet with 1 lines., LineSet with 1 lines., LineSet with 1 lines., LineSet with 1 lines., LineSet with 1 lines., LineSet with 1 lines., LineSet with 1 lines., LineSet with 1 lines., LineSet with 1 lines., LineSet with 1 lines., LineSet with 1 lines., LineSet with 1 lines., LineSet with 1 lines., LineSet with 1 lines., LineSet with 1 lines., LineSet with 1 lines., LineSet with 1 lines., LineSet with 1 lines., LineSet with 1 lines., LineSet with 1 lines., LineSet with 1 lines., LineSet with 1 lines., LineSet with 1 lines., LineSet with 1 lines., LineSet with 1 lines., LineSet with 1 lines., LineSet with 1 lines., LineSet with 1 lines., LineSet with 1 lines., LineSet with 1 lines., LineSet with 1 lines., LineSet with 1 lines., LineSet with 1 lines., LineSet with 1 lines., LineSet with 1 lines., LineSet with 1 lines., LineSet with 1 lines., LineSet with 1 lines., LineSet with 1 lines., LineSet with 1 lines., LineSet with 1 lines., LineSet with 1 lines., LineSet with 1 lines., LineSet with 1 lines., LineSet with 1 lines., LineSet with 1 lines., LineSet with 1 lines., LineSet with 1 lines., LineSet with 1 lines., LineSet with 1 lines., LineSet with 1 lines., LineSet with 1 lines., LineSet with 1 lines., LineSet with 1 lines., LineSet with 1 lines., LineSet with 1 lines., LineSet with 1 lines., LineSet with 1 lines., LineSet with 1 lines., LineSet with 1 lines., LineSet with 1 lines., LineSet with 1 lines., LineSet with 1 lines., LineSet with 1 lines., LineSet with 1 lines., LineSet with 3 lines., LineSet with 1 lines., LineSet with 1 lines., LineSet with 1 lines., LineSet with 1 lines., LineSet with 1 lines., LineSet with 1 lines., LineSet with 1 lines., LineSet with 1 lines., LineSet with 1 lines., LineSet with 1 lines., LineSet with 1 lines., LineSet with 1 lines., LineSet with 1 lines., LineSet with 1 lines., LineSet with 1 lines., LineSet with 1 lines., LineSet with 1 lines., LineSet with 1 lines., LineSet with 1 lines., LineSet with 1 lines., LineSet with 1 lines., LineSet with 1 lines., LineSet with 1 lines., LineSet with 1 lines., LineSet with 1 lines., LineSet with 1 lines., LineSet with 1 lines., LineSet with 1 lines., LineSet with 1 lines., LineSet with 1 lines., LineSet with 6 lines., LineSet with 1 lines., LineSet with 1 lines., LineSet with 1 lines., LineSet with 1 lines., LineSet with 1 lines., LineSet with 1 lines., LineSet with 1 lines., LineSet with 1 lines., LineSet with 1 lines., LineSet with 1 lines., LineSet with 1 lines., LineSet with 2 lines., LineSet with 1 lines., LineSet with 1 lines., LineSet with 1 lines., LineSet with 1 lines., LineSet with 1 lines., LineSet with 1 lines., LineSet with 1 lines., LineSet with 1 lines., LineSet with 1 lines., LineSet with 1 lines., LineSet with 1 lines., LineSet with 1 lines., LineSet with 1 lines., LineSet with 1 lines., LineSet with 1 lines., LineSet with 1 lines., LineSet with 1 lines., LineSet with 1 lines., LineSet with 1 lines., LineSet with 1 lines., LineSet with 1 lines., LineSet with 1 lines., LineSet with 1 lines., LineSet with 1 lines., LineSet with 1 lines., LineSet with 1 lines., LineSet with 1 lines., LineSet with 1 lines., LineSet with 1 lines., LineSet with 1 lines., LineSet with 1 lines., LineSet with 1 lines., LineSet with 1 lines., LineSet with 1 lines., LineSet with 1 lines., LineSet with 1 lines., LineSet with 1 lines., LineSet with 1 lines., LineSet with 4 lines., LineSet with 1 lines., LineSet with 1 lines., LineSet with 1 lines., LineSet with 1 lines., LineSet with 1 lines., LineSet with 1 lines., LineSet with 1 lines., LineSet with 1 lines., LineSet with 1 lines., LineSet with 1 lines., LineSet with 1 lines., LineSet with 1 lines., LineSet with 1 lines., LineSet with 1 lines., LineSet with 1 lines., LineSet with 1 lines., LineSet with 1 lines., LineSet with 1 lines., LineSet with 1 lines., LineSet with 1 lines., LineSet with 1 lines., LineSet with 1 lines., LineSet with 1 lines., LineSet with 1 lines., LineSet with 1 lines., LineSet with 1 lines., LineSet with 1 lines., LineSet with 1 lines., LineSet with 1 lines., LineSet with 1 lines., LineSet with 1 lines., LineSet with 1 lines., LineSet with 1 lines., LineSet with 1 lines., LineSet with 1 lines., LineSet with 1 lines., LineSet with 1 lines., LineSet with 1 lines., LineSet with 1 lines., LineSet with 1 lines., LineSet with 1 lines., LineSet with 1 lines., LineSet with 1 lines., LineSet with 1 lines., LineSet with 1 lines., LineSet with 1 lines., LineSet with 1 lines., LineSet with 1 lines., LineSet with 1 lines., LineSet with 1 lines., LineSet with 1 lines., LineSet with 1 lines., LineSet with 1 lines., LineSet with 1 lines., LineSet with 1 lines., LineSet with 7 lines., LineSet with 1 lines., LineSet with 1 lines., LineSet with 1 lines., LineSet with 1 lines., LineSet with 5 lines., LineSet with 1 lines., LineSet with 1 lines., LineSet with 1 lines., LineSet with 4 lines., LineSet with 1 lines., LineSet with 1 lines., LineSet with 1 lines., LineSet with 1 lines., LineSet with 1 lines., LineSet with 1 lines., LineSet with 1 lines., LineSet with 1 lines., LineSet with 1 lines., LineSet with 1 lines., LineSet with 1 lines., LineSet with 1 lines., LineSet with 1 lines., LineSet with 1 lines., LineSet with 1 lines., LineSet with 1 lines., LineSet with 1 lines., LineSet with 1 lines., LineSet with 1 lines., LineSet with 1 lines., LineSet with 1 lines., LineSet with 1 lines., LineSet with 1 lines., LineSet with 1 lines., LineSet with 1 lines., LineSet with 1 lines., LineSet with 1 lines., LineSet with 1 lines., LineSet with 1 lines., LineSet with 1 lines., LineSet with 1 lines., LineSet with 1 lines., LineSet with 1 lines., LineSet with 1 lines., LineSet with 1 lines., LineSet with 1 lines., LineSet with 1 lines., LineSet with 1 lines., LineSet with 1 lines., LineSet with 1 lines., LineSet with 1 lines., LineSet with 1 lines., LineSet with 1 lines., LineSet with 1 lines., LineSet with 1 lines., LineSet with 1 lines., LineSet with 1 lines., LineSet with 1 lines., LineSet with 1 lines., LineSet with 1 lines., LineSet with 1 lines., LineSet with 1 lines., LineSet with 1 lines., LineSet with 1 lines., LineSet with 1 lines., LineSet with 1 lines., LineSet with 1 lines., LineSet with 1 lines., LineSet with 1 lines., LineSet with 1 lines., LineSet with 1 lines., LineSet with 1 lines., LineSet with 3 lines., LineSet with 1 lines., LineSet with 1 lines., LineSet with 1 lines., LineSet with 1 lines., LineSet with 1 lines., LineSet with 1 lines., LineSet with 1 lines., LineSet with 1 lines., LineSet with 1 lines., LineSet with 1 lines., LineSet with 1 lines., LineSet with 1 lines., LineSet with 1 lines., LineSet with 1 lines., LineSet with 1 lines., LineSet with 1 lines., LineSet with 1 lines., LineSet with 1 lines., LineSet with 1 lines., LineSet with 1 lines., LineSet with 1 lines., LineSet with 1 lines., LineSet with 1 lines., LineSet with 1 lines., LineSet with 1 lines., LineSet with 1 lines., LineSet with 1 lines., LineSet with 1 lines., LineSet with 1 lines., LineSet with 1 lines., LineSet with 1 lines., LineSet with 1 lines., LineSet with 1 lines., LineSet with 1 lines., LineSet with 1 lines., LineSet with 1 lines., LineSet with 1 lines., LineSet with 1 lines., LineSet with 1 lines., LineSet with 1 lines., LineSet with 1 lines., LineSet with 1 lines., LineSet with 1 lines., LineSet with 1 lines., LineSet with 1 lines., LineSet with 1 lines., LineSet with 1 lines., LineSet with 1 lines., LineSet with 1 lines., LineSet with 1 lines., LineSet with 1 lines., LineSet with 2 lines., LineSet with 1 lines., LineSet with 1 lines., LineSet with 1 lines., LineSet with 1 lines., LineSet with 1 lines., LineSet with 1 lines., LineSet with 1 lines., LineSet with 1 lines., LineSet with 1 lines., LineSet with 1 lines., LineSet with 1 lines., LineSet with 1 lines., LineSet with 1 lines., LineSet with 1 lines., LineSet with 1 lines., LineSet with 1 lines., LineSet with 1 lines., LineSet with 1 lines., LineSet with 1 lines., LineSet with 1 lines., LineSet with 1 lines., LineSet with 1 lines., LineSet with 1 lines., LineSet with 1 lines., LineSet with 1 lines., LineSet with 1 lines., LineSet with 1 lines., LineSet with 1 lines., LineSet with 1 lines., LineSet with 1 lines., LineSet with 1 lines., LineSet with 1 lines., LineSet with 1 lines., LineSet with 1 lines., LineSet with 1 lines., LineSet with 1 lines., LineSet with 1 lines., LineSet with 1 lines., LineSet with 1 lines., LineSet with 1 lines., LineSet with 1 lines., LineSet with 1 lines., LineSet with 1 lines., LineSet with 1 lines., LineSet with 1 lines., LineSet with 1 lines., LineSet with 1 lines., LineSet with 1 lines., LineSet with 1 lines., LineSet with 1 lines., LineSet with 1 lines., LineSet with 1 lines., LineSet with 1 lines., LineSet with 1 lines., LineSet with 1 lines., LineSet with 1 lines., LineSet with 1 lines., LineSet with 1 lines., LineSet with 1 lines., LineSet with 1 lines., LineSet with 1 lines., LineSet with 1 lines., LineSet with 1 lines., LineSet with 1 lines., LineSet with 1 lines., LineSet with 1 lines., LineSet with 1 lines., LineSet with 1 lines., LineSet with 1 lines., LineSet with 1 lines., LineSet with 1 lines., LineSet with 1 lines., LineSet with 1 lines., LineSet with 1 lines., LineSet with 1 lines., LineSet with 1 lines., LineSet with 1 lines., LineSet with 1 lines., LineSet with 1 lines., LineSet with 1 lines., LineSet with 1 lines., LineSet with 1 lines., LineSet with 1 lines., LineSet with 1 lines., LineSet with 1 lines., LineSet with 1 lines., LineSet with 1 lines., LineSet with 1 lines., LineSet with 1 lines., LineSet with 1 lines., LineSet with 1 lines., LineSet with 1 lines., LineSet with 1 lines., LineSet with 1 lines., LineSet with 1 lines., LineSet with 1 lines., LineSet with 1 lines., LineSet with 1 lines., LineSet with 1 lines., LineSet with 1 lines., LineSet with 1 lines., LineSet with 1 lines., LineSet with 1 lines., LineSet with 1 lines., LineSet with 1 lines., LineSet with 1 lines., LineSet with 1 lines., LineSet with 1 lines., LineSet with 1 lines., LineSet with 1 lines., LineSet with 1 lines., LineSet with 1 lines., LineSet with 1 lines., LineSet with 1 lines., LineSet with 1 lines., LineSet with 1 lines., LineSet with 1 lines., LineSet with 1 lines., LineSet with 1 lines., LineSet with 1 lines., LineSet with 1 lines., LineSet with 1 lines., LineSet with 1 lines., LineSet with 1 lines., LineSet with 1 lines., LineSet with 1 lines., LineSet with 1 lines., LineSet with 1 lines., LineSet with 1 lines., LineSet with 1 lines., LineSet with 1 lines., LineSet with 1 lines., LineSet with 1 lines., LineSet with 1 lines., LineSet with 1 lines., LineSet with 1 lines., LineSet with 1 lines., LineSet with 1 lines., LineSet with 1 lines., LineSet with 1 lines., LineSet with 1 lines., LineSet with 1 lines., LineSet with 1 lines., LineSet with 1 lines., LineSet with 1 lines., LineSet with 1 lines., LineSet with 1 lines., LineSet with 1 lines., LineSet with 1 lines., LineSet with 1 lines., LineSet with 1 lines., LineSet with 1 lines., LineSet with 1 lines., LineSet with 1 lines., LineSet with 1 lines., LineSet with 1 lines., LineSet with 1 lines., LineSet with 1 lines., LineSet with 1 lines., LineSet with 1 lines., LineSet with 1 lines., LineSet with 1 lines., LineSet with 1 lines., LineSet with 1 lines., LineSet with 1 lines., LineSet with 1 lines., LineSet with 1 lines., LineSet with 1 lines., LineSet with 1 lines., LineSet with 1 lines., LineSet with 1 lines., LineSet with 1 lines., LineSet with 1 lines., LineSet with 1 lines., LineSet with 1 lines., LineSet with 1 lines., LineSet with 1 lines., LineSet with 1 lines., LineSet with 1 lines., LineSet with 1 lines., LineSet with 1 lines., LineSet with 1 lines., LineSet with 1 lines., LineSet with 1 lines., LineSet with 1 lines., LineSet with 1 lines., LineSet with 1 lines., LineSet with 1 lines., LineSet with 1 lines., LineSet with 1 lines., LineSet with 1 lines., LineSet with 1 lines., LineSet with 1 lines., LineSet with 1 lines., LineSet with 1 lines., LineSet with 1 lines., LineSet with 1 lines., LineSet with 1 lines., LineSet with 1 lines., LineSet with 1 lines., LineSet with 1 lines., LineSet with 1 lines., LineSet with 1 lines., LineSet with 1 lines., LineSet with 1 lines., LineSet with 1 lines., LineSet with 1 lines., LineSet with 1 lines., LineSet with 1 lines., LineSet with 1 lines., LineSet with 1 lines., LineSet with 1 lines., LineSet with 1 lines., LineSet with 1 lines., LineSet with 1 lines., LineSet with 1 lines., LineSet with 1 lines., LineSet with 1 lines., LineSet with 1 lines., LineSet with 1 lines., LineSet with 1 lines., LineSet with 1 lines., LineSet with 1 lines., LineSet with 1 lines., LineSet with 1 lines., LineSet with 1 lines., LineSet with 1 lines., LineSet with 1 lines., LineSet with 1 lines., LineSet with 1 lines., LineSet with 1 lines., LineSet with 1 lines., LineSet with 1 lines., LineSet with 1 lines., LineSet with 1 lines., LineSet with 1 lines., LineSet with 1 lines., LineSet with 1 lines., LineSet with 1 lines., LineSet with 1 lines., LineSet with 1 lines., LineSet with 1 lines., LineSet with 1 lines., LineSet with 1 lines., LineSet with 1 lines., LineSet with 1 lines., LineSet with 1 lines., LineSet with 1 lines., LineSet with 1 lines., LineSet with 1 lines., LineSet with 1 lines., LineSet with 1 lines., LineSet with 1 lines., LineSet with 1 lines., LineSet with 1 lines., LineSet with 1 lines., LineSet with 1 lines., LineSet with 1 lines., LineSet with 1 lines., LineSet with 1 lines., LineSet with 1 lines., LineSet with 1 lines., LineSet with 1 lines., LineSet with 1 lines., LineSet with 1 lines., LineSet with 1 lines., LineSet with 1 lines., LineSet with 1 lines., LineSet with 1 lines., LineSet with 1 lines., LineSet with 1 lines., LineSet with 1 lines., LineSet with 1 lines., LineSet with 1 lines., LineSet with 1 lines., LineSet with 1 lines., LineSet with 1 lines., LineSet with 2 lines., LineSet with 1 lines., LineSet with 1 lines., LineSet with 1 lines., LineSet with 1 lines., LineSet with 1 lines., LineSet with 1 lines., LineSet with 1 lines., LineSet with 1 lines., LineSet with 1 lines., LineSet with 1 lines., LineSet with 1 lines., LineSet with 1 lines., LineSet with 1 lines., LineSet with 1 lines., LineSet with 1 lines., LineSet with 1 lines., LineSet with 1 lines., LineSet with 1 lines., LineSet with 1 lines., LineSet with 1 lines., LineSet with 1 lines., LineSet with 1 lines., LineSet with 3 lines., LineSet with 1 lines., LineSet with 1 lines., LineSet with 1 lines., LineSet with 1 lines., LineSet with 1 lines., LineSet with 1 lines., LineSet with 1 lines., LineSet with 1 lines., LineSet with 1 lines., LineSet with 1 lines., LineSet with 1 lines., LineSet with 1 lines., LineSet with 1 lines., LineSet with 1 lines., LineSet with 1 lines., LineSet with 1 lines., LineSet with 2 lines., LineSet with 1 lines., LineSet with 1 lines., LineSet with 1 lines., LineSet with 1 lines., LineSet with 1 lines., LineSet with 1 lines., LineSet with 1 lines., LineSet with 1 lines., LineSet with 1 lines., LineSet with 1 lines., LineSet with 1 lines., LineSet with 1 lines., LineSet with 1 lines., LineSet with 1 lines., LineSet with 1 lines., LineSet with 1 lines., LineSet with 1 lines., LineSet with 1 lines., LineSet with 1 lines., LineSet with 1 lines., LineSet with 1 lines., LineSet with 1 lines., LineSet with 1 lines., LineSet with 1 lines., LineSet with 1 lines., LineSet with 1 lines., LineSet with 1 lines., LineSet with 1 lines., LineSet with 1 lines., LineSet with 1 lines., LineSet with 4 lines., LineSet with 4 lines., LineSet with 1 lines., LineSet with 1 lines., LineSet with 1 lines., LineSet with 1 lines., LineSet with 1 lines., LineSet with 1 lines., LineSet with 1 lines., LineSet with 1 lines., LineSet with 1 lines., LineSet with 1 lines., LineSet with 1 lines., LineSet with 1 lines., LineSet with 1 lines., LineSet with 1 lines., LineSet with 1 lines., LineSet with 1 lines., LineSet with 1 lines., LineSet with 1 lines., LineSet with 1 lines., LineSet with 1 lines., LineSet with 1 lines., LineSet with 1 lines., LineSet with 1 lines., LineSet with 1 lines., LineSet with 1 lines., LineSet with 1 lines., LineSet with 1 lines., LineSet with 1 lines., LineSet with 1 lines., LineSet with 1 lines., LineSet with 1 lines., LineSet with 1 lines., LineSet with 1 lines., LineSet with 1 lines., LineSet with 1 lines., LineSet with 1 lines., LineSet with 1 lines., LineSet with 1 lines., LineSet with 1 lines., LineSet with 1 lines., LineSet with 1 lines., LineSet with 1 lines., LineSet with 1 lines., LineSet with 1 lines., LineSet with 1 lines., LineSet with 1 lines., LineSet with 1 lines., LineSet with 1 lines., LineSet with 1 lines., LineSet with 1 lines., LineSet with 1 lines., LineSet with 1 lines., LineSet with 1 lines., LineSet with 4 lines., LineSet with 1 lines., LineSet with 1 lines., LineSet with 1 lines., LineSet with 1 lines., LineSet with 1 lines., LineSet with 1 lines., LineSet with 1 lines., LineSet with 1 lines., LineSet with 1 lines., LineSet with 1 lines., LineSet with 1 lines., LineSet with 1 lines., LineSet with 1 lines., LineSet with 1 lines., LineSet with 1 lines., LineSet with 1 lines., LineSet with 1 lines., LineSet with 1 lines., LineSet with 1 lines., LineSet with 1 lines., LineSet with 1 lines., LineSet with 1 lines., LineSet with 1 lines., LineSet with 1 lines., LineSet with 1 lines., LineSet with 1 lines., LineSet with 1 lines., LineSet with 1 lines., LineSet with 1 lines., LineSet with 1 lines., LineSet with 1 lines., LineSet with 1 lines., LineSet with 1 lines., LineSet with 1 lines., LineSet with 1 lines., LineSet with 1 lines., LineSet with 1 lines., LineSet with 1 lines., LineSet with 1 lines., LineSet with 1 lines., LineSet with 1 lines., LineSet with 1 lines., LineSet with 1 lines., LineSet with 1 lines., LineSet with 1 lines., LineSet with 1 lines., LineSet with 1 lines., LineSet with 1 lines., LineSet with 1 lines., LineSet with 1 lines., LineSet with 1 lines., LineSet with 1 lines., LineSet with 1 lines., LineSet with 1 lines., LineSet with 1 lines., LineSet with 1 lines., LineSet with 1 lines., LineSet with 1 lines., LineSet with 1 lines., LineSet with 1 lines., LineSet with 1 lines., LineSet with 1 lines., LineSet with 1 lines., LineSet with 1 lines., LineSet with 1 lines., LineSet with 1 lines., LineSet with 1 lines., LineSet with 1 lines., LineSet with 1 lines., LineSet with 1 lines., LineSet with 1 lines., LineSet with 1 lines., LineSet with 1 lines., LineSet with 1 lines., LineSet with 1 lines., LineSet with 1 lines., LineSet with 1 lines., LineSet with 1 lines., LineSet with 1 lines., LineSet with 4 lines., LineSet with 4 lines., LineSet with 4 lines., LineSet with 4 lines., LineSet with 4 lines., LineSet with 4 lines., LineSet with 4 lines., LineSet with 4 lines., LineSet with 4 lines., LineSet with 4 lines., LineSet with 4 lines., LineSet with 4 lines., LineSet with 4 lines., LineSet with 4 lines., LineSet with 4 lines., LineSet with 4 lines., LineSet with 4 lines., LineSet with 4 lines., LineSet with 4 lines., LineSet with 4 lines., LineSet with 4 lines., LineSet with 4 lines., LineSet with 4 lines., LineSet with 4 lines., LineSet with 4 lines., LineSet with 4 lines., LineSet with 4 lines., LineSet with 4 lines., LineSet with 4 lines., LineSet with 4 lines., LineSet with 4 lines., LineSet with 4 lines., LineSet with 4 lines., LineSet with 4 lines., LineSet with 4 lines., LineSet with 4 lines., LineSet with 4 lines., LineSet with 4 lines., LineSet with 4 lines., LineSet with 4 lines., LineSet with 4 lines., LineSet with 4 lines., LineSet with 4 lines., LineSet with 4 lines., LineSet with 4 lines., LineSet with 4 lines., LineSet with 4 lines., LineSet with 4 lines., LineSet with 4 lines., LineSet with 4 lines., LineSet with 4 lines., LineSet with 4 lines., LineSet with 4 lines., LineSet with 4 lines., LineSet with 4 lines., LineSet with 4 lines., LineSet with 4 lines., LineSet with 4 lines., LineSet with 4 lines., LineSet with 4 lines., LineSet with 4 lines., LineSet with 4 lines., LineSet with 4 lines., LineSet with 4 lines., LineSet with 4 lines., LineSet with 4 lines., LineSet with 4 lines., LineSet with 4 lines., LineSet with 4 lines., LineSet with 1 lines., LineSet with 1 lines., LineSet with 1 lines., LineSet with 1 lines., LineSet with 1 lines., LineSet with 1 lines., LineSet with 1 lines., LineSet with 1 lines., LineSet with 1 lines., LineSet with 1 lines., LineSet with 1 lines., LineSet with 1 lines., LineSet with 1 lines., LineSet with 1 lines., LineSet with 1 lines., LineSet with 1 lines., LineSet with 1 lines., LineSet with 1 lines., LineSet with 1 lines., LineSet with 1 lines., LineSet with 1 lines., LineSet with 1 lines., LineSet with 1 lines., LineSet with 1 lines., LineSet with 1 lines., LineSet with 1 lines., LineSet with 1 lines., LineSet with 1 lines., LineSet with 1 lines., LineSet with 1 lines., LineSet with 1 lines., LineSet with 1 lines., LineSet with 1 lines., LineSet with 1 lines., LineSet with 1 lines., LineSet with 1 lines., LineSet with 1 lines., LineSet with 1 lines., LineSet with 1 lines., LineSet with 1 lines., LineSet with 1 lines., LineSet with 1 lines., LineSet with 1 lines., LineSet with 1 lines., LineSet with 1 lines., LineSet with 1 lines., LineSet with 1 lines., LineSet with 1 lines., LineSet with 1 lines., LineSet with 1 lines., LineSet with 1 lines., LineSet with 1 lines., LineSet with 1 lines., LineSet with 1 lines., LineSet with 1 lines., LineSet with 1 lines., LineSet with 1 lines., LineSet with 1 lines., LineSet with 1 lines., LineSet with 1 lines., LineSet with 1 lines., LineSet with 1 lines., LineSet with 1 lines., LineSet with 1 lines., LineSet with 1 lines., LineSet with 1 lines., LineSet with 1 lines., LineSet with 1 lines., LineSet with 1 lines., LineSet with 1 lines., LineSet with 1 lines., LineSet with 1 lines., LineSet with 3 lines., LineSet with 1 lines., LineSet with 1 lines., LineSet with 1 lines., LineSet with 1 lines., LineSet with 1 lines., LineSet with 1 lines., LineSet with 1 lines., LineSet with 1 lines., LineSet with 1 lines., LineSet with 1 lines., LineSet with 1 lines., LineSet with 1 lines., LineSet with 1 lines., LineSet with 1 lines., LineSet with 1 lines., LineSet with 1 lines., LineSet with 1 lines., LineSet with 1 lines., LineSet with 1 lines., LineSet with 1 lines., LineSet with 1 lines., LineSet with 1 lines., LineSet with 1 lines., LineSet with 1 lines., LineSet with 1 lines., LineSet with 1 lines., LineSet with 1 lines., LineSet with 1 lines., LineSet with 1 lines., LineSet with 1 lines., LineSet with 1 lines., LineSet with 1 lines., LineSet with 1 lines., LineSet with 1 lines., LineSet with 1 lines., LineSet with 1 lines., LineSet with 1 lines., LineSet with 1 lines., LineSet with 1 lines., LineSet with 1 lines., LineSet with 1 lines., LineSet with 1 lines., LineSet with 1 lines., LineSet with 1 lines., LineSet with 1 lines., LineSet with 1 lines., LineSet with 1 lines., LineSet with 1 lines., LineSet with 1 lines., LineSet with 1 lines., LineSet with 1 lines., LineSet with 1 lines., LineSet with 1 lines., LineSet with 1 lines., LineSet with 1 lines., LineSet with 1 lines., LineSet with 1 lines., LineSet with 1 lines., LineSet with 1 lines., LineSet with 1 lines., LineSet with 1 lines., LineSet with 1 lines., LineSet with 1 lines., LineSet with 1 lines., LineSet with 1 lines., LineSet with 1 lines., LineSet with 1 lines., LineSet with 1 lines., LineSet with 1 lines., LineSet with 1 lines., LineSet with 1 lines., LineSet with 1 lines., LineSet with 1 lines., LineSet with 1 lines., LineSet with 1 lines., LineSet with 3 lines., LineSet with 1 lines., LineSet with 1 lines., LineSet with 1 lines., LineSet with 1 lines., LineSet with 1 lines., LineSet with 1 lines., LineSet with 1 lines., LineSet with 1 lines., LineSet with 1 lines., LineSet with 1 lines., LineSet with 1 lines., LineSet with 1 lines., LineSet with 1 lines., LineSet with 1 lines., LineSet with 1 lines., LineSet with 1 lines., LineSet with 1 lines., LineSet with 1 lines., LineSet with 1 lines., LineSet with 1 lines., LineSet with 1 lines., LineSet with 1 lines., LineSet with 1 lines., LineSet with 1 lines., LineSet with 1 lines., LineSet with 1 lines., LineSet with 1 lines., LineSet with 1 lines., LineSet with 1 lines., LineSet with 1 lines., LineSet with 1 lines., LineSet with 1 lines., LineSet with 1 lines., LineSet with 1 lines., LineSet with 1 lines., LineSet with 1 lines., LineSet with 1 lines., LineSet with 1 lines., LineSet with 1 lines., LineSet with 1 lines., LineSet with 1 lines., LineSet with 1 lines., LineSet with 1 lines., LineSet with 1 lines., LineSet with 1 lines., LineSet with 1 lines., LineSet with 1 lines., LineSet with 1 lines., LineSet with 1 lines., LineSet with 1 lines., LineSet with 1 lines., LineSet with 1 lines., LineSet with 1 lines., LineSet with 1 lines., LineSet with 1 lines., LineSet with 1 lines., LineSet with 1 lines., LineSet with 1 lines., LineSet with 1 lines., LineSet with 1 lines., LineSet with 1 lines., LineSet with 1 lines., LineSet with 1 lines., LineSet with 1 lines., LineSet with 1 lines., LineSet with 1 lines., LineSet with 1 lines., LineSet with 1 lines., LineSet with 1 lines., LineSet with 1 lines., LineSet with 1 lines., LineSet with 1 lines., LineSet with 1 lines., LineSet with 3 lines., LineSet with 1 lines., LineSet with 3 lines., LineSet with 1 lines., LineSet with 3 lines., LineSet with 1 lines., LineSet with 3 lines., LineSet with 1 lines.]\n"
     ]
    }
   ],
   "source": [
    "print((linesets))"
   ]
  },
  {
   "cell_type": "code",
   "execution_count": null,
   "metadata": {},
   "outputs": [],
   "source": [
    "wallNodesBIM=linesets"
   ]
  },
  {
   "cell_type": "code",
   "execution_count": 94,
   "metadata": {},
   "outputs": [],
   "source": [
    "# Create a bounding box that covers all geometries\n",
    "min_bound = np.min([lineset.get_min_bound() for lineset in linesets], axis=0)\n",
    "max_bound = np.max([lineset.get_max_bound() for lineset in linesets], axis=0)\n",
    "bbox = o3d.geometry.AxisAlignedBoundingBox(min_bound, max_bound)\n",
    "\n",
    "# Add the bounding box to the list of geometries to draw\n",
    "geometries = linesets + [bbox]\n",
    "\n",
    "# Draw the geometries\n",
    "o3d.visualization.draw_geometries(geometries)"
   ]
  },
  {
   "cell_type": "code",
   "execution_count": 9,
   "metadata": {},
   "outputs": [
    {
     "data": {
      "image/png": "[encoded data removed]",
      "text/plain": [
       "<Figure size 640x480 with 1 Axes>"
      ]
     },
     "metadata": {},
     "output_type": "display_data"
    }
   ],
   "source": [
    "for element_points in points:\n",
    "    # Extract x and y coordinates from the points\n",
    "    x_coords = element_points['coordinates'][::2]\n",
    "    y_coords = element_points['coordinates'][1::2]\n",
    "\n",
    "    # Plot the lines connecting the points\n",
    "    plt.plot(x_coords, y_coords)\n",
    "\n",
    "# Add labels and title to the plot\n",
    "plt.xlabel('X Coordinate')\n",
    "plt.ylabel('Y Coordinate')\n",
    "plt.title('Lines Connecting Points of Elements')\n",
    "\n",
    "# Set the aspect ratio to 'equal'\n",
    "plt.gca().set_aspect('equal')\n",
    "\n",
    "# Display the plot\n",
    "plt.show()"
   ]
  },
  {
   "cell_type": "code",
   "execution_count": 10,
   "metadata": {},
   "outputs": [],
   "source": [
    "#paths\n",
    "path = r\"C:\\Users\\u0138247\\OneDrive - KU Leuven\\2024-05 CVPR scan-to-BIM challenge\"\n",
    "path= Path(path) \n",
    "input_folder_t4=path/'data'/'t4'/'test'\n",
    "input_folder_t6=path/'data'/'t6'/'test'\n",
    "class_file=path/'data'/'_classes.json'\n",
    "output_folder=path/'data'/'t8'/ 'test'\n",
    "os.makedirs(output_folder, exist_ok=True)"
   ]
  },
  {
   "cell_type": "code",
   "execution_count": 11,
   "metadata": {},
   "outputs": [
    {
     "name": "stdout",
     "output_type": "stream",
     "text": [
      "C:\\Users\\u0138247\\OneDrive - KU Leuven\\2024-05 CVPR scan-to-BIM challenge\\data\\_classes.json\n"
     ]
    }
   ],
   "source": [
    "print(class_file)"
   ]
  },
  {
   "cell_type": "code",
   "execution_count": 12,
   "metadata": {},
   "outputs": [
    {
     "name": "stdout",
     "output_type": "stream",
     "text": [
      "{'classes': [{'name': 'unassigned', 'id': 255, 'temp_id': 0, 'color': '#9da2ab'}, {'name': 'floors', 'id': 0, 'temp_id': 1, 'color': '#03c2fc'}, {'name': 'ceilings', 'id': 1, 'temp_id': 2, 'color': '#e81416'}, {'name': 'walls', 'id': 2, 'temp_id': 3, 'color': '#ffa500'}, {'name': 'columns', 'id': 3, 'temp_id': 4, 'color': '#faeb36'}, {'name': 'doors', 'id': 4, 'temp_id': 5, 'color': '#79c314'}, {'name': 'beams', 'id': 5, 'temp_id': 6, 'color': '#79c314'}], 'default': 255, 'type': 'semantic_segmentation', 'format': 'kitti', 'created_with': {'name': 'Saiga', 'version': '1.0.1'}}\n"
     ]
    }
   ],
   "source": [
    "# Read the JSON file\n",
    "with open(class_file, 'r') as file:\n",
    "    json_data = json.load(file)\n",
    "# Create a dictionary\n",
    "class_dict = {\n",
    "    'classes': json_data['classes'],\n",
    "    'default': json_data['default'],\n",
    "    'type': json_data['type'],\n",
    "    'format': json_data['format'],\n",
    "    'created_with': json_data['created_with']\n",
    "}\n",
    "print(class_dict)"
   ]
  },
  {
   "cell_type": "code",
   "execution_count": 13,
   "metadata": {},
   "outputs": [],
   "source": [
    "# Define the two transformation matrices\n",
    "A = np.array([[0.847, 0.532, 0.00, 65.443],\n",
    "              [-0.532, 0.847, -0.001, 69.782],\n",
    "              [-0.001, 0.000, 1.000, 12.491],\n",
    "              [0.00, 0.00, 0.00, 1.00]])\n",
    "\n",
    "B = np.array([[1.00, -0.003, -0.00, 0.067],\n",
    "              [0.003, 1.00, 0.00, 0.035],\n",
    "              [0.00, -0.00, 1.00, 0.02],\n",
    "              [0.00, 0.00, 0.00, 1.00]])\n",
    "\n",
    "C = np.array([[1.00, 0.00, 0.00, -0.004],\n",
    "              [0.00, 1.00, -0.00, 0.005],\n",
    "              [0.00, 0.00, 1.00, 0.00],\n",
    "              [0.00, 0.00, 0.00, 1.00]])\n",
    "\n",
    "# Multiply the two matrices\n",
    "transform_matrix = np.dot(A, B)\n",
    "transform_matrix = np.dot(transform_matrix, C)"
   ]
  },
  {
   "cell_type": "code",
   "execution_count": 14,
   "metadata": {},
   "outputs": [
    {
     "name": "stdout",
     "output_type": "stream",
     "text": [
      "[[ 8.48596000e-01  5.29459000e-01  0.00000000e+00  6.55176219e+01]\n",
      " [-5.29459000e-01  8.48596000e-01 -1.00000000e-03  6.97823418e+01]\n",
      " [-1.00000000e-03  3.00000000e-06  1.00000000e+00  1.25109370e+01]\n",
      " [ 0.00000000e+00  0.00000000e+00  0.00000000e+00  1.00000000e+00]]\n"
     ]
    }
   ],
   "source": [
    "print(transform_matrix)"
   ]
  },
  {
   "cell_type": "code",
   "execution_count": 15,
   "metadata": {},
   "outputs": [
    {
     "name": "stdout",
     "output_type": "stream",
     "text": [
      "processing 05_MedOffice_01_F2_small1...\n"
     ]
    }
   ],
   "source": [
    "f=r\"C:\\Users\\u0138247\\OneDrive - KU Leuven\\2024-05 CVPR scan-to-BIM challenge\\data\\t4\\train\\05_MedOffice_01_F2_small1.laz\"\n",
    "pcdNodes=[]\n",
    "# check if las/pcd variable is already defined\n",
    "print(f'processing {ut.get_filename(f)}...')\n",
    "las = laspy.read(f) if 'las' not in globals() else las\n",
    "# for i in las['classes']:\n",
    "#     if i not in [255, 2]:\n",
    "#         print(i)\n",
    "pcd=gmu.las_to_pcd(las,transform=transform_matrix,getNormals=True) if 'pcd' not in globals() else pcd # this is the slowest step\n",
    "#seperate initial objects\n",
    "for c in class_dict['classes']:\n",
    "    if c['id'] in [0,1,2,3,4,255]:\n",
    "        idx=np.where((las['classes']==c['id']))[0]\n",
    "        class_pcd=pcd.select_by_index(idx)\n",
    "        object_labels=las['objects'][idx]\n",
    "        for j in np.unique(object_labels):\n",
    "            indices=np.where(object_labels==j)[0]\n",
    "            object_pcd=class_pcd.select_by_index(indices)\n",
    "            pcdNodes.append(PointCloudNode(resource=object_pcd,\n",
    "                                        class_id=c['id'],\n",
    "                                        object_id=j,\n",
    "                                        color=ut.random_color(),\n",
    "                                        name=c['name']+f'_{str(j)}'))\n",
    "        #all further processing will be placed here (or in functions)!\n",
    "        # print( c['name'], f': {len(pcdNodes)} Nodes found')"
   ]
  },
  {
   "cell_type": "code",
   "execution_count": 16,
   "metadata": {},
   "outputs": [],
   "source": [
    "o3d.visualization.draw_geometries([pcd])"
   ]
  },
  {
   "cell_type": "code",
   "execution_count": 17,
   "metadata": {},
   "outputs": [
    {
     "name": "stdout",
     "output_type": "stream",
     "text": [
      "289\n"
     ]
    }
   ],
   "source": [
    "print(len(pcdNodes))"
   ]
  },
  {
   "cell_type": "code",
   "execution_count": 18,
   "metadata": {},
   "outputs": [
    {
     "name": "stdout",
     "output_type": "stream",
     "text": [
      "1 clutterNodes detected!\n",
      "1 floorsNodes detected!\n",
      "1 ceilingsNodes detected!\n",
      "145 wallNodes detected!\n",
      "25 columnNodes detected!\n",
      "116 doorNodes detected!\n",
      "0 windowNodes detected!\n"
     ]
    }
   ],
   "source": [
    "clutterPCDNodes=[n for n in pcdNodes if 'unassigned' in n.name and type(n)==PointCloudNode]\n",
    "floorPCDNodes=[n for n in pcdNodes if 'floors' in n.name and type(n)==PointCloudNode]\n",
    "ceilingPCDNodes=[n for n in pcdNodes if 'ceilings' in n.name and type(n)==PointCloudNode]\n",
    "wallPCDNodes=[n for n in pcdNodes if 'walls' in n.name and type(n)==PointCloudNode]\n",
    "columnPCDNodes=[n for n in pcdNodes if 'columns' in n.name and type(n)==PointCloudNode]\n",
    "doorPCDNodes=[n for n in pcdNodes if 'doors' in n.name and type(n)==PointCloudNode]\n",
    "windowPCDNodes=[n for n in pcdNodes if 'windows' in n.name and type(n)==PointCloudNode]\n",
    "print(f'{len(clutterPCDNodes)} clutterNodes detected!')\n",
    "print(f'{len(floorPCDNodes)} floorsNodes detected!')\n",
    "print(f'{len(ceilingPCDNodes)} ceilingsNodes detected!')\n",
    "print(f'{len(wallPCDNodes)} wallNodes detected!')\n",
    "print(f'{len(columnPCDNodes)} columnNodes detected!')\n",
    "print(f'{len(doorPCDNodes)} doorNodes detected!')\n",
    "print(f'{len(windowPCDNodes)} windowNodes detected!')"
   ]
  },
  {
   "cell_type": "code",
   "execution_count": 19,
   "metadata": {},
   "outputs": [],
   "source": [
    "# for n in clutterPCDNodes+floorPCDNodes+ceilingPCDNodes+columnPCDNodes+doorPCDNodes+windowPCDNodes: # this is quite slow because you iterate through 2 scalar fields every time\n",
    "#     idx=np.where((las['classes']==n.class_id) & (las['objects']==n.object_id))\n",
    "#     pcd=o3d.geometry.PointCloud()\n",
    "#     pcd.points=o3d.utility.Vector3dVector(las.xyz[idx])\n",
    "#     red = las['red'][idx]\n",
    "#     green = las['green'][idx]\n",
    "#     blue = las['blue'][idx]\n",
    "#     #if color is 32 bit, only keep 8 bit color\n",
    "#     if red.max()>255:\n",
    "#         red = las['red'][idx] >> 8 & 0xFF\n",
    "#         green = las['green'][idx] >> 8 & 0xFF\n",
    "#         blue = las['blue'][idx] >> 8 & 0xFF\n",
    "#     # if colorspace is [0-255] -> remap to [0-1]\n",
    "#     if red.max() >1:\n",
    "#         red=red/255\n",
    "#         green=green/255\n",
    "#         blue=blue/255\n",
    "#     pcd.colors=o3d.utility.Vector3dVector(np.vstack((red,green,blue)).transpose())\n",
    "#     n.resource=pcd\n",
    "#     n.get_oriented_bounding_box()\n",
    "#     n.orientedBoundingBox.color=[1,0,0]"
   ]
  },
  {
   "cell_type": "code",
   "execution_count": 20,
   "metadata": {},
   "outputs": [],
   "source": [
    "# for n in wallPCDNodes:#+ceilingsNodes+floorsNodes: # this is quite slow because you iterate through 2 scalar fields every time\n",
    "#     idx=np.where((las['classes']==n.class_id) & (las['objects']==n.object_id))\n",
    "#     pcd=o3d.geometry.PointCloud()\n",
    "#     pcd.points=o3d.utility.Vector3dVector(las.xyz[idx])\n",
    "#     pcd.paint_uniform_color([0.5,0.5,0.5])\n",
    "#     red = las['red'][idx]\n",
    "#     green = las['green'][idx]\n",
    "#     blue = las['blue'][idx]\n",
    "#     #if color is 32 bit, only keep 8 bit color\n",
    "#     if red.max()>255:\n",
    "#         red = las['red'][idx] >> 8 & 0xFF\n",
    "#         green = las['green'][idx] >> 8 & 0xFF\n",
    "#         blue = las['blue'][idx] >> 8 & 0xFF\n",
    "#     # if colorspace is [0-255] -> remap to [0-1]\n",
    "#     if red.max() >1:\n",
    "#         red=red/255\n",
    "#         green=green/255\n",
    "#         blue=blue/255\n",
    "#     pcd.colors=o3d.utility.Vector3dVector(np.column_stack((red, green, blue)))\n",
    "#     n.resource=pcd\n",
    "#     n.get_oriented_bounding_box()\n",
    "#     n.orientedBoundingBox.color=[1,0,0]"
   ]
  },
  {
   "cell_type": "code",
   "execution_count": 21,
   "metadata": {},
   "outputs": [
    {
     "name": "stdout",
     "output_type": "stream",
     "text": [
      "[<geomapi.nodes.pointcloudnode.PointCloudNode object at 0x00000291192B3E80>]\n"
     ]
    }
   ],
   "source": [
    "print(ceilingPCDNodes)"
   ]
  },
  {
   "cell_type": "code",
   "execution_count": 22,
   "metadata": {},
   "outputs": [
    {
     "data": {
      "text/plain": [
       "PointCloud with 5737921 points."
      ]
     },
     "execution_count": 22,
     "metadata": {},
     "output_type": "execute_result"
    }
   ],
   "source": [
    "ceilingPCDNodes[0].resource.paint_uniform_color([1,0,0])"
   ]
  },
  {
   "cell_type": "code",
   "execution_count": 23,
   "metadata": {},
   "outputs": [],
   "source": [
    "point_cloud_o3d=ceilingPCDNodes[0].resource"
   ]
  },
  {
   "cell_type": "code",
   "execution_count": 24,
   "metadata": {},
   "outputs": [],
   "source": [
    "o3d.visualization.draw_geometries([point_cloud_o3d]+geometries)"
   ]
  },
  {
   "cell_type": "code",
   "execution_count": 25,
   "metadata": {},
   "outputs": [],
   "source": [
    "# Convert the Open3D point cloud to a NumPy array\n",
    "pointcloud_np = np.asarray(ceilingPCDNodes[0].resource.points)\n",
    "\n",
    "# Generate the 2D projection of the point cloud onto the x-y plane (nadir view)\n",
    "nadir_view = pointcloud_np[:, :2]  # Only considering x, y coordinates\n",
    "\n",
    "# Determine the range of x and y coordinates\n",
    "x_min, x_max = nadir_view[:, 0].min(), nadir_view[:, 0].max()\n",
    "y_min, y_max = nadir_view[:, 1].min(), nadir_view[:, 1].max()"
   ]
  },
  {
   "cell_type": "code",
   "execution_count": 26,
   "metadata": {},
   "outputs": [],
   "source": [
    "# Convert the Open3D point cloud to a NumPy array\n",
    "points = np.asarray(point_cloud_o3d.points)\n",
    "colors = np.asarray(point_cloud_o3d.colors)\n",
    "\n",
    "# # Plot the nadir view image with real colors\n",
    "# plt.figure(figsize=(8, 6))\n",
    "# plt.imshow(np.zeros((10, 10)).T, extent=[x_min, x_max, y_min, y_max], origin='lower', cmap='gray')  # Replace np.zeros((10, 10)) with your own data if necessary\n",
    "# plt.scatter(points[:, 0], points[:, 1], c=colors, s=1)  # Plot points with real colors\n",
    "# plt.axis('off')  # Turn off axis labels and ticks\n",
    "\n",
    "\n",
    "# plt.gca().set_position([0, 0, 1, 1])  # Set the plot area to cover the whole figure\n",
    "# plt.savefig(r\"C:\\Users\\u0138247\\OneDrive - KU Leuven\\2024-05 CVPR scan-to-BIM challenge\\code\\Scan-to-BIM-CVPR-2024-HDW\\point_cloud_image.png\", bbox_inches='tight', pad_inches=0, dpi=300)  # Save the figure without extra whitespace and set DPI\n",
    "# plt.close()  # Close the figure to release memory\n",
    "\n",
    "\n",
    "# # Save axis limits to a file\n",
    "# with open(r\"C:\\Users\\u0138247\\OneDrive - KU Leuven\\2024-05 CVPR scan-to-BIM challenge\\code\\Scan-to-BIM-CVPR-2024-HDW\\axis_limits.txt\", \"w\") as f:\n",
    "#     f.write(f\"x_min: {x_min}\\n\")\n",
    "#     f.write(f\"x_max: {x_max}\\n\")\n",
    "#     f.write(f\"y_min: {y_min}\\n\")\n",
    "#     f.write(f\"y_max: {y_max}\\n\")\n",
    "\n",
    "# print(\"Image saved as point_cloud_image.png\")\n",
    "# print(\"Axis limits saved as axis_limits.txt\")\n"
   ]
  },
  {
   "cell_type": "code",
   "execution_count": 27,
   "metadata": {},
   "outputs": [
    {
     "name": "stdout",
     "output_type": "stream",
     "text": [
      "[[ 99.62049722 101.98619942  19.46919313]\n",
      " [ 99.63638099 102.0116573   19.46919322]\n",
      " [ 99.51881186 101.86100324  19.47921265]\n",
      " ...\n",
      " [ 44.31644485  68.03489316  15.37795892]\n",
      " [ 44.10335386  68.01457371  15.38812852]\n",
      " [ 38.01751529  64.04250061  15.36116875]]\n"
     ]
    }
   ],
   "source": [
    "print(points)"
   ]
  },
  {
   "cell_type": "code",
   "execution_count": 28,
   "metadata": {},
   "outputs": [
    {
     "name": "stdout",
     "output_type": "stream",
     "text": [
      "Sub-images saved as point_cloud_image_0_0.png\n",
      "Axis limits saved as axis_limits_0_0.txt\n",
      "Sub-images saved as point_cloud_image_0_1.png\n",
      "Axis limits saved as axis_limits_0_1.txt\n",
      "Sub-images saved as point_cloud_image_0_2.png\n",
      "Axis limits saved as axis_limits_0_2.txt\n",
      "Sub-images saved as point_cloud_image_0_3.png\n",
      "Axis limits saved as axis_limits_0_3.txt\n",
      "Sub-images saved as point_cloud_image_1_0.png\n",
      "Axis limits saved as axis_limits_1_0.txt\n",
      "Sub-images saved as point_cloud_image_1_1.png\n",
      "Axis limits saved as axis_limits_1_1.txt\n",
      "Sub-images saved as point_cloud_image_1_2.png\n",
      "Axis limits saved as axis_limits_1_2.txt\n",
      "Sub-images saved as point_cloud_image_1_3.png\n",
      "Axis limits saved as axis_limits_1_3.txt\n",
      "Sub-images saved as point_cloud_image_2_0.png\n",
      "Axis limits saved as axis_limits_2_0.txt\n",
      "Sub-images saved as point_cloud_image_2_1.png\n",
      "Axis limits saved as axis_limits_2_1.txt\n",
      "Sub-images saved as point_cloud_image_2_2.png\n",
      "Axis limits saved as axis_limits_2_2.txt\n",
      "Sub-images saved as point_cloud_image_2_3.png\n",
      "Axis limits saved as axis_limits_2_3.txt\n"
     ]
    }
   ],
   "source": [
    "import numpy as np\n",
    "import matplotlib.pyplot as plt\n",
    "\n",
    "# Define the size of the sub-images\n",
    "sub_image_size = 25  # Adjust this value as needed\n",
    "\n",
    "# Calculate the number of sub-images in the x and y directions\n",
    "num_sub_images_x = int(np.ceil((x_max - x_min) / sub_image_size))\n",
    "num_sub_images_y = int(np.ceil((y_max - y_min) / sub_image_size))\n",
    "\n",
    "# For each sub-image...\n",
    "for i in range(num_sub_images_x):\n",
    "    for j in range(num_sub_images_y):\n",
    "        # Calculate the x and y range of the sub-image\n",
    "        x_min_sub = x_min + i * sub_image_size\n",
    "        x_max_sub = min(x_min_sub + sub_image_size, x_max)\n",
    "        y_min_sub = y_min + j * sub_image_size\n",
    "        y_max_sub = min(y_min_sub + sub_image_size, y_max)\n",
    "\n",
    "        # Extract the points that fall within the sub-image\n",
    "        mask = ((points[:, 0] >= x_min_sub) & (points[:, 0] < x_max_sub) &\n",
    "                (points[:, 1] >= y_min_sub) & (points[:, 1] < y_max_sub))\n",
    "        points_sub = points[mask]\n",
    "        colors_sub = colors[mask]\n",
    "\n",
    "        # Plot the sub-image\n",
    "        plt.figure(figsize=(8, 6))\n",
    "        plt.imshow(np.zeros((10, 10)).T, extent=[x_min_sub, x_max_sub, y_min_sub, y_max_sub], origin='lower', cmap='gray')\n",
    "        plt.scatter(points_sub[:, 0], points_sub[:, 1], c=colors_sub, s=1)\n",
    "        plt.axis('off')\n",
    "        plt.gca().set_position([0, 0, 1, 1])\n",
    "\n",
    "        # Save the sub-image\n",
    "        plt.savefig(f\"C:\\\\Users\\\\u0138247\\\\OneDrive - KU Leuven\\\\2024-05 CVPR scan-to-BIM challenge\\\\code\\\\Scan-to-BIM-CVPR-2024-HDW\\\\point_cloud_image_{i}_{j}.png\", bbox_inches='tight', pad_inches=0, dpi=300)\n",
    "        plt.close()\n",
    "\n",
    "        # Save the axis limits of the sub-image\n",
    "        with open(f\"C:\\\\Users\\\\u0138247\\\\OneDrive - KU Leuven\\\\2024-05 CVPR scan-to-BIM challenge\\\\code\\\\Scan-to-BIM-CVPR-2024-HDW\\\\axis_limits_{i}_{j}.txt\", \"w\") as f:\n",
    "            f.write(f\"x_min: {x_min_sub}\\n\")\n",
    "            f.write(f\"x_max: {x_max_sub}\\n\")\n",
    "            f.write(f\"y_min: {y_min_sub}\\n\")\n",
    "            f.write(f\"y_max: {y_max_sub}\\n\")\n",
    "\n",
    "        print(f\"Sub-images saved as point_cloud_image_{i}_{j}.png\")\n",
    "        print(f\"Axis limits saved as axis_limits_{i}_{j}.txt\")"
   ]
  },
  {
   "cell_type": "code",
   "execution_count": 29,
   "metadata": {},
   "outputs": [],
   "source": [
    "# geometries=[]\n",
    "# for wallNode in wallPCDNodes:\n",
    "#     geometries.append(wallNode.resource)\n",
    "\n",
    "# o3d.visualization.draw_geometries(geometries)"
   ]
  },
  {
   "cell_type": "markdown",
   "metadata": {},
   "source": [
    "try to do with one then go with all"
   ]
  },
  {
   "cell_type": "code",
   "execution_count": 30,
   "metadata": {},
   "outputs": [],
   "source": [
    "# Get the current directory\n",
    "current_dir = r\"C:\\Users\\u0138247\\OneDrive - KU Leuven\\2024-05 CVPR scan-to-BIM challenge\\code\\Scan-to-BIM-CVPR-2024-HDW\"\n",
    "\n",
    "# List all the files in the directory\n",
    "files = os.listdir(current_dir)\n",
    "\n",
    "png_files = [file for file in files if file.endswith(\".png\") and \"point_cloud_image\" in file]\n",
    "\n",
    "# # Filter the files to only include .png files\n",
    "# png_files = [file for file in files if file.endswith(\".png\")]\n",
    "# Create an ImageNode for each .png file\n",
    "image_nodes = []\n",
    "\n",
    "for png_file in png_files:\n",
    "    image_node = ImageNode(path=os.path.join(current_dir, png_file))\n",
    "    image_nodes.append(image_node)"
   ]
  },
  {
   "cell_type": "code",
   "execution_count": 31,
   "metadata": {},
   "outputs": [],
   "source": [
    "txt_files = glob.glob(f\"{current_dir}/*axis_limits*.txt\")\n",
    "\n",
    "\n",
    "for i,txt_file in enumerate(txt_files):\n",
    "    # Read the content of the txt file\n",
    "    with open(txt_file, 'r') as file:\n",
    "        content = file.read()\n",
    "    # Extract the values from the content using regular expressions\n",
    "    x_min = re.findall(r'x_min: ([-+]?\\d*\\.\\d+|\\d+)', content)\n",
    "    x_max = re.findall(r'x_max: ([-+]?\\d*\\.\\d+|\\d+)', content)\n",
    "    y_min = re.findall(r'y_min: ([-+]?\\d*\\.\\d+|\\d+)', content)\n",
    "    y_max = re.findall(r'y_max: ([-+]?\\d*\\.\\d+|\\d+)', content)\n",
    "    # print(x_min, x_max, y_min, y_max)\n",
    "    for i in range(len(image_nodes)):\n",
    "        if  txt_file.split(\"\\\\\")[-1].replace(\"axis_limits_\", \"\").replace(\".txt\", \"\") in image_nodes[i].name :\n",
    "            image_nodes[i].x_min = float(x_min[0]) if x_min else None\n",
    "            image_nodes[i].x_max = float(x_max[0]) if x_max else None\n",
    "            image_nodes[i].y_min = float(y_min[0]) if y_min else None\n",
    "            image_nodes[i].y_max = float(y_max[0]) if y_max else None\n"
   ]
  },
  {
   "cell_type": "code",
   "execution_count": 32,
   "metadata": {},
   "outputs": [],
   "source": [
    "for image_node in image_nodes:\n",
    "    string = image_node.name\n",
    "    result = string.split(\"_\")[-2:]\n",
    "    result = \"_\".join(result)\n",
    "    graphPath = f\"C:\\\\Users\\\\u0138247\\\\OneDrive - KU Leuven\\\\2024-05 CVPR scan-to-BIM challenge\\\\code\\\\Scan-to-BIM-CVPR-2024-HDW\\\\Image_node_graph_{result}.ttl\"\n",
    "    # print(graphPath)\n",
    "    image_node.to_graph(graphPath,save=True)\n",
    "\n"
   ]
  },
  {
   "cell_type": "code",
   "execution_count": 33,
   "metadata": {},
   "outputs": [],
   "source": [
    "for png_file in png_files:\n",
    "    full_path = os.path.join(current_dir, png_file)\n",
    "    image = cv2.imread(full_path)\n",
    "    height, width, channels = image.shape\n",
    "    for i in range(len(image_nodes)):\n",
    "        if  png_file.split(\"\\\\\")[-1].replace(\"point_cloud_image_\", \"\").replace(\".png\", \"\") in image_nodes[i].name :\n",
    "            image_nodes[i].height = height\n",
    "            image_nodes[i].width = width\n",
    "    # print(height, width, channels)"
   ]
  },
  {
   "cell_type": "code",
   "execution_count": 34,
   "metadata": {},
   "outputs": [],
   "source": [
    "for image_node in image_nodes:\n",
    "    image_node.real_width = image_node.x_max-image_node.x_min\n",
    "    image_node.gsd_x=image_node.real_width/image_node.width\n",
    "    image_node.real_height = image_node.y_max-image_node.y_min\n",
    "    image_node.gsd_y=image_node.real_height/image_node.height\n",
    "\n"
   ]
  },
  {
   "cell_type": "code",
   "execution_count": 35,
   "metadata": {},
   "outputs": [],
   "source": [
    "def initiate_hed():\n",
    "    \"\"\"Initializes the Holistically-Nested Edge Detection (HED) model.\n",
    "\n",
    "    This function initializes the HED model for edge detection using the provided pretrained weights and prototxt file.\n",
    "\n",
    "    Returns:\n",
    "        tuple:  the HED model.\n",
    "    \"\"\"\n",
    "    proto_path = r\"C:\\Users\\u0138247\\OneDrive - KU Leuven\\2024-05 CVPR scan-to-BIM challenge\\code\\Scan-to-BIM-CVPR-2024-HDW\\hed\\examples\\hed\\deploy.prototxt\"\n",
    "    model_path = r\"C:\\Users\\u0138247\\OneDrive - KU Leuven\\2024-05 CVPR scan-to-BIM challenge\\code\\Scan-to-BIM-CVPR-2024-HDW\\hed\\examples\\hed\\hed_pretrained_bsds.caffemodel\"\n",
    "    hed_net = cv2.dnn.readNetFromCaffe(proto_path, model_path)\n",
    "\n",
    "    class CropLayer(object):\n",
    "        def __init__(self, params, blobs):\n",
    "            self.startX = 0\n",
    "            self.startY = 0\n",
    "            self.endX = 0\n",
    "            self.endY = 0\n",
    "\n",
    "        def getMemoryShapes(self, inputs):\n",
    "            (inputShape, targetShape) = (inputs[0], inputs[1])\n",
    "            (batchSize, numChannels) = (inputShape[0], inputShape[1])\n",
    "            (H, W) = (targetShape[2], targetShape[3])\n",
    "\n",
    "            self.startX = int((inputShape[3] - targetShape[3]) / 2)\n",
    "            self.startY = int((inputShape[2] - targetShape[2]) / 2)\n",
    "            self.endX = self.startX + W\n",
    "            self.endY = self.startY + H\n",
    "\n",
    "            return [[batchSize, numChannels, H, W]]\n",
    "\n",
    "        def forward(self, inputs):\n",
    "            return [inputs[0][:, :, self.startY:self.endY,\n",
    "                    self.startX:self.endX]]\n",
    "\n",
    "    cv2.dnn_registerLayer(\"Crop\", CropLayer)\n",
    "\n",
    "    return  hed_net"
   ]
  },
  {
   "cell_type": "code",
   "execution_count": 36,
   "metadata": {},
   "outputs": [],
   "source": [
    "net = initiate_hed()"
   ]
  },
  {
   "cell_type": "code",
   "execution_count": 37,
   "metadata": {},
   "outputs": [],
   "source": [
    "def create_HED(img_cv,number):\n",
    "    \"\"\"Create Holistically-Nested Edge Detection (HED) images and masked HED images.\n",
    "\n",
    "    This function takes a list of images (`img_nodes`), an HED network (`net`), and information about additional lines\n",
    "    (beginning and ending points) in homogeneous coordinates. It processes the images with the HED model to create edge\n",
    "    maps and saves both the HED images and masked HED images to the output directory.\n",
    "\n",
    "    Args:\n",
    "        img_nodes (list): A list of image nodes containing information about images.\n",
    "        output (str): The path to the output directory where HED images will be saved.\n",
    "        net: The initialized HED network.\n",
    "        hom_begin_points_ad (list): A list of lists containing the homogeneous coordinates of beginning points of additional lines.\n",
    "        hom_end_points_ad (list): A list of lists containing the homogeneous coordinates of ending points of additional lines.\n",
    "\n",
    "    Returns:\n",
    "        None\n",
    "    \"\"\"\n",
    "    # print(img_cv)\n",
    "    output_dir = r\"C:\\Users\\u0138247\\OneDrive - KU Leuven\\2024-05 CVPR scan-to-BIM challenge\\code\\Scan-to-BIM-CVPR-2024-HDW\"\n",
    "    im = cv2.imread(img_cv)\n",
    "    H, W = im.shape[0:2]\n",
    "    # print(H, W)\n",
    "    blob = cv2.dnn.blobFromImage(im, scalefactor=1, size=(W, H),\n",
    "                                    mean=(100, 180, 100),\n",
    "                                    swapRB=False, crop=False)\n",
    "    # print(blob.shape)   \n",
    "    net.setInput(blob)\n",
    "    hed = net.forward()\n",
    "    hed = hed[0, 0, :, :]\n",
    "    threshold = 0.65\n",
    "    hed = (hed > threshold) * 255\n",
    "    hed = hed.astype(\"uint8\")\n",
    "    # print(hed.shape)\n",
    "    \n",
    "    output_image_name = os.path.join(output_dir, f\"image_HED_{number}.jpg\")\n",
    "    # print(output_image_name)\n",
    "    \n",
    "    cv2.imwrite(output_image_name, hed)"
   ]
  },
  {
   "cell_type": "code",
   "execution_count": 38,
   "metadata": {},
   "outputs": [],
   "source": [
    "for png_file in png_files:\n",
    "    full_path = os.path.join(current_dir, png_file)\n",
    "    string = png_file\n",
    "    result = string.split(\"_\")[-2:]\n",
    "    number = \"_\".join(result)\n",
    "    number = number.replace(\".png\", \"\")\n",
    "    create_HED(full_path,number)\n"
   ]
  },
  {
   "cell_type": "code",
   "execution_count": 39,
   "metadata": {},
   "outputs": [],
   "source": [
    "def detect_ab_lines(image,number):\n",
    "    \"\"\"Detect and save additional lines (ablines) in images.\n",
    "\n",
    "    This function takes a list of images (`img_nodes`), paths to masked HED images, and information about additional\n",
    "    lines (beginning and ending points) in homogeneous coordinates. It detects additional lines in the images using\n",
    "    edge detection and Hough line transform, then saves the images with detected lines to the output directory.\n",
    "\n",
    "    Args:\n",
    "        output (str): The path to the output directory where images with ablines will be saved.\n",
    "        hom_begin_points_ad (list): A list of lists containing the homogeneous coordinates of beginning points of additional lines.\n",
    "        hom_end_points_ad (list): A list of lists containing the homogeneous coordinates of ending points of additional lines.\n",
    "        img_nodes (list): A list of image nodes containing information about images and ablines.\n",
    "\n",
    "    Returns:\n",
    "        list: A list of image nodes with detected ablines.\n",
    "    \"\"\"\n",
    "    # image= r\"C:\\Users\\u0138247\\OneDrive - KU Leuven\\2024-05 CVPR scan-to-BIM challenge\\code\\Scan-to-BIM-CVPR-2024-HDW\\image_HED_ceiling.jpg\"\n",
    "    img = cv2.imread(image, cv2.IMREAD_ANYCOLOR)\n",
    "    _, binarized_edges = cv2.threshold(img, 128, 255, cv2.THRESH_BINARY)\n",
    "    skeleton = cv2.ximgproc.thinning(binarized_edges)\n",
    "    skeleton_rgb = cv2.cvtColor(skeleton, cv2.COLOR_GRAY2RGB)\n",
    "    # # Convert the image to grayscale\n",
    "    # gray_img = cv2.cvtColor(img, cv2.COLOR_BGR2GRAY)\n",
    "\n",
    "    # # Apply thinning operation on the grayscale image\n",
    "    # skeleton = cv2.ximgproc.thinning(gray_img)\n",
    "\n",
    "    # # Convert the skeleton image back to RGB\n",
    "    # skeleton_rgb = cv2.cvtColor(skeleton, cv2.COLOR_GRAY2RGB)\n",
    "\n",
    "    edges = cv2.GaussianBlur(skeleton, (5, 5), 0)\n",
    "    edges = cv2.Canny(edges, 0.5, 1, apertureSize=3)\n",
    "\n",
    "    lines = cv2.HoughLinesP(edges, rho=1, theta=np.pi / 180, threshold=100, minLineLength=150, maxLineGap=30)\n",
    "\n",
    "    ablineset = []\n",
    "    if lines is not None:\n",
    "        for line in lines:\n",
    "            x1, y1, x2, y2 = line[0]\n",
    "            line2 = ((x1, y1), (x2, y2))\n",
    "            ablineset.append(line2)\n",
    "            cv2.line(skeleton_rgb, (x1, y1), (x2, y2), (255, 0, 0), thickness=1)\n",
    "\n",
    "    output_image_name = os.path.join(r\"C:\\Users\\u0138247\\OneDrive - KU Leuven\\2024-05 CVPR scan-to-BIM challenge\\code\\Scan-to-BIM-CVPR-2024-HDW\", f\"image_ab_lines{number}.jpg\")\n",
    "    cv2.imwrite(output_image_name, skeleton_rgb)\n",
    "\n",
    "    output_image_name = os.path.join(r\"C:\\Users\\u0138247\\OneDrive - KU Leuven\\2024-05 CVPR scan-to-BIM challenge\\code\\Scan-to-BIM-CVPR-2024-HDW\", f\"image_skeleton{number}.jpg\")\n",
    "    cv2.imwrite(output_image_name, skeleton)\n",
    "\n",
    "    return ablineset\n"
   ]
  },
  {
   "cell_type": "code",
   "execution_count": 40,
   "metadata": {},
   "outputs": [
    {
     "name": "stdout",
     "output_type": "stream",
     "text": [
      "0_0\n",
      "C:\\Users\\u0138247\\OneDrive - KU Leuven\\2024-05 CVPR scan-to-BIM challenge\\code\\Scan-to-BIM-CVPR-2024-HDW\\image_HED_0_0.jpg\n",
      "0_1\n",
      "C:\\Users\\u0138247\\OneDrive - KU Leuven\\2024-05 CVPR scan-to-BIM challenge\\code\\Scan-to-BIM-CVPR-2024-HDW\\image_HED_0_1.jpg\n",
      "0_2\n",
      "C:\\Users\\u0138247\\OneDrive - KU Leuven\\2024-05 CVPR scan-to-BIM challenge\\code\\Scan-to-BIM-CVPR-2024-HDW\\image_HED_0_2.jpg\n",
      "0_3\n",
      "C:\\Users\\u0138247\\OneDrive - KU Leuven\\2024-05 CVPR scan-to-BIM challenge\\code\\Scan-to-BIM-CVPR-2024-HDW\\image_HED_0_3.jpg\n",
      "1_0\n",
      "C:\\Users\\u0138247\\OneDrive - KU Leuven\\2024-05 CVPR scan-to-BIM challenge\\code\\Scan-to-BIM-CVPR-2024-HDW\\image_HED_1_0.jpg\n",
      "1_1\n",
      "C:\\Users\\u0138247\\OneDrive - KU Leuven\\2024-05 CVPR scan-to-BIM challenge\\code\\Scan-to-BIM-CVPR-2024-HDW\\image_HED_1_1.jpg\n",
      "1_2\n",
      "C:\\Users\\u0138247\\OneDrive - KU Leuven\\2024-05 CVPR scan-to-BIM challenge\\code\\Scan-to-BIM-CVPR-2024-HDW\\image_HED_1_2.jpg\n",
      "1_3\n",
      "C:\\Users\\u0138247\\OneDrive - KU Leuven\\2024-05 CVPR scan-to-BIM challenge\\code\\Scan-to-BIM-CVPR-2024-HDW\\image_HED_1_3.jpg\n",
      "2_0\n",
      "C:\\Users\\u0138247\\OneDrive - KU Leuven\\2024-05 CVPR scan-to-BIM challenge\\code\\Scan-to-BIM-CVPR-2024-HDW\\image_HED_2_0.jpg\n",
      "2_1\n",
      "C:\\Users\\u0138247\\OneDrive - KU Leuven\\2024-05 CVPR scan-to-BIM challenge\\code\\Scan-to-BIM-CVPR-2024-HDW\\image_HED_2_1.jpg\n",
      "2_2\n",
      "C:\\Users\\u0138247\\OneDrive - KU Leuven\\2024-05 CVPR scan-to-BIM challenge\\code\\Scan-to-BIM-CVPR-2024-HDW\\image_HED_2_2.jpg\n",
      "2_3\n",
      "C:\\Users\\u0138247\\OneDrive - KU Leuven\\2024-05 CVPR scan-to-BIM challenge\\code\\Scan-to-BIM-CVPR-2024-HDW\\image_HED_2_3.jpg\n"
     ]
    }
   ],
   "source": [
    "path = r\"C:\\Users\\u0138247\\OneDrive - KU Leuven\\2024-05 CVPR scan-to-BIM challenge\\code\\Scan-to-BIM-CVPR-2024-HDW\"\n",
    "files = glob.glob(path + \"/*image_HED*.jpg\")\n",
    "# print(files)\n",
    "\n",
    "for jpg_file in files:\n",
    "    full_path = os.path.join(current_dir, jpg_file)\n",
    "    string = jpg_file\n",
    "    result = string.split(\"_\")[-2:]\n",
    "    number = \"_\".join(result)\n",
    "    number = number.replace(\".jpg\", \"\")\n",
    "    print(number)\n",
    "    print(full_path)\n",
    "    ablineset=detect_ab_lines(full_path,number)\n",
    "    for i in range(len(image_nodes)):\n",
    "        if number in image_nodes[i].name:\n",
    "            image_nodes[i].ablineset = ablineset"
   ]
  },
  {
   "cell_type": "code",
   "execution_count": 41,
   "metadata": {},
   "outputs": [],
   "source": [
    "def transform_coordinates(ablineset, gsd_x, gsd_y, x_min, y_min,height):\n",
    "    transformed_lines = []\n",
    "\n",
    "    for line in ablineset:\n",
    "        # print(line)\n",
    "        # print(line[0])\n",
    "        x1 = x_min + (line[0][0] * gsd_x)\n",
    "        y1 = y_min + ((height-line[0][1]) * gsd_y)\n",
    "        x2 = x_min + (line[1][0] * gsd_x)\n",
    "        y2 = y_min + ((height-line[1][1]) * gsd_y)\n",
    "        transformed_lines.append(((x1, y1), (x2, y2)))\n",
    "\n",
    "    return transformed_lines"
   ]
  },
  {
   "cell_type": "code",
   "execution_count": 42,
   "metadata": {},
   "outputs": [
    {
     "name": "stdout",
     "output_type": "stream",
     "text": [
      "((1363, 999), (1747, 1239)) 0.013888888888888888 0.013888888888888888 34.112933840999986 34.763291245999994\n",
      "((897, 1798), (1424, 956)) 0.013888888888888888 0.013888888888888888 34.112933840999986 59.763291245999994\n",
      "((1396, 1515), (1793, 1763)) 0.013888888888888888 0.013888888888888888 34.112933840999986 84.763291246\n",
      "((1172, 1355), (1418, 961)) 0.013888888888888888 0.013888888888888888 59.112933840999986 34.763291245999994\n",
      "((195, 91), (1022, 607)) 0.013888888888888888 0.013888888888888888 59.112933840999986 59.763291245999994\n",
      "((1099, 1582), (1798, 463)) 0.013888888888888888 0.013888888888888888 59.112933840999986 84.763291246\n",
      "((1, 347), (112, 169)) 0.013895716670422534 0.013888888888888888 84.11293384099999 34.763291245999994\n",
      "((1, 938), (586, 1)) 0.013895716670422534 0.013888888888888888 84.11293384099999 59.763291245999994\n",
      "((1017, 1798), (1732, 655)) 0.013895716670422534 0.013888888888888888 84.11293384099999 84.763291246\n",
      "((542, 228), (927, 469)) 0.010277040454166666 0.010295697578947386 84.11293384099999 109.763291246\n"
     ]
    }
   ],
   "source": [
    "for img_node in image_nodes:\n",
    "    if img_node.ablineset:\n",
    "        print(img_node.ablineset[0], img_node.gsd_x, img_node.gsd_y, img_node.x_min, img_node.y_min)"
   ]
  },
  {
   "cell_type": "code",
   "execution_count": 43,
   "metadata": {},
   "outputs": [],
   "source": [
    "transformed_lines = []\n",
    "for img_node in image_nodes:\n",
    "    img_node.transformed_lines=transform_coordinates(img_node.ablineset, img_node.gsd_x, img_node.gsd_y, img_node.x_min, img_node.y_min,img_node.height)\n",
    "    transformed_lines.extend(img_node.transformed_lines)"
   ]
  },
  {
   "cell_type": "code",
   "execution_count": 44,
   "metadata": {},
   "outputs": [
    {
     "name": "stdout",
     "output_type": "stream",
     "text": [
      "[((53.04348939655554, 45.888291245999994), (58.37682272988887, 42.55495791266666)), ((48.83515606322221, 48.47162457933332), (52.237933840999986, 46.34662457933332)), ((34.140711618777765, 57.666069023777766), (39.79348939655554, 54.138291245999994)), ((34.140711618777765, 57.67995791266666), (39.765711618777765, 54.166069023777766)), ((52.15460050766665, 58.67995791266666), (59.04348939655554, 54.37440235711111)), ((34.112933840999986, 57.65218013488888), (39.737933840999986, 54.138291245999994)), ((50.8490449521111, 59.52718013488888), (59.08515606322221, 54.388291245999994)), ((45.321267174333315, 50.92995791266666), (50.65460050766665, 59.47162457933332)), ((45.37682272988887, 50.94384680155555), (47.612933840999986, 54.52718013488888)), ((45.487933840999986, 50.638291245999994), (48.05737828544443, 54.74940235711111)), ((42.12682272988887, 52.69384680155555), (46.52960050766665, 59.74940235711111)), ((48.737933840999986, 48.97162457933332), (53.862933840999986, 57.166069023777766)), ((41.737933840999986, 52.97162457933332), (44.9740449521111, 50.95773569044444)), ((53.237933840999986, 59.74940235711111), (57.33515606322221, 57.19384680155555)), ((42.79348939655554, 53.67995791266666), (45.18237828544443, 57.49940235711111)), ((45.696267174333315, 51.04106902377777), (48.02960050766665, 54.77718013488888)), ((45.3490449521111, 50.92995791266666), (50.71015606322221, 59.49940235711111)), ((55.446267174333315, 48.513291245999994), (58.65460050766665, 46.49940235711111)), ((42.96015606322221, 53.40218013488888), (45.75182272988887, 58.02718013488888)), ((48.29348939655554, 48.888291245999994), (50.140711618777765, 51.74940235711111)), ((42.15460050766665, 52.69384680155555), (46.571267174333315, 59.763291245999994)), ((49.71015606322221, 50.49940235711111), (54.0990449521111, 57.513291245999994)), ((50.54348939655554, 52.360513468222216), (53.862933840999986, 57.666069023777766)), ((55.54348939655554, 48.69384680155555), (58.76571161877776, 46.67995791266666)), ((51.321267174333315, 53.15218013488888), (53.321267174333315, 56.34662457933332)), ((55.446267174333315, 48.55495791266666), (58.68237828544443, 46.54106902377777)), ((50.640711618777765, 52.41606902377777), (53.90460050766665, 57.638291245999994)), ((50.80737828544443, 59.52718013488888), (56.76571161877776, 55.80495791266666)), ((53.33515606322221, 59.74940235711111), (57.41848939655554, 57.19384680155555)), ((45.50182272988887, 50.69384680155555), (49.21015606322221, 56.638291245999994)), ((53.987933840999986, 57.263291245999994), (58.30737828544443, 54.666069023777766)), ((47.43237828544443, 54.33273569044444), (50.640711618777765, 59.47162457933332)), ((53.91848939655554, 45.29106902377777), (58.21015606322221, 42.610513468222216)), ((55.30737828544443, 56.44384680155555), (59.08515606322221, 54.166069023777766)), ((44.65460050766665, 56.735513468222216), (48.00182272988887, 54.65218013488888)), ((56.79348939655554, 43.58273569044444), (59.02960050766665, 47.17995791266666)), ((54.40460050766665, 59.05495791266666), (57.37682272988887, 57.19384680155555)), ((51.321267174333315, 53.166069023777766), (52.696267174333315, 55.37440235711111)), ((57.446267174333315, 57.19384680155555), (59.04348939655554, 59.74940235711111)), ((34.19626717433332, 57.638291245999994), (39.5990449521111, 54.263291245999994)), ((55.87682272988887, 56.12440235711111), (59.08515606322221, 54.19384680155555)), ((41.58515606322221, 53.05495791266666), (44.91848939655554, 50.97162457933332)), ((55.66848939655554, 56.20773569044444), (59.08515606322221, 54.15218013488888)), ((42.43237828544443, 52.56884680155555), (44.46015606322221, 55.94384680155555)), ((55.58515606322221, 48.70773569044444), (58.77960050766665, 46.72162457933332)), ((57.54348939655554, 57.263291245999994), (59.08515606322221, 59.735513468222216)), ((45.487933840999986, 50.610513468222216), (49.68237828544443, 57.31884680155555)), ((56.83515606322221, 43.59662457933332), (59.04348939655554, 47.15218013488888)), ((44.640711618777765, 56.70773569044444), (47.612933840999986, 54.860513468222216)), ((44.862933840999986, 56.65218013488888), (46.79348939655554, 59.74940235711111)), ((53.05737828544443, 45.83273569044444), (58.321267174333315, 42.55495791266666)), ((50.571267174333315, 52.37440235711111), (52.46015606322221, 55.388291245999994)), ((55.52960050766665, 48.69384680155555), (58.7240449521111, 46.69384680155555)), ((49.75182272988887, 50.54106902377777), (52.12682272988887, 54.34662457933332)), ((46.68237828544443, 49.860513468222216), (52.321267174333315, 46.34662457933332)), ((45.3490449521111, 50.97162457933332), (47.77960050766665, 54.860513468222216)), ((42.696267174333315, 53.110513468222216), (44.16848939655554, 55.485513468222216)), ((48.65460050766665, 49.37440235711111), (50.41848939655554, 52.29106902377777)), ((56.71015606322221, 43.81884680155555), (58.77960050766665, 47.12440235711111)), ((57.2240449521111, 57.30495791266666), (58.66848939655554, 59.62440235711111)), ((56.80737828544443, 43.62440235711111), (59.01571161877776, 47.16606902377777)), ((56.821267174333315, 43.55495791266666), (59.04348939655554, 47.12440235711111)), ((42.446267174333315, 52.55495791266666), (46.487933840999986, 59.27718013488888)), ((44.52960050766665, 56.52718013488888), (47.62682272988887, 54.59662457933332)), ((54.08515606322221, 57.22162457933332), (56.737933840999986, 55.62440235711111)), ((50.612933840999986, 52.40218013488888), (53.89071161877776, 57.65218013488888)), ((42.18237828544443, 52.70773569044444), (46.55737828544443, 59.72162457933332)), ((55.446267174333315, 48.54106902377777), (58.4740449521111, 46.65218013488888)), ((48.737933840999986, 48.985513468222216), (53.37682272988887, 56.416069023777766)), ((53.29348939655554, 59.74940235711111), (57.39071161877776, 57.19384680155555)), ((42.112933840999986, 52.69384680155555), (46.515711618777765, 59.74940235711111)), ((55.446267174333315, 48.52718013488888), (58.43237828544443, 46.65218013488888)), ((53.04348939655554, 45.90218013488888), (58.39071161877776, 42.55495791266666)), ((42.66848939655554, 52.31884680155555), (44.87682272988887, 50.985513468222216)), ((43.321267174333315, 53.95773569044444), (44.90460050766665, 56.59662457933332)), ((48.33515606322221, 48.87440235711111), (50.55737828544443, 52.42995791266666)), ((57.46015606322221, 57.19384680155555), (59.04348939655554, 59.72162457933332)), ((49.52960050766665, 57.166069023777766), (51.987933840999986, 59.09662457933332)), ((52.5990449521111, 55.08273569044444), (53.93237828544443, 57.22162457933332)), ((53.196267174333315, 59.763291245999994), (57.25182272988887, 57.235513468222216)), ((45.55737828544443, 50.80495791266666), (49.515711618777765, 57.138291245999994)), ((48.27960050766665, 48.860513468222216), (50.446267174333315, 52.33273569044444)), ((55.37682272988887, 56.388291245999994), (59.071267174333315, 54.166069023777766)), ((42.43237828544443, 52.666069023777766), (43.862933840999986, 54.97162457933332)), ((42.16848939655554, 52.74940235711111), (46.54348939655554, 59.74940235711111)), ((56.75182272988887, 55.52718013488888), (59.08515606322221, 54.12440235711111)), ((34.16848939655554, 57.610513468222216), (38.390711618777765, 54.97162457933332)), ((50.90460050766665, 59.513291245999994), (56.79348939655554, 55.83273569044444))]\n",
      "[((46.571267174333315, 59.79106902377777), (53.89071161877776, 71.48551346822222)), ((46.62682272988887, 59.79106902377777), (53.9740449521111, 71.55495791266667)), ((37.890711618777765, 64.41606902377777), (41.33515606322221, 69.92995791266667)), ((34.96015606322221, 59.79106902377777), (37.362933840999986, 63.638291245999994)), ((53.39071161877776, 77.59662457933332), (59.08515606322221, 74.04106902377777)), ((46.87682272988887, 59.79106902377777), (50.71015606322221, 65.92995791266667)), ((53.21015606322221, 77.44384680155555), (59.08515606322221, 73.763291246)), ((53.321267174333315, 77.59662457933332), (59.08515606322221, 73.99940235711111)), ((54.12682272988887, 71.55495791266667), (59.08515606322221, 68.45773569044444)), ((42.08515606322221, 70.42995791266667), (45.612933840999986, 76.08273569044444)), ((53.2240449521111, 77.37440235711111), (59.08515606322221, 73.70773569044444)), ((45.87682272988887, 76.20773569044444), (51.515711618777765, 72.69384680155555)), ((42.12682272988887, 70.58273569044444), (45.50182272988887, 75.98551346822222)), ((45.946267174333315, 76.22162457933332), (51.50182272988887, 72.763291246)), ((46.83515606322221, 59.79106902377777), (50.66848939655554, 65.92995791266667)), ((42.0990449521111, 70.52718013488888), (45.55737828544443, 76.05495791266665)), ((49.16848939655554, 63.49940235711111), (53.26571161877776, 60.94384680155555)), ((37.93237828544443, 64.45773569044444), (41.3490449521111, 69.92995791266667)), ((49.27960050766665, 74.56884680155555), (52.66848939655554, 72.44384680155555)), ((53.987933840999986, 62.81884680155555), (57.93237828544443, 69.138291246)), ((50.54348939655554, 66.12440235711111), (55.04348939655554, 63.31884680155555)), ((50.93237828544443, 76.27718013488888), (53.27960050766665, 80.04106902377777)), ((53.862933840999986, 71.42995791266667), (57.05737828544443, 69.42995791266667)), ((54.02960050766665, 62.83273569044444), (57.65460050766665, 68.65218013488888)), ((50.571267174333315, 66.16606902377777), (54.446267174333315, 63.735513468222216)), ((48.00182272988887, 62.05495791266666), (53.91848939655554, 71.513291246)), ((54.54348939655554, 62.27718013488888), (58.52960050766665, 59.79106902377777)), ((54.571267174333315, 62.30495791266666), (58.50182272988887, 59.84662457933333)), ((53.9740449521111, 62.81884680155555), (57.93237828544443, 69.16606902377777)), ((53.21015606322221, 77.388291246), (59.0990449521111, 73.70773569044444)), ((50.737933840999986, 65.90218013488888), (54.26571161877776, 71.54106902377777)), ((45.890711618777765, 76.22162457933332), (51.515711618777765, 72.70773569044444)), ((50.41848939655554, 75.56884680155555), (53.27960050766665, 80.15218013488888)), ((48.9740449521111, 63.56884680155555), (52.76571161877776, 61.20773569044444)), ((49.265711618777765, 74.62440235711111), (52.64071161877776, 72.513291246)), ((50.68237828544443, 66.27718013488888), (52.91848939655554, 64.888291246)), ((49.80737828544443, 82.74940235711111), (53.16848939655554, 80.65218013488888)), ((54.04348939655554, 71.55495791266667), (59.08515606322221, 68.41606902377777)), ((49.12682272988887, 63.27718013488888), (53.237933840999986, 60.70773569044444)), ((51.4740449521111, 65.81884680155555), (54.5990449521111, 63.94384680155555)), ((37.890711618777765, 64.47162457933332), (41.29348939655554, 69.92995791266667)), ((55.43237828544443, 65.04106902377777), (57.65460050766665, 68.61051346822222)), ((48.890711618777765, 63.40218013488888), (53.2240449521111, 60.69384680155555)), ((54.196267174333315, 71.263291246), (57.01571161877776, 69.49940235711111)), ((48.87682272988887, 63.388291245999994), (53.2240449521111, 60.66606902377777)), ((42.08515606322221, 70.45773569044444), (45.58515606322221, 76.06884680155555)), ((51.987933840999986, 67.95773569044444), (54.237933840999986, 71.56884680155555)), ((46.5990449521111, 59.84662457933333), (48.946267174333315, 63.59662457933333)), ((50.765711618777765, 65.90218013488888), (54.26571161877776, 71.513291246)), ((50.75182272988887, 65.92995791266667), (53.737933840999986, 70.70773569044444)), ((50.890711618777765, 76.27718013488888), (53.27960050766665, 80.11051346822222)), ((49.77960050766665, 82.80495791266665), (53.15460050766665, 80.69384680155555)), ((53.90460050766665, 71.42995791266667), (57.04348939655554, 69.47162457933332)), ((49.265711618777765, 74.61051346822222), (51.612933840999986, 73.15218013488888)), ((50.71015606322221, 66.31884680155555), (54.54348939655554, 63.92995791266666)), ((54.15460050766665, 61.67995791266666), (55.571267174333315, 64.45773569044444)), ((57.51571161877776, 63.70773569044444), (58.87682272988887, 65.888291246)), ((48.54348939655554, 62.485513468222216), (50.696267174333315, 65.92995791266667)), ((48.02960050766665, 62.02718013488888), (53.987933840999986, 71.55495791266667)), ((54.21015606322221, 61.70773569044444), (55.58515606322221, 64.41606902377777)), ((55.0990449521111, 61.91606902377777), (57.321267174333315, 65.62440235711111)), ((49.196267174333315, 63.44384680155555), (53.26571161877776, 60.90218013488888)), ((57.51571161877776, 63.65218013488888), (58.90460050766665, 65.86051346822222)), ((54.14071161877776, 71.23551346822222), (57.05737828544443, 69.41606902377777)), ((50.446267174333315, 75.59662457933332), (53.27960050766665, 80.12440235711111)), ((54.55737828544443, 62.29106902377777), (58.51571161877776, 59.81884680155555)), ((53.21015606322221, 77.42995791266665), (59.071267174333315, 73.763291246)), ((35.015711618777765, 59.79106902377777), (37.43237828544443, 63.67995791266666)), ((55.21015606322221, 61.91606902377777), (57.321267174333315, 64.34662457933332)), ((52.196267174333315, 65.34662457933332), (54.39071161877776, 63.985513468222216)), ((50.487933840999986, 65.08273569044444), (51.54348939655554, 67.23551346822222)), ((54.18237828544443, 61.67995791266666), (55.58515606322221, 64.42995791266667)), ((49.77960050766665, 82.81884680155555), (53.112933840999986, 80.73551346822222)), ((54.79348939655554, 76.42995791266665), (57.66848939655554, 74.638291246)), ((50.87682272988887, 65.95773569044444), (54.46015606322221, 63.72162457933333)), ((37.890711618777765, 64.48551346822222), (41.27960050766665, 69.91606902377777)), ((55.612933840999986, 61.59662457933333), (58.52960050766665, 59.77718013488888)), ((50.571267174333315, 66.12440235711111), (54.487933840999986, 63.67995791266666)), ((54.27960050766665, 61.81884680155555), (55.5990449521111, 64.40218013488888)), ((49.27960050766665, 74.55495791266667), (51.571267174333315, 73.12440235711111)), ((45.91848939655554, 76.22162457933332), (51.515711618777765, 72.73551346822222)), ((54.446267174333315, 63.67995791266666), (56.54348939655554, 66.91606902377777))]\n",
      "[((53.50182272988887, 88.72162457933332), (59.01571161877776, 85.27718013488888)), ((53.51571161877776, 88.67995791266667), (59.04348939655554, 85.23551346822222)), ((53.446267174333315, 88.70773569044444), (59.04348939655554, 85.22162457933332)), ((50.987933840999986, 84.79106902377777), (53.43237828544443, 88.69384680155555)), ((51.02960050766665, 84.80495791266667), (53.4740449521111, 88.72162457933332)), ((50.9740449521111, 84.79106902377777), (53.33515606322221, 88.56884680155555)), ((51.02960050766665, 84.79106902377777), (53.487933840999986, 88.72162457933332))]\n",
      "[]\n",
      "[((75.39071161877777, 40.94384680155555), (78.80737828544443, 46.41606902377777)), ((79.40460050766666, 47.31884680155555), (82.82126717433331, 52.791069023777766)), ((68.52960050766666, 50.360513468222216), (74.3351560632222, 59.65218013488888)), ((71.93237828544443, 52.388291245999994), (76.52960050766666, 59.74940235711111)), ((59.12682272988887, 54.37440235711111), (68.86293384099999, 48.29106902377777)), ((59.12682272988887, 54.33273569044444), (68.82126717433331, 48.27718013488888)), ((68.4740449521111, 50.33273569044444), (73.2101560632222, 57.916069023777766)), ((71.98793384099999, 52.55495791266666), (76.4740449521111, 59.74940235711111)), ((59.12682272988887, 56.06884680155555), (68.36293384099999, 50.30495791266666)), ((71.9740449521111, 53.06884680155555), (79.87682272988887, 48.138291245999994)), ((70.8490449521111, 54.44384680155555), (73.87682272988887, 59.291069023777766)), ((71.64071161877776, 34.985513468222216), (74.91848939655554, 40.22162457933333)), ((63.12682272988887, 53.62440235711111), (68.43237828544443, 50.30495791266666)), ((59.12682272988887, 56.360513468222216), (61.737933840999986, 54.735513468222216)), ((71.93237828544443, 53.05495791266666), (79.80737828544443, 48.138291245999994)), ((67.25182272988887, 54.52718013488888), (70.51571161877776, 59.74940235711111)), ((75.44626717433331, 40.97162457933333), (77.57126717433331, 44.37440235711111)), ((72.04348939655554, 53.09662457933332), (76.19626717433331, 59.74940235711111)), ((63.87682272988887, 43.34662457933332), (65.7101560632222, 46.29106902377777)), ((72.0851560632222, 53.06884680155555), (74.00182272988887, 56.15218013488888)), ((61.32126717433332, 48.90218013488888), (65.68237828544443, 46.17995791266666)), ((76.43237828544443, 49.985513468222216), (79.7101560632222, 47.94384680155555)), ((59.112933840999986, 42.110513468222216), (61.55737828544443, 40.58273569044444)), ((68.4740449521111, 50.31884680155555), (73.86293384099999, 58.94384680155555)), ((76.50182272988887, 49.99940235711111), (79.27960050766666, 48.263291245999994)), ((67.75182272988887, 43.62440235711111), (71.12682272988887, 49.04106902377777)), ((68.5851560632222, 50.42995791266666), (74.23793384099999, 59.47162457933332)), ((67.19626717433331, 54.49940235711111), (70.4740449521111, 59.74940235711111)), ((67.27960050766666, 36.97162457933333), (70.77960050766666, 34.79106902377777)), ((61.27960050766665, 48.888291245999994), (65.66848939655554, 46.15218013488888)), ((61.79348939655554, 40.55495791266666), (65.52960050766666, 46.54106902377777)), ((67.2101560632222, 37.17995791266666), (71.2240449521111, 43.59662457933332)), ((62.54348939655554, 51.95773569044444), (66.5990449521111, 49.42995791266666)), ((71.7101560632222, 35.02718013488888), (74.91848939655554, 40.17995791266666)), ((62.71015606322221, 51.888291245999994), (66.5851560632222, 49.47162457933332)), ((67.37682272988887, 36.90218013488888), (70.7240449521111, 34.80495791266666)), ((66.5851560632222, 46.485513468222216), (71.39071161877776, 43.485513468222216)), ((69.73793384099999, 41.30495791266666), (71.15460050766666, 43.58273569044444)), ((67.26571161877776, 37.02718013488888), (70.8490449521111, 34.79106902377777)), ((66.55737828544443, 46.45773569044444), (71.37682272988887, 43.44384680155555)), ((68.89071161877776, 48.34662457933332), (72.86293384099999, 45.87440235711111)), ((67.73793384099999, 43.638291245999994), (69.32126717433331, 46.16606902377777)), ((59.12682272988887, 47.31884680155555), (62.265711618777765, 52.360513468222216)), ((63.07126717433332, 53.638291245999994), (68.41848939655554, 50.30495791266666)), ((59.12682272988887, 54.388291245999994), (62.66848939655554, 52.16606902377777)), ((71.98793384099999, 53.06884680155555), (79.89071161877776, 48.138291245999994)), ((67.7101560632222, 43.65218013488888), (70.29348939655554, 47.79106902377777)), ((71.98793384099999, 52.54106902377777), (76.48793384099999, 59.74940235711111)), ((62.02960050766665, 40.34662457933333), (63.37682272988887, 42.49940235711111)), ((61.612933840999986, 54.49940235711111), (64.7240449521111, 59.485513468222216)), ((66.5851560632222, 46.05495791266666), (68.3490449521111, 48.888291245999994)), ((59.12682272988887, 47.235513468222216), (62.30737828544443, 52.33273569044444)), ((68.90460050766666, 48.37440235711111), (72.86293384099999, 45.90218013488888)), ((69.16848939655554, 48.81884680155555), (70.73793384099999, 51.24940235711111)), ((70.77960050766666, 54.40218013488888), (73.91848939655554, 59.42995791266666)), ((68.18237828544443, 39.22162457933333), (70.87682272988887, 43.54106902377777)), ((59.12682272988887, 47.66606902377777), (60.55737828544443, 49.97162457933332)), ((79.29348939655554, 47.20773569044444), (82.82126717433331, 52.860513468222216)), ((68.90460050766666, 45.110513468222216), (70.36293384099999, 47.45773569044444)), ((65.8490449521111, 44.81884680155555), (68.91848939655554, 49.735513468222216)), ((67.25182272988887, 54.09662457933332), (68.66848939655554, 56.27718013488888)), ((61.80737828544443, 48.610513468222216), (65.65460050766666, 46.20773569044444)), ((59.12682272988887, 56.31884680155555), (61.66848939655554, 54.735513468222216)), ((68.39071161877776, 39.485513468222216), (70.89071161877776, 43.49940235711111)), ((70.76571161877776, 54.40218013488888), (73.91848939655554, 59.44384680155555)), ((63.0990449521111, 56.860513468222216), (65.94626717433331, 54.94384680155555)), ((63.69626717433332, 51.29106902377777), (66.50182272988887, 49.54106902377777)), ((61.640711618777765, 54.47162457933332), (64.77960050766666, 59.49940235711111)), ((67.23793384099999, 37.31884680155555), (68.73793384099999, 39.638291245999994)), ((59.18237828544443, 47.69384680155555), (60.55737828544443, 49.888291245999994)), ((63.91848939655554, 43.360513468222216), (65.7101560632222, 46.235513468222216)), ((62.69626717433332, 48.235513468222216), (64.91848939655554, 46.860513468222216)), ((69.04348939655554, 44.65218013488888), (71.25182272988887, 43.27718013488888)), ((63.96015606322221, 43.27718013488888), (65.7101560632222, 46.31884680155555)), ((68.57126717433331, 39.763291245999994), (70.87682272988887, 43.44384680155555)), ((71.29348939655554, 43.30495791266666), (72.76571161877776, 45.95773569044444)), ((69.82126717433331, 49.84662457933332), (71.90460050766666, 53.05495791266666)), ((61.987933840999986, 40.79106902377777), (64.36293384099999, 44.59662457933332)), ((59.390711618777765, 55.888291245999994), (63.02960050766665, 53.610513468222216)), ((59.12682272988887, 54.31884680155555), (64.93237828544443, 50.69384680155555)), ((74.4601560632222, 46.79106902377777), (76.57126717433331, 50.16606902377777)), ((63.02960050766665, 53.638291245999994), (65.7240449521111, 51.95773569044444)), ((74.25182272988887, 56.610513468222216), (75.79348939655554, 58.99940235711111)), ((67.2101560632222, 37.20773569044444), (69.68237828544443, 41.02718013488888)), ((74.52960050766666, 46.97162457933332), (76.52960050766666, 50.19384680155555)), ((73.40460050766666, 37.83273569044444), (74.91848939655554, 40.27718013488888)), ((71.5990449521111, 34.94384680155555), (74.91848939655554, 40.24940235711111)), ((62.18237828544443, 49.02718013488888), (63.50182272988887, 51.138291245999994)), ((69.65460050766666, 49.08273569044444), (72.39071161877776, 52.47162457933332)), ((59.16848939655554, 47.67995791266666), (60.55737828544443, 49.91606902377777)), ((69.0990449521111, 57.56884680155555), (70.4601560632222, 59.74940235711111)), ((62.68237828544443, 48.30495791266666), (65.66848939655554, 46.42995791266666)), ((61.62682272988887, 54.49940235711111), (64.07126717433331, 58.42995791266666)), ((68.50182272988887, 56.56884680155555), (70.48793384099999, 59.74940235711111)), ((59.12682272988887, 47.263291245999994), (62.29348939655554, 52.33273569044444)), ((71.0851560632222, 43.17995791266666), (72.79348939655554, 45.90218013488888)), ((62.68237828544443, 48.27718013488888), (65.66848939655554, 46.41606902377777)), ((70.80737828544443, 54.416069023777766), (72.76571161877776, 57.55495791266666)), ((63.0990449521111, 56.791069023777766), (65.93237828544443, 54.94384680155555)), ((76.50182272988887, 49.95773569044444), (78.8351560632222, 48.49940235711111)), ((62.68237828544443, 51.888291245999994), (66.5990449521111, 49.44384680155555)), ((66.52960050766666, 46.388291245999994), (68.15460050766666, 48.99940235711111)), ((72.98793384099999, 54.62440235711111), (76.16848939655554, 59.70773569044444)), ((70.19626717433331, 49.42995791266666), (71.41848939655554, 51.92995791266666)), ((62.140711618777765, 49.02718013488888), (63.55737828544443, 51.29106902377777)), ((68.68237828544443, 39.388291245999994), (70.66848939655554, 42.81884680155555)), ((66.5990449521111, 46.09662457933332), (68.40460050766666, 48.99940235711111)), ((61.765711618777765, 40.55495791266666), (63.362933840999986, 43.110513468222216)), ((71.07126717433331, 50.15218013488888), (72.65460050766666, 52.59662457933332)), ((71.93237828544443, 52.37440235711111), (76.54348939655554, 59.74940235711111)), ((73.5990449521111, 47.31884680155555), (76.36293384099999, 45.59662457933332)), ((62.07126717433332, 40.29106902377777), (63.43237828544443, 42.485513468222216)), ((72.41848939655554, 36.110513468222216), (74.65460050766666, 39.69384680155555)), ((65.3351560632222, 46.97162457933332), (66.90460050766666, 49.49940235711111)), ((59.19626717433332, 41.985513468222216), (61.52960050766665, 40.58273569044444)), ((61.80737828544443, 40.55495791266666), (64.37682272988887, 44.67995791266666)), ((70.29348939655554, 47.27718013488888), (72.79348939655554, 45.72162457933332)), ((69.02960050766666, 51.19384680155555), (70.64071161877776, 53.77718013488888)), ((81.44626717433331, 50.59662457933332), (82.82126717433331, 52.80495791266666)), ((63.112933840999986, 56.80495791266666), (66.12682272988887, 54.84662457933332)), ((72.05737828544443, 53.05495791266666), (74.15460050766666, 56.416069023777766)), ((71.2240449521111, 50.31884680155555), (72.7101560632222, 52.59662457933332)), ((63.91848939655554, 43.263291245999994), (65.69626717433331, 46.34662457933332)), ((70.25182272988887, 47.263291245999994), (72.77960050766666, 45.69384680155555)), ((63.140711618777765, 56.860513468222216), (65.5990449521111, 55.19384680155555)), ((65.25182272988887, 46.74940235711111), (66.9601560632222, 49.485513468222216)), ((62.79348939655554, 39.91606902377777), (66.79348939655554, 37.513291245999994)), ((68.77960050766666, 45.263291245999994), (71.14071161877776, 49.02718013488888)), ((67.89071161877776, 55.52718013488888), (69.73793384099999, 58.485513468222216)), ((59.140711618777765, 47.70773569044444), (60.55737828544443, 49.985513468222216)), ((74.29348939655554, 47.56884680155555), (76.18237828544443, 49.985513468222216)), ((59.19626717433332, 54.33273569044444), (68.87682272988887, 48.29106902377777)), ((69.12682272988887, 57.541069023777766), (70.51571161877776, 59.763291245999994)), ((74.52960050766666, 57.05495791266666), (76.2101560632222, 59.74940235711111)), ((59.112933840999986, 42.08273569044444), (61.41848939655554, 40.65218013488888)), ((76.4740449521111, 49.99940235711111), (79.50182272988887, 48.110513468222216)), ((67.8490449521111, 37.99940235711111), (70.14071161877776, 41.97162457933333)), ((65.05737828544443, 46.87440235711111), (66.61293384099999, 49.360513468222216)), ((70.32126717433331, 49.33273569044444), (72.2101560632222, 51.84662457933332)), ((59.12682272988887, 42.110513468222216), (61.57126717433332, 40.58273569044444)), ((64.86293384099999, 46.638291245999994), (66.57126717433331, 49.37440235711111)), ((71.68237828544443, 35.013291245999994), (74.91848939655554, 40.19384680155555)), ((75.43237828544443, 40.95773569044444), (78.69626717433331, 46.19384680155555)), ((61.27960050766665, 48.87440235711111), (65.61293384099999, 46.16606902377777)), ((63.40460050766665, 56.69384680155555), (64.96015606322221, 59.40218013488888)), ((68.9601560632222, 48.44384680155555), (71.27960050766666, 52.15218013488888)), ((68.30737828544443, 38.763291245999994), (70.27960050766666, 42.19384680155555)), ((79.9601560632222, 48.17995791266666), (82.5851560632222, 52.388291245999994)), ((69.76571161877776, 49.72162457933332), (71.93237828544443, 48.37440235711111)), ((70.89071161877776, 54.485513468222216), (72.32126717433331, 56.77718013488888)), ((69.18237828544443, 48.74940235711111), (70.68237828544443, 51.138291245999994)), ((67.7240449521111, 37.985513468222216), (69.66848939655554, 40.985513468222216)), ((63.71015606322221, 51.27718013488888), (66.55737828544443, 49.49940235711111)), ((60.79348939655554, 53.31884680155555), (65.5990449521111, 50.30495791266666)), ((81.37682272988887, 50.55495791266666), (82.82126717433331, 52.87440235711111)), ((67.98793384099999, 55.74940235711111), (70.4740449521111, 59.735513468222216)), ((61.66848939655554, 54.49940235711111), (63.3490449521111, 57.19384680155555)), ((63.41848939655554, 56.77718013488888), (64.94626717433331, 59.42995791266666)), ((74.52960050766666, 46.91606902377777), (76.44626717433331, 49.99940235711111)), ((69.93237828544443, 59.666069023777766), (72.68237828544443, 57.735513468222216)), ((74.77960050766666, 48.16606902377777), (76.40460050766666, 50.24940235711111)), ((63.50182272988887, 56.888291245999994), (64.96015606322221, 59.42995791266666)), ((67.7101560632222, 43.66606902377777), (69.29348939655554, 46.19384680155555)), ((67.18237828544443, 54.49940235711111), (68.55737828544443, 56.69384680155555)), ((59.87682272988887, 55.62440235711111), (62.362933840999986, 54.06884680155555)), ((67.26571161877776, 36.99940235711111), (70.80737828544443, 34.79106902377777)), ((61.83515606322221, 40.56884680155555), (63.90460050766665, 43.87440235711111)), ((63.52960050766665, 56.87440235711111), (64.96015606322221, 59.34662457933332)), ((62.77960050766665, 42.04106902377777), (64.3490449521111, 44.55495791266666))]\n",
      "[((61.82126717433332, 83.49940235711111), (73.30737828544443, 76.33273569044444)), ((65.29348939655554, 81.37440235711111), (69.76571161877776, 78.58273569044444)), ((68.4601560632222, 65.24940235711111), (75.0990449521111, 75.87440235711111)), ((59.12682272988887, 74.02718013488888), (68.16848939655554, 68.37440235711111)), ((59.862933840999986, 84.74940235711111), (73.27960050766666, 76.37440235711111)), ((59.12682272988887, 73.97162457933332), (68.19626717433331, 68.30495791266667)), ((75.26571161877777, 61.08273569044444), (80.0851560632222, 68.77718013488888)), ((68.4740449521111, 65.34662457933332), (75.02960050766666, 75.83273569044444)), ((59.12682272988887, 73.70773569044444), (68.14071161877776, 68.06884680155555)), ((66.5851560632222, 65.56884680155555), (68.2101560632222, 68.17995791266667)), ((73.37682272988887, 76.83273569044444), (78.32126717433331, 84.74940235711111)), ((59.12682272988887, 59.79106902377777), (63.640711618777765, 67.02718013488888)), ((66.54348939655554, 65.55495791266667), (68.2101560632222, 68.23551346822222)), ((81.01571161877776, 67.388291246), (83.00182272988887, 70.58273569044444)), ((75.19626717433331, 61.04106902377777), (80.01571161877776, 68.74940235711111)), ((66.3490449521111, 65.70773569044444), (68.04348939655554, 68.41606902377777)), ((66.15460050766666, 60.79106902377777), (68.01571161877776, 63.77718013488888)), ((68.54348939655554, 65.11051346822222), (75.05737828544443, 61.04106902377777)), ((69.18237828544443, 70.19384680155555), (73.07126717433331, 76.41606902377777)), ((60.75182272988887, 59.79106902377777), (64.21015606322221, 65.31884680155555)), ((59.79348939655554, 84.74940235711111), (66.51571161877776, 80.55495791266665)), ((60.80737828544443, 59.79106902377777), (64.26571161877776, 65.33273569044444)), ((73.37682272988887, 76.74940235711111), (78.36293384099999, 84.74940235711111)), ((59.12682272988887, 59.87440235711111), (63.612933840999986, 67.06884680155555)), ((59.16848939655554, 73.70773569044444), (63.83515606322221, 70.79106902377777)), ((68.62682272988887, 65.09662457933332), (71.75182272988887, 70.11051346822222)), ((75.3490449521111, 67.97162457933332), (78.36293384099999, 66.09662457933332)), ((76.66848939655554, 77.23551346822222), (82.3490449521111, 73.67995791266667)), ((81.19626717433331, 67.20773569044444), (83.26571161877776, 70.52718013488888)), ((76.2240449521111, 59.79106902377777), (79.12682272988887, 64.44384680155555)), ((59.16848939655554, 68.36051346822222), (62.93237828544443, 66.013291246)), ((68.4740449521111, 65.20773569044444), (75.15460050766666, 61.04106902377777)), ((68.76571161877776, 65.23551346822222), (71.82126717433331, 70.138291246)), ((70.02960050766666, 71.52718013488888), (73.05737828544443, 76.37440235711111)), ((59.140711618777765, 73.67995791266667), (67.93237828544443, 68.17995791266667)), ((72.44626717433331, 64.74940235711111), (74.66848939655554, 68.30495791266667)), ((67.90460050766666, 63.80495791266666), (70.7240449521111, 62.04106902377777)), ((79.7240449521111, 75.70773569044444), (82.7101560632222, 73.84662457933332)), ((75.26571161877777, 67.98551346822222), (78.3490449521111, 66.06884680155555)), ((69.36293384099999, 70.11051346822222), (73.40460050766666, 76.58273569044444)), ((60.04348939655554, 84.74940235711111), (64.75182272988887, 81.80495791266665)), ((81.15460050766666, 67.22162457933332), (83.2101560632222, 70.513291246)), ((74.9601560632222, 61.138291245999994), (78.12682272988887, 66.22162457933332)), ((67.93237828544443, 63.83273569044444), (70.69626717433331, 62.110513468222216)), ((79.32126717433331, 81.47162457933332), (84.0990449521111, 78.48551346822222)), ((72.93237828544443, 62.610513468222216), (75.30737828544443, 61.12440235711111)), ((68.4740449521111, 65.19384680155555), (75.12682272988887, 61.04106902377777)), ((76.64071161877777, 77.27718013488888), (82.41848939655554, 73.67995791266667)), ((60.2240449521111, 84.74940235711111), (63.41848939655554, 82.83273569044444)), ((59.12682272988887, 74.013291246), (68.19626717433331, 68.34662457933332)), ((59.12682272988887, 68.17995791266667), (62.890711618777765, 65.83273569044444)), ((77.16848939655554, 78.33273569044444), (79.02960050766666, 81.41606902377777)), ((59.96015606322221, 84.74940235711111), (63.9740449521111, 82.24940235711111)), ((64.64071161877776, 64.70773569044444), (67.44626717433331, 62.95773569044444)), ((77.76571161877776, 78.80495791266665), (79.41848939655554, 81.36051346822222)), ((76.68237828544443, 77.638291246), (82.73793384099999, 73.86051346822222)), ((77.8351560632222, 78.638291246), (79.62682272988887, 81.29106902377777)), ((75.2240449521111, 75.87440235711111), (78.05737828544443, 74.11051346822222)), ((76.64071161877777, 77.29106902377777), (82.43237828544443, 73.67995791266667)), ((67.18237828544443, 68.70773569044444), (69.2101560632222, 71.95773569044444)), ((59.112933840999986, 68.138291246), (62.862933840999986, 65.79106902377777)), ((75.26571161877777, 67.97162457933332), (78.36293384099999, 66.04106902377777)), ((76.29348939655554, 59.81884680155555), (79.2240449521111, 64.49940235711111)), ((60.265711618777765, 61.985513468222216), (63.08515606322221, 66.513291246)), ((78.87682272988887, 73.65218013488888), (81.43237828544443, 72.05495791266667)), ((77.23793384099999, 77.95773569044444), (79.43237828544443, 81.34662457933332)), ((60.25182272988887, 84.74940235711111), (63.41848939655554, 82.84662457933332)), ((59.987933840999986, 84.74940235711111), (64.71015606322221, 81.80495791266665)), ((69.43237828544443, 70.138291246), (73.40460050766666, 76.49940235711111)), ((76.5990449521111, 77.40218013488888), (78.8351560632222, 81.11051346822222)), ((76.75182272988887, 77.74940235711111), (82.79348939655554, 73.97162457933332)), ((67.15460050766666, 68.72162457933332), (69.14071161877776, 71.90218013488888)), ((71.48793384099999, 63.27718013488888), (74.66848939655554, 68.37440235711111)), ((69.12682272988887, 70.17995791266667), (73.05737828544443, 76.47162457933332)), ((79.23793384099999, 81.47162457933332), (83.98793384099999, 78.513291246)), ((75.15460050766666, 61.37440235711111), (78.12682272988887, 66.138291246)), ((75.62682272988887, 75.638291246), (78.30737828544443, 74.02718013488888)), ((76.7240449521111, 77.72162457933332), (82.77960050766666, 73.92995791266667)), ((80.0990449521111, 63.70773569044444), (82.01571161877776, 66.79106902377777)), ((75.2101560632222, 61.04106902377777), (79.19626717433331, 67.42995791266667)), ((62.04348939655554, 83.513291246), (64.75182272988887, 81.83273569044444)), ((67.5851560632222, 74.97162457933332), (69.80737828544443, 78.52718013488888)), ((60.41848939655554, 73.19384680155555), (64.25182272988887, 70.80495791266667)), ((79.0990449521111, 81.45773569044444), (83.8490449521111, 78.49940235711111)), ((60.19626717433332, 61.97162457933333), (63.0990449521111, 66.61051346822222)), ((82.64071161877776, 73.73551346822222), (84.02960050766666, 75.95773569044444)), ((60.765711618777765, 59.79106902377777), (64.23793384099999, 65.33273569044444)), ((68.55737828544443, 65.388291246), (71.5990449521111, 63.485513468222216)), ((67.18237828544443, 68.69384680155555), (69.2240449521111, 71.95773569044444)), ((76.89071161877777, 77.17995791266665), (78.32126717433331, 79.30495791266665)), ((80.18237828544443, 68.74940235711111), (82.0990449521111, 71.83273569044444)), ((64.71015606322221, 64.86051346822222), (67.52960050766666, 63.09662457933333)), ((81.64071161877776, 67.94384680155555), (83.25182272988887, 70.54106902377777)), ((67.64071161877776, 74.74940235711111), (70.9740449521111, 72.66606902377777)), ((67.68237828544443, 63.70773569044444), (70.64071161877776, 61.860513468222216)), ((74.9740449521111, 61.09662457933333), (78.12682272988887, 66.15218013488888)), ((67.69626717433331, 63.735513468222216), (70.66848939655554, 61.888291245999994)), ((75.19626717433331, 75.90218013488888), (78.2240449521111, 74.08273569044444)), ((80.04348939655554, 63.72162457933333), (82.01571161877776, 66.87440235711111)), ((79.30737828544443, 75.69384680155555), (82.50182272988887, 73.69384680155555)), ((67.40460050766666, 68.56884680155555), (68.73793384099999, 70.69384680155555)), ((61.46015606322221, 60.360513468222216), (64.07126717433331, 64.70773569044444)), ((77.73793384099999, 70.05495791266667), (80.00182272988887, 68.638291246)), ((72.76571161877776, 63.94384680155555), (75.29348939655554, 67.98551346822222)), ((67.5851560632222, 74.87440235711111), (69.36293384099999, 77.73551346822222)), ((64.57126717433331, 64.70773569044444), (67.4601560632222, 62.91606902377777)), ((79.30737828544443, 75.73551346822222), (82.55737828544443, 73.70773569044444)), ((82.5851560632222, 73.70773569044444), (84.00182272988887, 75.97162457933332)), ((59.12682272988887, 65.66606902377777), (61.75182272988887, 64.02718013488888)), ((62.3490449521111, 83.41606902377777), (64.58515606322221, 82.12440235711111)), ((79.87682272988887, 63.83273569044444), (81.87682272988887, 67.04106902377777)), ((74.62682272988887, 72.56884680155555), (76.27960050766666, 75.20773569044444)), ((79.0990449521111, 73.45773569044444), (81.2101560632222, 72.17995791266667)), ((72.76571161877776, 63.985513468222216), (75.25182272988887, 67.97162457933332)), ((59.16848939655554, 65.44384680155555), (61.66848939655554, 63.888291245999994)), ((76.69626717433331, 60.55495791266666), (79.11293384099999, 64.42995791266667)), ((59.12682272988887, 68.41606902377777), (62.37682272988887, 66.47162457933332)), ((77.12682272988887, 77.763291246), (78.94626717433331, 80.56884680155555)), ((79.16848939655554, 81.45773569044444), (83.89071161877776, 78.513291246)), ((72.89071161877776, 62.66606902377777), (75.02960050766666, 61.33273569044444)), ((59.12682272988887, 68.37440235711111), (62.862933840999986, 66.12440235711111)), ((74.5990449521111, 72.56884680155555), (76.27960050766666, 75.263291246)), ((59.12682272988887, 65.72162457933332), (61.77960050766665, 64.05495791266667)), ((80.12682272988887, 68.74940235711111), (82.0851560632222, 71.888291246)), ((73.0990449521111, 64.55495791266667), (75.2240449521111, 67.95773569044444)), ((80.12682272988887, 75.33273569044444), (82.65460050766666, 73.763291246)), ((60.40460050766665, 84.638291246), (62.5990449521111, 83.27718013488888)), ((67.77960050766666, 74.72162457933332), (70.02960050766666, 78.31884680155555)), ((60.2240449521111, 61.97162457933333), (63.0990449521111, 66.58273569044444)), ((73.01571161877776, 70.41606902377777), (74.50182272988887, 72.79106902377777)), ((71.5851560632222, 70.31884680155555), (74.66848939655554, 68.388291246)), ((78.05737828544443, 62.20773569044444), (79.50182272988887, 64.42995791266667)), ((73.37682272988887, 76.77718013488888), (78.3490449521111, 84.74940235711111)), ((67.5990449521111, 74.81884680155555), (71.01571161877776, 72.67995791266667)), ((64.58515606322221, 70.33273569044444), (68.16848939655554, 68.09662457933332)), ((68.5990449521111, 65.08273569044444), (71.7101560632222, 70.05495791266667)), ((73.05737828544443, 70.41606902377777), (74.51571161877776, 72.74940235711111)), ((68.52960050766666, 65.34662457933332), (71.52960050766666, 63.47162457933333)), ((79.02960050766666, 81.40218013488888), (83.7101560632222, 78.47162457933332)), ((71.66848939655554, 61.44384680155555), (74.32126717433331, 59.79106902377777)), ((59.140711618777765, 71.04106902377777), (60.46015606322221, 73.15218013488888)), ((78.91848939655554, 60.888291245999994), (80.30737828544443, 63.110513468222216)), ((79.93237828544443, 83.41606902377777), (82.51571161877776, 81.80495791266665)), ((71.7240449521111, 61.45773569044444), (74.25182272988887, 59.87440235711111)), ((59.12682272988887, 70.90218013488888), (60.515711618777765, 73.12440235711111)), ((61.4740449521111, 60.45773569044444), (63.5990449521111, 63.985513468222216)), ((59.112933840999986, 65.44384680155555), (61.65460050766665, 63.860513468222216)), ((69.14071161877776, 70.17995791266667), (73.02960050766666, 76.40218013488888)), ((79.8490449521111, 63.860513468222216), (81.8490449521111, 67.06884680155555)), ((79.04348939655554, 81.34662457933332), (83.68237828544443, 78.44384680155555)), ((72.76571161877776, 63.92995791266666), (75.30737828544443, 67.98551346822222)), ((78.9740449521111, 60.91606902377777), (80.36293384099999, 63.12440235711111)), ((74.65460050766666, 72.58273569044444), (76.05737828544443, 74.83273569044444)), ((68.4601560632222, 65.30495791266667), (75.04348939655554, 75.84662457933332)), ((79.26571161877776, 81.47162457933332), (84.02960050766666, 78.49940235711111)), ((76.66848939655554, 77.22162457933332), (82.00182272988887, 73.888291246)), ((59.237933840999986, 73.91606902377777), (68.19626717433331, 68.31884680155555)), ((59.12682272988887, 59.81884680155555), (60.487933840999986, 61.99940235711111)), ((75.8490449521111, 75.47162457933332), (78.25182272988887, 74.02718013488888)), ((79.93237828544443, 83.45773569044444), (82.57126717433331, 81.80495791266665)), ((68.8490449521111, 65.19384680155555), (71.5990449521111, 63.47162457933333)), ((67.64071161877776, 75.04106902377777), (71.12682272988887, 72.86051346822222)), ((62.83515606322221, 71.65218013488888), (67.16848939655554, 68.94384680155555)), ((69.55737828544443, 62.12440235711111), (71.79348939655554, 60.79106902377777)), ((67.57126717433331, 74.888291246), (69.80737828544443, 78.47162457933332)), ((77.8490449521111, 70.04106902377777), (80.00182272988887, 68.70773569044444)), ((82.61293384099999, 73.72162457933332), (84.02960050766666, 75.98551346822222)), ((75.65460050766666, 75.59662457933332), (78.26571161877776, 74.02718013488888)), ((72.4740449521111, 64.763291246), (74.65460050766666, 68.388291246)), ((78.05737828544443, 62.24940235711111), (79.44626717433331, 64.47162457933332)), ((80.11293384099999, 80.80495791266665), (83.04348939655554, 78.97162457933332)), ((61.43237828544443, 84.06884680155555), (64.2240449521111, 82.263291246)), ((79.30737828544443, 75.74940235711111), (82.57126717433331, 73.70773569044444)), ((80.16848939655554, 75.34662457933332), (82.64071161877776, 73.80495791266667)), ((71.5851560632222, 61.29106902377777), (73.87682272988887, 59.860513468222216)), ((76.73793384099999, 77.72162457933332), (82.79348939655554, 73.94384680155555)), ((61.390711618777765, 84.08273569044444), (63.50182272988887, 82.72162457933332)), ((62.43237828544443, 68.11051346822222), (64.00182272988887, 70.62440235711111)), ((67.73793384099999, 74.69384680155555), (70.02960050766666, 78.36051346822222)), ((60.3490449521111, 84.74940235711111), (62.7240449521111, 83.20773569044444)), ((71.80737828544443, 70.138291246), (74.66848939655554, 68.34662457933332)), ((67.30737828544443, 68.94384680155555), (69.18237828544443, 71.94384680155555)), ((81.39071161877776, 67.52718013488888), (83.23793384099999, 70.48551346822222)), ((76.61293384099999, 77.388291246), (78.86293384099999, 76.04106902377777)), ((76.5851560632222, 77.44384680155555), (78.05737828544443, 79.888291246)), ((71.61293384099999, 61.235513468222216), (73.89071161877776, 59.80495791266666)), ((61.46015606322221, 60.40218013488888), (63.77960050766665, 64.263291246)), ((76.8490449521111, 77.23551346822222), (79.32126717433331, 81.19384680155555)), ((81.01571161877776, 67.45773569044444), (82.93237828544443, 70.52718013488888)), ((59.12682272988887, 68.40218013488888), (62.37682272988887, 66.45773569044444)), ((79.37682272988887, 81.44384680155555), (84.05737828544443, 78.52718013488888)), ((79.30737828544443, 75.67995791266667), (82.44626717433331, 73.72162457933332)), ((69.37682272988887, 70.11051346822222), (73.40460050766666, 76.55495791266665)), ((77.79348939655554, 70.05495791266667), (79.98793384099999, 68.69384680155555)), ((63.487933840999986, 70.98551346822222), (66.86293384099999, 68.888291246)), ((80.14071161877776, 68.74940235711111), (82.05737828544443, 71.81884680155555)), ((59.862933840999986, 67.94384680155555), (62.4740449521111, 66.37440235711111)), ((64.69626717433331, 64.90218013488888), (67.37682272988887, 63.22162457933333)), ((67.62682272988887, 75.02718013488888), (70.87682272988887, 72.99940235711111)), ((62.44626717433332, 68.05495791266667), (64.00182272988887, 70.54106902377777)), ((79.39071161877776, 81.15218013488888), (83.61293384099999, 78.513291246)), ((59.15460050766665, 65.44384680155555), (61.44626717433332, 64.013291246)), ((68.61293384099999, 74.388291246), (70.8351560632222, 72.99940235711111)), ((76.66848939655554, 77.61051346822222), (79.14071161877776, 76.06884680155555)), ((79.73793384099999, 81.09662457933332), (83.89071161877776, 78.49940235711111)), ((68.80737828544443, 65.81884680155555), (75.01571161877776, 75.763291246)), ((68.64071161877776, 65.05495791266667), (71.80737828544443, 70.12440235711111)), ((75.41848939655554, 67.94384680155555), (78.40460050766666, 66.08273569044444)), ((66.36293384099999, 65.65218013488888), (67.93237828544443, 68.16606902377777)), ((79.0851560632222, 61.65218013488888), (80.4601560632222, 63.84662457933333)), ((60.37682272988887, 84.44384680155555), (69.77960050766666, 78.56884680155555)), ((60.91848939655554, 62.735513468222216), (62.612933840999986, 65.36051346822222)), ((79.36293384099999, 81.17995791266665), (83.7240449521111, 78.45773569044444)), ((79.3351560632222, 81.15218013488888), (82.98793384099999, 78.87440235711111)), ((78.55737828544443, 76.41606902377777), (80.68237828544443, 75.37440235711111)), ((78.91848939655554, 73.58273569044444), (81.4601560632222, 72.05495791266667)), ((82.86293384099999, 74.09662457933332), (83.77960050766666, 76.47162457933332)), ((80.15460050766666, 75.34662457933332), (82.3351560632222, 73.98551346822222)), ((69.50182272988887, 62.12440235711111), (71.80737828544443, 60.735513468222216)), ((75.23793384099999, 61.05495791266666), (80.07126717433331, 68.77718013488888)), ((82.14071161877776, 73.81884680155555), (84.0990449521111, 76.95773569044444)), ((68.61293384099999, 65.05495791266667), (71.77960050766666, 70.12440235711111)), ((62.54348939655554, 83.19384680155555), (64.76571161877776, 81.80495791266665)), ((81.01571161877776, 67.41606902377777), (82.98793384099999, 70.58273569044444)), ((67.69626717433331, 63.70773569044444), (70.14071161877776, 62.17995791266666)), ((62.57126717433332, 62.24940235711111), (64.01571161877776, 64.56884680155555)), ((69.4740449521111, 70.17995791266667), (71.98793384099999, 74.20773569044444)), ((62.65460050766665, 67.97162457933332), (64.27960050766666, 70.45773569044444))]\n",
      "[((74.37682272988887, 87.79106902377777), (84.0851560632222, 103.33273569044444)), ((76.26571161877777, 90.888291246), (84.04348939655554, 103.33273569044444)), ((76.23793384099999, 90.79106902377777), (80.30737828544443, 88.24940235711111)), ((77.04348939655554, 92.11051346822222), (78.68237828544443, 94.73551346822222)), ((73.30737828544443, 88.41606902377777), (78.77960050766666, 84.99940235711111)), ((79.44626717433331, 84.79106902377777), (81.3490449521111, 87.83273569044444)), ((76.4601560632222, 90.40218013488888), (80.29348939655554, 88.013291246)), ((76.26571161877777, 90.72162457933332), (80.3351560632222, 88.17995791266667)), ((80.87682272988887, 88.22162457933332), (84.0851560632222, 86.22162457933332)), ((79.19626717433331, 95.52718013488888), (81.9601560632222, 99.97162457933332)), ((78.36293384099999, 85.31884680155555), (80.23793384099999, 88.30495791266667)), ((80.87682272988887, 88.27718013488888), (84.0851560632222, 86.263291246)), ((76.12682272988887, 90.56884680155555), (80.26571161877776, 87.98551346822222)), ((73.27960050766666, 88.41606902377777), (78.76571161877776, 84.98551346822222)), ((79.50182272988887, 84.81884680155555), (81.40460050766666, 87.86051346822222)), ((78.57126717433331, 85.24940235711111), (80.3351560632222, 88.08273569044444)), ((78.5990449521111, 85.37440235711111), (80.3351560632222, 88.16606902377777)), ((74.41848939655554, 87.67995791266667), (78.54348939655554, 85.09662457933332)), ((76.25182272988887, 90.74940235711111), (80.3351560632222, 88.19384680155555)), ((78.30737828544443, 85.30495791266667), (80.19626717433331, 88.33273569044444)), ((75.2101560632222, 86.638291246), (77.76571161877776, 84.91606902377777)), ((74.75182272988887, 86.74940235711111), (77.69626717433331, 84.91606902377777)), ((75.75182272988887, 90.04106902377777), (82.25182272988887, 100.45773569044444)), ((82.19626717433331, 100.31884680155555), (84.0851560632222, 103.36051346822222)), ((80.52960050766666, 86.54106902377777), (82.7240449521111, 85.17995791266667)), ((76.2101560632222, 90.55495791266667), (80.05737828544443, 88.15218013488888)), ((74.40460050766666, 87.69384680155555), (78.73793384099999, 84.98551346822222)), ((74.8490449521111, 86.84662457933332), (77.65460050766666, 84.888291246)), ((78.52960050766666, 85.23551346822222), (80.3351560632222, 88.138291246)), ((78.32126717433331, 85.30495791266667), (80.07126717433331, 88.11051346822222)), ((80.55737828544443, 86.58273569044444), (82.68237828544443, 85.24940235711111)), ((77.62682272988887, 89.638291246), (80.05737828544443, 88.12440235711111)), ((74.93237828544443, 86.59662457933332), (77.66848939655554, 84.888291246)), ((74.41848939655554, 87.80495791266667), (76.27960050766666, 90.80495791266667)), ((75.16848939655554, 86.65218013488888), (77.69626717433331, 84.888291246))]\n",
      "[]\n",
      "[((84.1268295576704, 54.94384680155555), (85.66925410808732, 57.416069023777766)), ((84.21020385769295, 54.99940235711111), (85.66925410808732, 57.34662457933332)), ((85.57198409139436, 57.52718013488888), (86.9615557584366, 59.74940235711111)), ((85.57198409139436, 57.485513468222216), (86.98934719177745, 59.74940235711111))]\n",
      "[((84.1268295576704, 71.73551346822222), (92.2558238098676, 84.74940235711111)), ((89.99082199258872, 81.04106902377777), (92.28361524320843, 84.70773569044444)), ((92.06128377648167, 74.84662457933332), (98.2448776948197, 84.74940235711111)), ((92.86723534336619, 76.08273569044444), (98.25877341149013, 84.70773569044444)), ((85.2384868913042, 73.47162457933332), (87.11440864181125, 76.47162457933332)), ((88.75410320892111, 78.69384680155555), (92.53373814327604, 84.74940235711111)), ((88.78189464226196, 78.65218013488888), (92.58932100995773, 84.74940235711111)), ((92.04738805981125, 74.86051346822222), (98.23098197814929, 84.74940235711111)), ((88.78189464226196, 77.99940235711111), (91.85284802642533, 76.08273569044444)), ((84.1268295576704, 71.67995791266667), (92.29751095987886, 84.74940235711111)), ((88.49008459218308, 78.73551346822222), (92.76996532667323, 76.06884680155555)), ((91.11637504289294, 82.90218013488888), (95.38236006071266, 80.23551346822222)), ((88.74020749225069, 78.62440235711111), (93.83993551029576, 75.44384680155555)), ((91.3387065096197, 82.80495791266665), (95.39625577738309, 80.27718013488888)), ((91.03300074287041, 82.67995791266665), (95.22950717733801, 80.06884680155555)), ((84.738241091169, 80.37440235711111), (87.23947009184505, 78.86051346822222)), ((88.78189464226196, 77.95773569044444), (92.54763385994646, 75.61051346822222)), ((91.19974934291548, 82.54106902377777), (92.57542529328731, 84.74940235711111)), ((89.28214044239716, 77.77718013488888), (91.75557800973237, 76.34662457933332)), ((86.48910139164224, 75.48551346822222), (91.19974934291548, 83.02718013488888)), ((91.32481079294928, 82.54106902377777), (95.25729861067886, 80.09662457933332)), ((87.01713862511829, 59.79106902377777), (90.56054637607605, 65.47162457933332)), ((86.97545147510702, 59.79106902377777), (90.07419629261125, 64.763291246)), ((89.74069909252111, 77.41606902377777), (92.53373814327604, 75.67995791266667)), ((85.0439468579183, 69.61051346822222), (88.18437882543378, 67.65218013488888)), ((86.86428574174364, 68.02718013488888), (90.61612924275774, 65.67995791266667)), ((85.05784257458872, 69.67995791266667), (88.22606597544505, 67.70773569044444)), ((89.71290765918027, 77.513291246), (92.53373814327604, 75.888291246)), ((87.25336580851548, 67.74940235711111), (90.61612924275774, 65.65218013488888)), ((85.15511259128168, 69.66606902377777), (88.18437882543378, 67.77718013488888)), ((87.08661720847041, 59.92995791266666), (90.6022335260873, 65.55495791266667)), ((94.61809564383942, 84.74940235711111), (97.17490751119716, 83.15218013488888)), ((94.68757422719153, 84.74940235711111), (97.20269894453801, 83.17995791266665)), ((88.82358179227323, 62.77718013488888), (90.61612924275774, 65.638291246)), ((85.01615542457745, 69.56884680155555), (88.11490024208167, 67.638291246)), ((86.30845707492675, 83.59662457933332), (88.40671029216055, 82.29106902377777)), ((88.79579035893238, 78.06884680155555), (91.72778657639154, 76.37440235711111)), ((86.60026712500562, 79.20773569044444), (88.42060600883097, 82.23551346822222)), ((85.00225970790703, 69.62440235711111), (88.18437882543378, 67.638291246)), ((90.7828778428028, 77.31884680155555), (93.79824836028449, 75.44384680155555)), ((90.36600634269013, 77.09662457933332), (92.53373814327604, 75.84662457933332)), ((89.83796910921407, 77.42995791266665), (92.54763385994646, 75.86051346822222)), ((85.30796547465633, 73.638291246), (87.22557437517463, 76.70773569044444)), ((89.17097470903379, 77.69384680155555), (91.3942893763014, 76.34662457933332)), ((86.26676992491548, 83.66606902377777), (88.36502314214928, 82.34662457933332)), ((86.68364142502816, 79.263291246), (88.39281457549012, 82.11051346822222)), ((86.86428574174364, 68.04106902377777), (90.6022335260873, 65.70773569044444)), ((95.11834144397463, 84.73551346822222), (97.31386467790139, 83.37440235711111)), ((95.09055001063379, 84.70773569044444), (97.29996896123097, 83.33273569044444)), ((91.3387065096197, 82.79106902377777), (95.43794292739435, 80.23551346822222)), ((85.00225970790703, 69.41606902377777), (87.64244587528731, 67.70773569044444)), ((85.0439468579183, 69.56884680155555), (88.14269167542253, 67.638291246)), ((85.11342544127041, 69.67995791266667), (88.22606597544505, 67.73551346822222)), ((87.90646449202534, 61.24940235711111), (90.61612924275774, 65.59662457933332)), ((88.5039803088535, 78.763291246), (92.56152957661689, 76.23551346822222)), ((84.93278112455492, 69.42995791266667), (87.64244587528731, 67.66606902377777)), ((89.10149612568168, 79.67995791266665), (92.26971952653801, 84.74940235711111)), ((86.69753714169858, 79.31884680155555), (88.42060600883097, 82.19384680155555))]\n",
      "[((98.2448776948197, 84.79106902377777), (108.18031511417182, 100.66606902377777)), ((84.59928392446477, 90.08273569044444), (88.1287959587521, 95.73551346822222)), ((98.35604342818309, 84.888291246), (108.18031511417182, 100.61051346822222)), ((100.35702662872393, 101.62440235711111), (106.37387194701688, 97.86051346822222)), ((84.98836399123661, 90.27718013488888), (88.93474752563661, 96.59662457933332)), ((97.02205462782251, 107.73551346822222), (101.49647539569858, 104.94384680155555)), ((97.02205462782251, 107.763291246), (100.31533947871266, 105.70773569044444)), ((100.17638231200843, 101.40218013488888), (106.2627062136535, 97.59662457933332)), ((89.58784620914646, 98.12440235711111), (95.49352579407605, 94.42995791266667)), ((89.51836762579435, 97.888291246), (95.27119432734928, 94.29106902377777)), ((89.56005477580563, 98.08273569044444), (95.4657343607352, 94.40218013488888)), ((84.97446827456618, 90.30495791266667), (88.93474752563661, 96.65218013488888)), ((84.11293384099999, 103.388291246), (88.08710880874084, 109.74940235711111)), ((86.73922429170985, 93.05495791266667), (88.89306037562534, 96.49940235711111)), ((87.90646449202534, 109.34662457933332), (91.15806219290421, 107.31884680155555)), ((100.25975661203097, 101.388291246), (106.24881049698308, 97.65218013488888)), ((84.96057255789576, 90.65218013488888), (90.7133992594507, 87.05495791266667)), ((84.96057255789576, 90.58273569044444), (90.72729497612112, 86.98551346822222)), ((84.14072527434084, 103.513291246), (88.04542165872957, 109.74940235711111)), ((84.65486679114646, 90.11051346822222), (88.1287959587521, 95.67995791266667)), ((89.53226334246477, 97.83273569044444), (95.20171574399717, 94.29106902377777)), ((84.54370105778308, 89.65218013488888), (87.64244587528731, 94.59662457933332)), ((100.19027802867886, 101.40218013488888), (106.24881049698308, 97.62440235711111)), ((103.10837852946759, 99.86051346822222), (106.33218479700562, 97.86051346822222)), ((102.1217826458676, 104.52718013488888), (104.94261312996336, 102.77718013488888)), ((94.32628559376055, 104.81884680155555), (98.00865051142252, 102.52718013488888)), ((93.0061925100704, 103.44384680155555), (98.77291492829576, 99.84662457933332)), ((102.21905266256054, 104.54106902377777), (108.20810654751266, 100.80495791266665)), ((88.10100452541126, 95.70773569044444), (94.00668411034083, 92.02718013488888)), ((93.04787966008168, 103.44384680155555), (98.74512349495491, 99.888291246)), ((103.19175282949013, 99.86051346822222), (106.38776766368731, 97.87440235711111)), ((96.18831162759717, 107.83273569044444), (101.3297267956535, 104.62440235711111)), ((95.36846434404224, 94.30495791266667), (97.85579762804787, 98.27718013488888)), ((84.87719825787323, 90.41606902377777), (90.61612924275774, 86.83273569044444)), ((84.93278112455492, 90.33273569044444), (90.51885922606478, 86.84662457933332)), ((102.13567836253802, 104.54106902377777), (108.01356651412675, 100.87440235711111)), ((94.34018131043098, 104.77718013488888), (97.93917192807041, 102.52718013488888)), ((95.43794292739435, 94.34662457933332), (97.91138049472956, 98.30495791266667)), ((95.85481442750702, 107.22162457933332), (101.57984969572111, 103.65218013488888)), ((95.13223716064506, 94.34662457933332), (97.91138049472956, 98.80495791266667)), ((95.93818872752956, 107.22162457933332), (100.31533947871266, 104.48551346822222)), ((87.71192445863942, 109.17995791266665), (91.8250565930845, 106.61051346822222)), ((93.89551837697745, 109.70773569044444), (96.42453881099435, 108.12440235711111)), ((96.1466244775859, 107.81884680155555), (101.26024821230139, 104.62440235711111)), ((97.03595034449295, 107.70773569044444), (101.67711971241407, 104.80495791266665)), ((92.97840107672957, 103.42995791266665), (98.77291492829576, 99.81884680155555)), ((92.81165247668449, 103.30495791266665), (97.46671756127604, 100.40218013488888)), ((93.75656121027322, 104.61051346822222), (98.3004605615014, 101.77718013488888)), ((88.08710880874084, 95.67995791266667), (91.26922792626759, 93.69384680155555)), ((88.21217025877463, 85.05495791266667), (89.89355197589576, 87.55495791266667)), ((104.24782729644224, 99.16606902377777), (106.35997623034646, 97.86051346822222)), ((89.54615905913519, 98.06884680155555), (91.93622232644788, 101.90218013488888)), ((93.77045692694365, 104.55495791266665), (98.21708626147885, 101.77718013488888)), ((89.65732479249857, 97.763291246), (93.14514967677464, 103.34662457933332)), ((95.17392431065632, 94.36051346822222), (97.84190191137745, 98.638291246)), ((102.16346979587885, 104.54106902377777), (108.16641939750139, 100.79106902377777)), ((95.8965015775183, 107.19384680155555), (101.57984969572111, 103.638291246)), ((95.13223716064506, 94.388291246), (97.91138049472956, 98.83273569044444)), ((88.19827454210422, 85.09662457933332), (89.62953335915773, 87.388291246)), ((106.2627062136535, 97.55495791266667), (108.19421083084224, 100.65218013488888)), ((84.33526530772674, 87.513291246), (85.82210699146196, 90.09662457933332)), ((84.89109397454365, 90.40218013488888), (90.6022335260873, 86.83273569044444)), ((87.698028741969, 109.16606902377777), (91.79726515974365, 106.61051346822222)), ((100.3987137787352, 101.54106902377777), (105.09546601333801, 98.61051346822222)), ((100.10690372865632, 101.34662457933332), (102.03840834584506, 104.44384680155555)), ((92.79775676001407, 103.263291246), (97.563987577969, 100.29106902377777)), ((99.39822217846478, 101.61051346822222), (101.17687391227886, 104.33273569044444)), ((96.93868032779999, 98.29106902377777), (98.34214771151267, 100.54106902377777)), ((88.10100452541126, 95.72162457933332), (93.71487406026196, 92.22162457933332)), ((86.1556041915521, 86.36051346822222), (87.73971589198027, 88.90218013488888)), ((92.79775676001407, 103.29106902377777), (97.50840471128731, 100.34662457933332)), ((88.46229315884224, 84.91606902377777), (90.04640485927041, 87.45773569044444)), ((84.4325353244197, 87.52718013488888), (85.9749598748366, 89.99940235711111)), ((89.60174192581688, 98.09662457933332), (95.47963007740562, 94.42995791266667)), ((98.34214771151267, 106.87440235711111), (102.14957407920843, 104.49940235711111)), ((102.1912612292197, 104.54106902377777), (105.34558891340562, 102.58273569044444)), ((88.19827454210422, 85.06884680155555), (89.7962819592028, 87.62440235711111)), ((88.26775312545632, 84.99940235711111), (89.87965625922534, 87.56884680155555)), ((93.617604043569, 105.11051346822222), (95.7158572608028, 108.48551346822222)), ((86.43351852496055, 86.16606902377777), (87.85088162534365, 88.54106902377777)), ((93.63149976023942, 105.17995791266665), (95.70196154413237, 108.49940235711111)), ((86.25287420824506, 86.33273569044444), (87.80919447533238, 88.81884680155555)), ((96.84141031110703, 98.34662457933332), (98.70343634494364, 101.22162457933332)), ((100.14859087866759, 101.34662457933332), (102.0661997791859, 104.41606902377777)), ((91.99180519312957, 106.66606902377777), (93.88162266030703, 109.69384680155555)), ((86.4613099583014, 86.16606902377777), (88.03152594205915, 88.69384680155555)), ((87.8786730586845, 109.37440235711111), (92.06128377648167, 106.763291246)), ((100.35702662872393, 101.61051346822222), (103.9143300963521, 99.388291246)), ((96.82751459443661, 98.36051346822222), (98.64785347826196, 101.27718013488888)), ((89.50447190912394, 97.94384680155555), (91.93622232644788, 101.83273569044444)), ((96.85530602777744, 99.04106902377777), (98.66174919493238, 101.12440235711111)), ((84.34916102439716, 87.513291246), (85.75262840810984, 89.83273569044444)), ((104.80365596325913, 102.94384680155555), (108.18031511417182, 100.83273569044444)), ((88.22606597544505, 85.02718013488888), (89.82407339254365, 87.59662457933332)), ((87.7675073253211, 109.16606902377777), (91.86674374309575, 106.61051346822222)), ((84.1824124243521, 87.61051346822222), (85.75262840810984, 90.138291246)), ((95.92429301085915, 107.22162457933332), (101.59374541239154, 103.67995791266665)), ((90.2270491759859, 91.05495791266667), (92.03349234314084, 93.20773569044444)), ((90.11588344262252, 98.55495791266667), (91.88063945976619, 101.27718013488888)), ((84.94667684122534, 90.62440235711111), (90.72729497612112, 87.013291246)), ((91.9501180431183, 106.65218013488888), (93.85383122696618, 109.69384680155555)), ((100.67662811214365, 101.138291246), (106.22101906364225, 97.67995791266667)), ((103.16396139614928, 99.87440235711111), (106.27660193032392, 97.92995791266667)), ((84.29357815771547, 87.513291246), (85.79431555812111, 90.11051346822222)), ((90.2270491759859, 91.013291246), (92.07517949315209, 93.22162457933332)), ((85.00225970790703, 90.27718013488888), (88.92085180896618, 96.55495791266667)), ((100.0930080119859, 102.69384680155555), (101.510371112369, 104.888291246)), ((86.16949990822252, 86.36051346822222), (87.65634159195773, 88.638291246)), ((84.39084817440843, 87.55495791266667), (85.93327272482534, 90.02718013488888)), ((91.75557800973237, 106.69384680155555), (93.58981261022815, 109.74940235711111)), ((88.23996169211549, 85.02718013488888), (89.71290765918027, 87.37440235711111)), ((98.27266912816054, 84.79106902377777), (100.31533947871266, 88.06884680155555)), ((86.44741424163097, 86.16606902377777), (87.86477734201407, 88.513291246)), ((90.2270491759859, 90.99940235711111), (92.15855379317463, 93.138291246)), ((96.74414029441407, 98.44384680155555), (98.46720916154646, 101.20773569044444)), ((90.26873632599717, 90.94384680155555), (92.35309382656055, 93.02718013488888)), ((93.77045692694365, 104.56884680155555), (98.2448776948197, 101.77718013488888)), ((93.67318691025069, 109.763291246), (96.41064309432393, 108.12440235711111)), ((84.32136959105632, 87.55495791266667), (85.76652412478026, 89.87440235711111)), ((97.28607324456055, 98.99940235711111), (98.68954062827322, 101.23551346822222)), ((86.50299710831266, 86.22162457933332), (88.01763022538871, 88.73551346822222)), ((84.19630814102253, 87.81884680155555), (85.724836974769, 90.16606902377777)), ((99.31484787844224, 105.81884680155555), (101.48257967902815, 104.45773569044444)), ((91.93622232644788, 106.65218013488888), (93.72876977693238, 109.513291246)), ((90.24094489265633, 90.95773569044444), (92.3253023932197, 93.04106902377777)), ((87.86477734201407, 109.42995791266665), (91.8945351764366, 106.91606902377777)), ((103.83095579632956, 103.66606902377777), (106.10985333027885, 102.24940235711111)), ((84.47422247443097, 87.73551346822222), (85.90548129148449, 90.04106902377777)), ((93.65929119358026, 105.263291246), (95.7158572608028, 108.55495791266665)), ((97.20269894453801, 99.08273569044444), (98.4950005948873, 101.23551346822222)), ((92.00570090979998, 106.66606902377777), (93.90941409364787, 109.70773569044444)), ((88.53177174219435, 85.08273569044444), (90.01861342592956, 87.47162457933332)), ((93.08956681009295, 103.42995791266665), (97.74463189468449, 100.52718013488888)), ((90.37990205936055, 90.95773569044444), (92.22803237652674, 93.08273569044444)), ((90.24094489265633, 90.97162457933332), (92.18634522651547, 93.12440235711111)), ((103.90043437968167, 103.77718013488888), (106.06816618026758, 102.47162457933332)), ((84.64097107447604, 90.06884680155555), (88.11490024208167, 95.638291246)), ((93.88162266030703, 109.65218013488888), (96.10493732757463, 108.31884680155555)), ((103.87264294634083, 103.763291246), (106.10985333027885, 102.42995791266665)), ((88.89306037562534, 95.16606902377777), (91.11637504289294, 93.77718013488888)), ((92.82554819335492, 103.31884680155555), (96.53570454435773, 100.99940235711111)), ((86.41962280829013, 86.16606902377777), (87.82309019200281, 88.513291246)), ((103.9143300963521, 103.77718013488888), (105.99868759691547, 102.52718013488888)), ((104.28951444645351, 99.19384680155555), (106.40166338035773, 97.87440235711111)), ((90.24094489265633, 90.94384680155555), (92.2002409431859, 93.11051346822222)), ((90.4076934927014, 99.40218013488888), (91.93622232644788, 101.86051346822222)), ((96.25779021094928, 96.11051346822222), (97.91138049472956, 98.77718013488888)), ((84.27968244104505, 87.513291246), (85.86379414147322, 90.06884680155555)), ((90.2270491759859, 90.98551346822222), (92.17244950984505, 93.138291246)), ((96.63297456105069, 107.49940235711111), (101.23245677896054, 104.62440235711111)), ((87.33674010853801, 93.98551346822222), (88.76799892559154, 96.27718013488888)), ((103.83095579632956, 103.65218013488888), (106.08206189693801, 102.24940235711111)), ((85.22459117463379, 90.47162457933332), (90.72729497612112, 87.02718013488888)), ((95.88260586084787, 107.22162457933332), (98.95355924501125, 105.30495791266665)), ((86.72532857503943, 93.09662457933332), (88.74020749225069, 96.30495791266667)), ((88.32333599213801, 95.54106902377777), (93.95110124365914, 92.02718013488888)), ((94.61809564383942, 109.23551346822222), (97.0081589111521, 107.80495791266665)), ((103.84485151299998, 103.763291246), (106.12374904694929, 102.40218013488888)), ((89.57395049247604, 98.09662457933332), (95.43794292739435, 94.42995791266667)), ((87.75361160865069, 109.17995791266665), (91.88063945976619, 106.61051346822222))]\n",
      "[((89.68308976715832, 112.306328548), (93.63975034201249, 109.82506543147367)), ((89.71392088852082, 112.306328548), (93.43420953292915, 109.97950089515788)), ((88.09014849676248, 109.78388264115789), (89.65225864579583, 112.2857371528421)), ((88.13125665857915, 109.78388264115789), (89.70364384806665, 112.306328548)), ((89.75502905033748, 112.29603285042106), (93.41365545202082, 110.01038798789473)), ((88.23402706312082, 109.96920519757894), (89.69336680761249, 112.306328548))]\n"
     ]
    }
   ],
   "source": [
    "for img_node in image_nodes:\n",
    "    print(img_node.transformed_lines)"
   ]
  },
  {
   "cell_type": "code",
   "execution_count": 45,
   "metadata": {},
   "outputs": [],
   "source": [
    "def get_points_from_line(transformed_lines):\n",
    "    \"\"\"Get the points from a line and also add the z-values back based on the level height\n",
    "\n",
    "    Args:\n",
    "        transformed_lines (lines): _description_\n",
    "\n",
    "    Returns:\n",
    "        points: _description_\n",
    "    \"\"\"\n",
    "    points = []\n",
    "    for line in transformed_lines:\n",
    "        # Extract endpoints\n",
    "        start_point = line[0]\n",
    "        end_point = line[1]\n",
    "        \n",
    "        # Append points with correct sequence (x, y, z)\n",
    "        points.append((*start_point, 0))\n",
    "        points.append((*end_point, 0))\n",
    "\n",
    "    # Convert points to NumPy array\n",
    "    points = np.array(points)\n",
    "\n",
    "    return points"
   ]
  },
  {
   "cell_type": "code",
   "execution_count": 46,
   "metadata": {},
   "outputs": [],
   "source": [
    "def lines_to_lineset(transformed_lines):\n",
    "    points = get_points_from_line(transformed_lines)\n",
    "    lineset = o3d.geometry.LineSet()\n",
    "    lineset.points = o3d.utility.Vector3dVector(points)\n",
    "\n",
    "    # Create line segments by specifying indices\n",
    "    lineset.lines = o3d.utility.Vector2iVector(np.array([[2*i, 2*i + 1] for i in range(len(transformed_lines))]))\n",
    "    \n",
    "    return lineset"
   ]
  },
  {
   "cell_type": "code",
   "execution_count": 47,
   "metadata": {},
   "outputs": [],
   "source": [
    "lineset=[]\n",
    "for img_node in image_nodes:\n",
    "    if img_node.transformed_lines:\n",
    "        img_node.lineset=lines_to_lineset(img_node.transformed_lines)\n",
    "        lineset.append(img_node.lineset)"
   ]
  },
  {
   "cell_type": "code",
   "execution_count": 48,
   "metadata": {},
   "outputs": [],
   "source": [
    "for line in lineset:    \n",
    "    line.paint_uniform_color([1,0,0])\n"
   ]
  },
  {
   "cell_type": "code",
   "execution_count": 49,
   "metadata": {},
   "outputs": [],
   "source": [
    "o3d.visualization.draw_geometries(lineset + geometries)"
   ]
  },
  {
   "cell_type": "code",
   "execution_count": 50,
   "metadata": {},
   "outputs": [],
   "source": [
    "def create_identity_point_cloud(geometries, resolution=0.1, getNormals=False):\n",
    "    \"\"\"Returns a sampled point cloud colorized per object of a set of objects along with an array with an identifier for each point.\n",
    "\n",
    "    Args:\n",
    "        geometries (o3d.geometry.PointCloud, o3d.geometry.TriangleMesh, or o3d.geometry.LineSet): List of geometries to process.\n",
    "        resolution (float, optional): (down)sampling resolution for the point cloud. Defaults to 0.1.\n",
    "        getNormals (bool, optional): Flag to compute normals. Defaults to False.\n",
    "\n",
    "    Raises:\n",
    "        ValueError: Geometries must be o3d.geometry (PointCloud, TriangleMesh, or LineSet)\n",
    "\n",
    "    Returns:\n",
    "        Tuple: (list of colorized point clouds (o3d.geometry.PointCloud), list of identity arrays (np.array)) per geometry\n",
    "    \"\"\"\n",
    "    geometries = ut.item_to_list(geometries)\n",
    "    allIdentityArrays = []\n",
    "    allPointClouds = []\n",
    "\n",
    "    for i, geometry in enumerate(geometries):\n",
    "        identityArray = None\n",
    "        pointClouds = []\n",
    "\n",
    "        if isinstance(geometry, o3d.geometry.PointCloud):\n",
    "            pcd = geometry.voxel_down_sample(resolution)\n",
    "            if getNormals:\n",
    "                gmu.get_points_and_normals(pcd, getNormals=getNormals)\n",
    "            identityArray = np.full((len(pcd.points), 1), i)\n",
    "            pointClouds.append(pcd)\n",
    "\n",
    "        elif isinstance(geometry, o3d.geometry.TriangleMesh):\n",
    "            area = geometry.get_surface_area()\n",
    "            count = int(area / (resolution * resolution))\n",
    "            count = count if count > 0 else len(np.asarray(geometry.vertices))\n",
    "            pcd = geometry.sample_points_uniformly(number_of_points=count, use_triangle_normal=getNormals)\n",
    "            identityArray = np.full((len(pcd.points), 1), i)\n",
    "            pointClouds.append(pcd)\n",
    "\n",
    "        elif isinstance(geometry, o3d.geometry.LineSet):\n",
    "            lines = np.asarray(geometry.lines)\n",
    "            points = np.asarray(geometry.points)\n",
    "\n",
    "            for j, line in enumerate(lines):\n",
    "                start_idx, end_idx = line\n",
    "                start_point = points[start_idx]\n",
    "                end_point = points[end_idx]\n",
    "                direction = end_point - start_point\n",
    "                length = np.linalg.norm(direction)\n",
    "                num_points = max(int(length / resolution), 2)\n",
    "\n",
    "                line_points = np.linspace(start_point, end_point, num_points)\n",
    "                identity = np.full((len(line_points), 1), j)  # Identity array for this line\n",
    "                allIdentityArrays.append(identity.flatten())  # Append identity array for this point cloud\n",
    "                pcd = o3d.geometry.PointCloud()\n",
    "                pcd.points = o3d.utility.Vector3dVector(line_points)\n",
    "                color = np.random.rand(3,)  # Random color for each line\n",
    "                pcd.paint_uniform_color(color)\n",
    "                pointClouds.append(pcd)\n",
    "\n",
    "        else:\n",
    "            print(f'{geometry} is invalid')\n",
    "            continue\n",
    "\n",
    "        allPointClouds.extend(pointClouds)\n",
    "\n",
    "    return allPointClouds, allIdentityArrays\n"
   ]
  },
  {
   "cell_type": "code",
   "execution_count": 51,
   "metadata": {},
   "outputs": [],
   "source": [
    "pcd,identity_array=create_identity_point_cloud(lineset)"
   ]
  },
  {
   "cell_type": "code",
   "execution_count": 52,
   "metadata": {},
   "outputs": [],
   "source": [
    "o3d.visualization.draw_geometries(pcd + [bbox])"
   ]
  },
  {
   "cell_type": "code",
   "execution_count": 53,
   "metadata": {},
   "outputs": [],
   "source": [
    "def find_nearest_neighbors(pc_index, point_cloud, point_clouds):\n",
    "    # Convert open3d point clouds to numpy arrays and flatten considering only x and y coordinates\n",
    "    flattened_point_clouds = np.concatenate([np.asarray(cloud.points)[:, :2] for cloud in point_clouds])\n",
    "\n",
    "    # Create Nearest Neighbors model\n",
    "    nbrs = NearestNeighbors(n_neighbors=10, algorithm='ball_tree').fit(flattened_point_clouds)\n",
    "\n",
    "    nearest_neighbors_info_all = []\n",
    "\n",
    "    for point in point_cloud.points:\n",
    "        # Find the indices of the nearest neighbors and their distances\n",
    "        distances, indices = nbrs.kneighbors([point[:2]])\n",
    "\n",
    "        # Find the point cloud and index of the point in that point cloud\n",
    "        nearest_neighbors_info = []\n",
    "        for i, idx in enumerate(indices[0]):\n",
    "            total_points = 0\n",
    "            for cloud_idx, cloud in enumerate(point_clouds):\n",
    "                if idx < total_points + len(cloud.points):\n",
    "                    nearest_neighbors_info.append((cloud_idx, distances[0][i]))\n",
    "                    break\n",
    "                else:\n",
    "                    total_points += len(cloud.points)\n",
    "\n",
    "        nearest_neighbors_info_all.append(nearest_neighbors_info)\n",
    "\n",
    "    nearest_line = {}\n",
    "    for pcd_index_per_point in nearest_neighbors_info_all:\n",
    "        for pcd_index, distance in pcd_index_per_point:\n",
    "            if pcd_index != pc_index:\n",
    "                if pcd_index not in nearest_line or distance < nearest_line[pcd_index]:\n",
    "                    nearest_line[pcd_index] = distance\n",
    "\n",
    "    # print(nearest_line)\n",
    "\n",
    "    return nearest_line"
   ]
  },
  {
   "cell_type": "code",
   "execution_count": 54,
   "metadata": {},
   "outputs": [],
   "source": [
    "def cluster_lines(pcd):\n",
    "    clusters = {}\n",
    "    for i, point_cloud in enumerate(pcd):\n",
    "        # Check if the current point cloud is already clustered\n",
    "        if i not in clusters:\n",
    "            # Initialize a new cluster with the current point cloud\n",
    "            cluster = {i}\n",
    "            nearest_neighbors_info_all = find_nearest_neighbors(i, point_cloud, pcd)\n",
    "            # print(nearest_neighbors_info_all)\n",
    "            \n",
    "            for neighbor_cloud_idx, distance in nearest_neighbors_info_all.items():\n",
    "                # Check if the distance to the neighbor is smaller than the threshold\n",
    "                if neighbor_cloud_idx != i and distance < 0.03:\n",
    "                    # Add the neighbor point cloud to the cluster\n",
    "                    cluster.add(neighbor_cloud_idx)\n",
    "            \n",
    "            # Add the cluster to the dictionary\n",
    "            clusters.update({point_cloud_idx: cluster for point_cloud_idx in cluster})\n",
    "\n",
    "    # Remove clusters with only one point cloud\n",
    "    clusters = {cluster_id: cluster for cluster_id, cluster in clusters.items() if len(cluster) > 1}\n",
    "\n",
    "    return clusters"
   ]
  },
  {
   "cell_type": "code",
   "execution_count": 55,
   "metadata": {},
   "outputs": [],
   "source": [
    "clusters=cluster_lines(pcd)\n",
    "# print(unique_clusters)"
   ]
  },
  {
   "cell_type": "code",
   "execution_count": 56,
   "metadata": {},
   "outputs": [],
   "source": [
    "def merge_clusters(clusters):\n",
    "    merged_clusters = {}\n",
    "    for key, values in clusters.items():\n",
    "        # Find clusters with common values\n",
    "        merged = False\n",
    "        for merged_key, merged_values in merged_clusters.items():\n",
    "            if merged_values.intersection(values):\n",
    "                merged_clusters[merged_key] = merged_values.union(values)\n",
    "                merged = True\n",
    "                break\n",
    "        if not merged:\n",
    "            merged_clusters[key] = values\n",
    "    return merged_clusters"
   ]
  },
  {
   "cell_type": "code",
   "execution_count": 57,
   "metadata": {},
   "outputs": [],
   "source": [
    "merged_clusters = merge_clusters(clusters)\n"
   ]
  },
  {
   "cell_type": "code",
   "execution_count": 58,
   "metadata": {},
   "outputs": [],
   "source": [
    "def visualise_clusters(clusters,lineset):\n",
    "    num_clusters = len(clusters)\n",
    "    cluster_colors = np.random.rand(num_clusters, 3)\n",
    "\n",
    "    # Create an empty list to store LineSet objects for visualization\n",
    "    visualized_clusters = []\n",
    "    visualized_non_clusters = []\n",
    "\n",
    "    i=0\n",
    "    # Visualize lines belonging to each cluster\n",
    "    for cluster_id, lines_indices in clusters.items():\n",
    "        # Create a new LineSet object for the cluster\n",
    "        cluster_lines = o3d.geometry.LineSet()\n",
    "        cluster_lines.points = lineset.points\n",
    "        cluster_lines.lines = o3d.utility.Vector2iVector([lineset.lines[i] for i in lines_indices])\n",
    "        \n",
    "        # Assign color to the cluster based on its ID\n",
    "        color = cluster_colors[i]\n",
    "        cluster_lines.colors = o3d.utility.Vector3dVector([color] * len(cluster_lines.lines))\n",
    "        i+=1\n",
    "        # Add the cluster to the list\n",
    "        visualized_clusters.append(cluster_lines)\n",
    "\n",
    "    # Identify lines not belonging to any cluster\n",
    "    non_cluster_lines_indices = set(range(len(lineset.lines))) - set.union(*clusters.values())\n",
    "    if non_cluster_lines_indices:\n",
    "        non_cluster_lines = o3d.geometry.LineSet()\n",
    "        non_cluster_lines.points = lineset.points\n",
    "        non_cluster_lines.lines = o3d.utility.Vector2iVector([lineset.lines[i] for i in non_cluster_lines_indices])\n",
    "        \n",
    "        # Assign a distinct color to lines not in any cluster\n",
    "        non_cluster_lines.colors = o3d.utility.Vector3dVector([[1.0, 0.0, 0.0]] * len(non_cluster_lines.lines))\n",
    "        \n",
    "        # Add the non-cluster lines to the list\n",
    "        visualized_non_clusters.append(non_cluster_lines)\n",
    "        \n",
    "    return visualized_clusters,visualized_non_clusters"
   ]
  },
  {
   "cell_type": "code",
   "execution_count": 59,
   "metadata": {},
   "outputs": [],
   "source": [
    "def extract_coordinates(clusters,cluster_index):\n",
    "    x = []\n",
    "    y = []\n",
    "    for line_index in clusters[cluster_index]:\n",
    "        line = transformed_lines[line_index]\n",
    "        x.extend([point[0] for point in line])\n",
    "        y.extend([point[1] for point in line])\n",
    "    return x, y"
   ]
  },
  {
   "cell_type": "code",
   "execution_count": 60,
   "metadata": {},
   "outputs": [],
   "source": [
    "def dot_product_of_normalized_lines(line1_start, line1_end, line2_start, line2_end):\n",
    "    \"\"\"\n",
    "    Calculate the dot product of two normalized lines.\n",
    "    \"\"\"\n",
    "    # Convert line coordinates to numpy arrays\n",
    "    line1_vector = np.array(line1_end) - np.array(line1_start)\n",
    "    line2_vector = np.array(line2_end) - np.array(line2_start)\n",
    "    \n",
    "    # Normalize the vectors\n",
    "    line1_normalized = line1_vector / np.linalg.norm(line1_vector)\n",
    "    line2_normalized = line2_vector / np.linalg.norm(line2_vector)\n",
    "    \n",
    "    # Calculate the dot product\n",
    "    dot_product = np.dot(line1_normalized, line2_normalized)\n",
    "    \n",
    "    return dot_product"
   ]
  },
  {
   "cell_type": "code",
   "execution_count": 61,
   "metadata": {},
   "outputs": [
    {
     "name": "stdout",
     "output_type": "stream",
     "text": [
      "{0: {0, 67, 71, 72, 44, 47, 17, 52, 23, 25, 58, 61}, 2: {2, 3, 39}, 5: {5, 86}, 6: {65, 68, 37, 6, 11, 78, 51, 21, 22, 87, 53, 24, 26, 27}, 34: {7, 8, 9, 10, 135, 12, 14, 15, 16, 18, 20, 29, 31, 34, 162, 43, 46, 48, 49, 55, 56, 62, 63, 66, 70, 73, 74, 77, 80, 83, 84, 88, 112}, 13: {13, 79}, 81: {81, 19, 57}, 59: {36, 69, 38, 59, 76, 28}, 64: {64, 33, 40, 42, 82, 85, 30}, 32: {32, 50}, 35: {35, 60}, 121: {130, 132, 142, 143, 146, 147, 89, 153, 156, 159, 164, 165, 166, 169, 107, 108, 111, 114, 115, 116, 118, 121, 125, 126, 127}, 105: {105, 90}, 145: {145, 102, 104, 93}, 161: {161, 154, 94}, 96: {96, 116}, 97: {97, 100, 133, 103}, 98: {523, 540, 351, 417, 98, 354, 355, 486, 361, 490, 554, 428, 370, 117, 502, 380, 508, 573, 446}, 99: {99, 119}, 168: {168, 101}, 106: {106, 167}, 136: {136, 110, 113, 151}, 153: {153, 115, 156}, 120: {120, 138, 152}, 122: {122, 141}, 123: {123, 157}, 128: {128, 163}, 131: {131, 134, 140}, 137: {137, 158}, 160: {160, 139}, 176: {176, 170, 174}, 171: {171, 172, 173, 175}, 178: {178, 324, 295}, 294: {179, 294, 183, 200, 203}, 186: {224, 191, 261, 234, 331, 298, 337, 180, 184, 186, 222, 286}, 330: {256, 290, 228, 330, 236, 302, 271, 339, 308, 181, 182, 213, 278, 219, 221, 223}, 226: {321, 258, 269, 333, 334, 338, 275, 341, 344, 226, 296, 301, 242, 244, 185, 255}, 274: {241, 274, 326, 231, 187}, 188: {210, 262, 263, 188, 318}, 220: {220, 189}, 192: {192, 267, 332, 204, 270, 336, 305, 340, 309}, 193: {193, 319}, 194: {194, 259, 310, 279}, 250: {320, 195, 299, 238, 206, 247, 250, 317}, 297: {297, 196}, 197: {197, 284, 207}, 257: {257, 198, 335, 276}, 291: {291, 199, 311, 316}, 312: {312, 201}, 304: {229, 202, 235, 300, 304, 272, 213, 217, 218, 252}, 212: {212, 342, 215, 205}, 323: {323, 260, 328, 208, 339, 213, 245, 214, 216, 313, 282, 223}, 209: {209, 243, 211, 277, 329}, 283: {283, 227}, 322: {322, 325, 230, 327, 265, 280, 253}, 233: {233, 306}, 240: {240, 249, 251}, 266: {266, 246}, 345: {292, 343, 345, 254}, 273: {273, 268}, 419: {350, 419, 427, 524, 493, 366, 556, 346, 347, 572, 414}, 414: {572, 414}, 483: {483, 348}, 395: {417, 361, 490, 395, 428, 502, 508, 349, 446, 351}, 352: {384, 449, 388, 391, 392, 459, 470, 407, 539, 352, 481, 418, 360, 553, 425, 496, 433, 371, 565, 567, 377, 506, 511}, 353: {353, 499, 551, 476}, 356: {368, 356, 478}, 357: {547, 357, 454, 396, 557, 492, 430, 460, 369, 468, 406, 503, 409, 474}, 569: {569, 359}, 362: {442, 451, 570, 389, 440, 362}, 418: {418, 421, 552, 363, 378, 526, 433, 567, 441, 506}, 552: {552, 378, 526}, 364: {364, 439}, 432: {432, 365, 367}, 501: {501, 373}, 528: {528, 438, 374}, 461: {461, 375}, 376: {466, 462, 535, 376, 542}, 379: {544, 507, 473, 379, 479}, 514: {514, 381}, 431: {512, 452, 453, 518, 519, 521, 401, 530, 416, 549, 423, 431, 560, 562, 563, 566, 383}, 385: {385, 538}, 426: {386, 568, 426}, 393: {404, 452, 566, 453, 518, 393}, 394: {517, 455, 522, 394, 525, 472, 412}, 484: {516, 397, 463, 400, 533, 411, 546, 484, 420, 429, 558, 495, 559, 500}, 413: {413, 398}, 536: {402, 435, 536}, 504: {513, 498, 403, 504, 457}, 480: {480, 434, 405}, 561: {561, 458, 410}, 529: {529, 415}, 443: {467, 422, 443}, 437: {437, 543}, 537: {537, 445}, 571: {532, 491, 571, 447}, 450: {450, 510}, 464: {464, 550}, 541: {541, 469}, 576: {576, 577, 583, 575, 596, 597, 574, 607}, 578: {578, 600, 587, 591}, 579: {579, 604}, 584: {580, 584, 586, 589, 593, 599, 603, 605}, 592: {592, 581, 602, 590}, 588: {588, 582}, 608: {608, 595, 601, 606}, 611: {611, 612}, 613: {613, 615, 617, 620, 652, 655, 624, 625, 623, 629, 632, 667, 669}, 622: {614, 618, 619, 622, 626, 627, 630, 662}, 616: {616, 662}, 656: {656, 636, 621}, 640: {640, 631, 649, 653, 654}, 654: {653, 654}, 634: {634, 643}, 666: {646, 666, 635}, 651: {651, 637}, 641: {641, 659, 638}, 665: {665, 639}, 664: {664, 647}, 658: {658, 670}, 678: {673, 674, 773, 678, 782, 814, 721, 758, 694, 730, 701, 734, 671}, 672: {768, 770, 774, 775, 776, 778, 779, 781, 783, 784, 786, 789, 791, 792, 795, 798, 672, 802, 675, 804, 805, 807, 810, 682, 684, 812, 687, 815, 688, 690, 818, 692, 821, 819, 823, 825, 826, 699, 704, 705, 719, 720, 729, 731, 732, 739, 740, 742, 743, 747, 748, 750, 756, 762, 764, 766}, 715: {737, 676, 677, 711, 777, 745, 715, 702, 767}, 760: {708, 710, 679, 744, 681, 728, 816, 817, 722, 725, 760, 829}, 680: {817, 691, 725, 710, 680}, 683: {712, 683, 796, 733}, 772: {772, 693, 686}, 706: {706, 726, 695}, 716: {800, 769, 803, 716, 753, 697, 724, 790, 759, 761, 700}, 698: {746, 698, 763}, 824: {709, 754, 727, 824}, 801: {801, 771, 808, 713, 780, 755, 788, 757, 794, 827, 799}, 793: {820, 793, 714}, 741: {736, 741, 811, 717}, 787: {787, 723}, 749: {749, 751}, 765: {765, 830}, 797: {797, 822}, 813: {813, 806}, 809: {809, 828}, 834: {832, 834, 835, 836, 831}}\n"
     ]
    }
   ],
   "source": [
    "print(merged_clusters)"
   ]
  },
  {
   "cell_type": "code",
   "execution_count": 62,
   "metadata": {},
   "outputs": [
    {
     "name": "stdout",
     "output_type": "stream",
     "text": [
      "[LineSet with 88 lines., LineSet with 82 lines., LineSet with 7 lines., LineSet with 169 lines., LineSet with 228 lines., LineSet with 35 lines., LineSet with 4 lines., LineSet with 58 lines., LineSet with 160 lines., LineSet with 6 lines.]\n"
     ]
    }
   ],
   "source": [
    "print(lineset)"
   ]
  },
  {
   "cell_type": "code",
   "execution_count": 63,
   "metadata": {},
   "outputs": [],
   "source": [
    "# Concatenate all LineSets into a single LineSet\n",
    "big_lineset = o3d.geometry.LineSet()\n",
    "for line in lineset:\n",
    "    big_lineset += line\n"
   ]
  },
  {
   "cell_type": "code",
   "execution_count": 64,
   "metadata": {},
   "outputs": [
    {
     "name": "stdout",
     "output_type": "stream",
     "text": [
      "LineSet with 837 lines.\n"
     ]
    }
   ],
   "source": [
    "print(big_lineset)"
   ]
  },
  {
   "cell_type": "code",
   "execution_count": 65,
   "metadata": {},
   "outputs": [],
   "source": [
    "def calculate_angle(dot_product):\n",
    "    # Ensure the dot product is within the valid range [-1, 1] to avoid NaNs due to floating point errors\n",
    "    dot_product = np.clip(dot_product, -1.0, 1.0)\n",
    "    angle_radians = np.arccos(dot_product)\n",
    "    angle_degrees = np.degrees(angle_radians)\n",
    "    return angle_degrees"
   ]
  },
  {
   "cell_type": "code",
   "execution_count": 66,
   "metadata": {},
   "outputs": [],
   "source": [
    "def remove_perpendicular_lines_from_clusters(clusters, lineset):\n",
    "    lines_to_remove = []\n",
    "    angle_threshold = 15.0  # Angle threshold in degrees\n",
    "\n",
    "    for count, assigned_lines in clusters.items():\n",
    "        org_line = np.asarray(lineset.lines[count])\n",
    "        org_start = np.asarray(lineset.points)[org_line[0]][:2]\n",
    "        org_end = np.asarray(lineset.points)[org_line[1]][:2]\n",
    "        \n",
    "        for ass_line in list(assigned_lines):\n",
    "            line = np.asarray(lineset.lines[ass_line])\n",
    "            start = np.asarray(lineset.points)[line[0]][:2]\n",
    "            end = np.asarray(lineset.points)[line[1]][:2]\n",
    "            \n",
    "            dot_product = dot_product_of_normalized_lines(org_start, org_end, start, end)\n",
    "            angle = calculate_angle(dot_product)\n",
    "            \n",
    "            if angle > angle_threshold:\n",
    "                lines_to_remove.append((count, ass_line))\n",
    "\n",
    "    # Remove lines from unique_clusters\n",
    "    for count, ass_line in lines_to_remove:\n",
    "        clusters[count].remove(ass_line)\n",
    "\n",
    "    return clusters"
   ]
  },
  {
   "cell_type": "code",
   "execution_count": 67,
   "metadata": {},
   "outputs": [],
   "source": [
    "# def remove_perpendicular_lines_from_clusters(clusters,lineset):\n",
    "#     lines_to_remove = []\n",
    "\n",
    "#     for count, assigned_lines in clusters.items():\n",
    "#         org_line = np.asarray(lineset.lines[count])\n",
    "#         org_start = np.asarray(lineset.points)[org_line[0]][:2]\n",
    "#         org_end = np.asarray(lineset.points)[org_line[1]][:2]\n",
    "        \n",
    "#         for ass_line in list(assigned_lines):\n",
    "#             line = np.asarray(lineset.lines[ass_line])\n",
    "#             start = np.asarray(lineset.points)[line[0]][:2]\n",
    "#             end = np.asarray(lineset.points)[line[1]][:2]\n",
    "            \n",
    "#             result = dot_product_of_normalized_lines(org_start, org_end, start, end)\n",
    "#             test = abs(1 - result)\n",
    "            \n",
    "#             if test > 0.1: \n",
    "#                 # print(\"Dot product of the two lines:\", count, \"and\", ass_line, result)\n",
    "#                 lines_to_remove.append((count, ass_line))\n",
    "\n",
    "#     # Remove lines from unique_clusters\n",
    "#     for count, ass_line in lines_to_remove:\n",
    "#         clusters[count].remove(ass_line)\n",
    "\n",
    "#     return clusters"
   ]
  },
  {
   "cell_type": "code",
   "execution_count": 68,
   "metadata": {},
   "outputs": [],
   "source": [
    "merged_parallel_clusters=remove_perpendicular_lines_from_clusters(merged_clusters,big_lineset)"
   ]
  },
  {
   "cell_type": "code",
   "execution_count": 69,
   "metadata": {},
   "outputs": [
    {
     "name": "stdout",
     "output_type": "stream",
     "text": [
      "{0: {0, 72, 61}, 2: {2, 3, 39}, 5: {5, 86}, 6: {6, 21, 22, 87, 27}, 34: {34, 70, 10, 20, 84}, 16: {8, 16}, 29: {80, 29, 15}, 46: {77, 46}, 24: {24, 37}, 62: {49, 62}, 13: {13, 79}, 67: {67, 71, 47, 25, 58}, 43: {56, 43, 83}, 81: {81, 19, 57}, 26: {65, 26}, 59: {59, 36, 69}, 38: {76, 38}, 64: {64, 33, 40, 30}, 32: {32, 50}, 35: {35, 60}, 112: {112, 162}, 121: {121, 130, 132, 142, 146, 89}, 105: {105, 90}, 145: {104, 145, 102}, 161: {161, 154, 94}, 96: {96}, 116: {169, 107, 116, 125}, 97: {97, 133}, 98: {98, 117}, 99: {99, 119}, 168: {168, 101}, 106: {106, 167}, 166: {147, 166, 159}, 136: {136, 113, 110, 151}, 153: {153, 115}, 120: {120, 152}, 122: {122, 141}, 123: {123, 157}, 128: {128, 163}, 131: {131, 140}, 137: {137, 158}, 160: {160, 139}, 176: {176, 170, 174}, 171: {171, 172}, 178: {178, 324, 295}, 294: {200, 294, 183}, 186: {186, 234, 331, 222}, 330: {256, 330, 219}, 308: {290, 308}, 191: {337, 191}, 226: {226, 296, 301, 269, 242, 275}, 274: {241, 274, 231}, 188: {188, 262, 318, 263}, 220: {220, 189}, 192: {192, 332, 270, 305, 309}, 193: {193, 319}, 194: {194, 259, 310, 279}, 250: {320, 250, 299, 247}, 297: {297, 196}, 197: {197, 207}, 257: {257, 276, 198, 335}, 291: {291, 316, 311, 199}, 312: {312, 201}, 304: {304, 217, 252, 229}, 212: {212, 205, 342}, 323: {328, 282, 323, 260}, 213: {339, 213, 223}, 209: {209, 277}, 283: {283, 227}, 322: {322, 325, 230, 327, 253}, 233: {233, 306}, 235: {235, 300}, 240: {240, 249, 251}, 266: {266, 246}, 345: {345, 292, 254, 343}, 273: {273, 268}, 419: {419, 493}, 414: {572, 414}, 350: {347, 556, 350}, 483: {483, 348}, 395: {395, 428, 349}, 490: {370, 490, 540}, 352: {352, 553, 565}, 353: {353, 499, 476}, 356: {356, 478}, 357: {357, 454, 492, 557, 396, 503}, 569: {569, 359}, 384: {496, 449, 384}, 362: {362, 451, 570, 389}, 418: {418, 433, 506}, 552: {552, 378}, 441: {441, 421}, 364: {364, 439}, 432: {432, 367}, 501: {501, 373}, 528: {528, 438, 374}, 461: {461, 375}, 376: {376, 542}, 379: {379, 507}, 514: {514, 381}, 431: {512, 562, 431}, 385: {385, 538}, 426: {426, 386, 568}, 393: {393, 404, 566}, 394: {394, 522, 525, 472, 412}, 484: {546, 484, 558, 559, 495}, 413: {413, 398}, 429: {516, 429}, 533: {411, 533, 463}, 401: {560, 401, 530}, 536: {536, 402, 435}, 504: {504, 513, 403, 457}, 480: {480, 434, 405}, 430: {409, 474, 430, 406}, 459: {459, 470}, 561: {561, 458}, 529: {529, 415}, 443: {443, 422, 467}, 437: {437, 543}, 537: {537, 445}, 571: {571, 532, 447}, 450: {450, 510}, 462: {462, 535}, 464: {464, 550}, 541: {541, 469}, 576: {576, 577, 583, 597, 574, 607}, 578: {578, 587}, 579: {579, 604}, 584: {584, 580, 589, 599}, 592: {592, 581, 590}, 588: {588, 582}, 608: {608, 601, 606}, 611: {611, 612}, 613: {613, 617, 655, 632, 667, 669}, 622: {622, 627, 614}, 629: {652, 620, 629, 615}, 616: {616}, 662: {626, 630, 662}, 656: {656, 636, 621}, 640: {640, 649}, 654: {653, 654}, 634: {634, 643}, 666: {666, 635, 646}, 651: {651, 637}, 641: {641, 659, 638}, 665: {665, 639}, 664: {664, 647}, 658: {658, 670}, 678: {678, 814, 782, 730, 671}, 672: {672, 770}, 721: {721, 734, 694, 758}, 675: {675, 776, 684, 687, 719, 821, 825}, 715: {745, 715, 777}, 760: {816, 760, 722}, 680: {680, 725}, 699: {786, 699, 804, 815}, 683: {683, 796, 733}, 772: {772, 693, 686}, 756: {812, 750, 783, 756, 732}, 691: {691, 710}, 706: {706, 726, 695}, 716: {753, 716, 761, 790}, 700: {803, 700}, 698: {698, 746, 763}, 824: {824, 754, 709, 727}, 711: {767, 711}, 801: {801, 755, 780, 757}, 788: {808, 827, 788, 799}, 793: {793, 714, 820}, 741: {736, 741}, 787: {787, 723}, 749: {749, 751}, 765: {765, 830}, 768: {768, 826, 775}, 797: {797, 822}, 813: {813, 806}, 809: {809, 828}, 834: {832, 834, 835, 836}}\n"
     ]
    }
   ],
   "source": [
    "# Create a dictionary to keep track of which elements have been clustered\n",
    "element_to_cluster = {}\n",
    "\n",
    "simplified_clusters = {}\n",
    "\n",
    "for cluster_id, elements in clusters.items():\n",
    "    # Check if any element in the current cluster has been clustered before\n",
    "    existing_cluster = None\n",
    "    for element in elements:\n",
    "        if element in element_to_cluster:\n",
    "            existing_cluster = element_to_cluster[element]\n",
    "            break\n",
    "\n",
    "    # If an existing cluster is found, skip this cluster\n",
    "    if existing_cluster is not None:\n",
    "        continue\n",
    "\n",
    "    # Otherwise, add this cluster to the simplified_clusters dictionary\n",
    "    simplified_clusters[cluster_id] = elements\n",
    "\n",
    "    # Update the element_to_cluster dictionary\n",
    "    for element in elements:\n",
    "        element_to_cluster[element] = cluster_id\n",
    "\n",
    "print(simplified_clusters)"
   ]
  },
  {
   "cell_type": "code",
   "execution_count": 70,
   "metadata": {},
   "outputs": [],
   "source": [
    "parallel_clusters=remove_perpendicular_lines_from_clusters(simplified_clusters,big_lineset)"
   ]
  },
  {
   "cell_type": "code",
   "execution_count": 71,
   "metadata": {},
   "outputs": [],
   "source": [
    "visualized_clusters,visualized_non_clusters=visualise_clusters(merged_parallel_clusters,big_lineset)"
   ]
  },
  {
   "cell_type": "code",
   "execution_count": 72,
   "metadata": {},
   "outputs": [],
   "source": [
    "# visualized_initial_clusters,visualized_initial_non_clusters=visualise_clusters(parallel_clusters)"
   ]
  },
  {
   "cell_type": "code",
   "execution_count": 73,
   "metadata": {},
   "outputs": [],
   "source": [
    "visualized_non_clusters=visualized_non_clusters[0]"
   ]
  },
  {
   "cell_type": "code",
   "execution_count": 74,
   "metadata": {},
   "outputs": [],
   "source": [
    "o3d.visualization.draw_geometries(visualized_clusters)"
   ]
  },
  {
   "cell_type": "code",
   "execution_count": 75,
   "metadata": {},
   "outputs": [],
   "source": [
    "# Define a linear function (y = mx + c) to fit the data\n",
    "def linear_func(x, m, c):\n",
    "    return m * x + c"
   ]
  },
  {
   "cell_type": "code",
   "execution_count": 76,
   "metadata": {},
   "outputs": [],
   "source": [
    "def fit_line_through_cluster(clusters):\n",
    "    # Create an empty list to store the lines\n",
    "    fitted_lines = []\n",
    "\n",
    "    # Fit each cluster's points to a line and store it\n",
    "    for cluster_index,i in clusters.items():\n",
    "        if i :\n",
    "            x, y = extract_coordinates(clusters,cluster_index)\n",
    "            # Fit the linear function to the data\n",
    "            params, _ = curve_fit(linear_func, x, y)\n",
    "            # Store the fitted line\n",
    "            fitted_lines.append(((min(x), linear_func(min(x), *params)), (max(x), linear_func(max(x), *params))))\n",
    "    return fitted_lines"
   ]
  },
  {
   "cell_type": "code",
   "execution_count": 77,
   "metadata": {},
   "outputs": [
    {
     "name": "stdout",
     "output_type": "stream",
     "text": [
      "{0: {0, 72}, 2: {2, 3, 39}, 5: {5, 86}, 6: {6, 87, 27}, 34: {34}, 16: {8, 16}, 29: {80, 29, 15}, 46: {46}, 24: {24, 37}, 62: {49, 62}, 13: {13, 79}, 67: {67, 71, 25}, 43: {56, 43, 83}, 81: {81, 19, 57}, 26: {65, 26}, 59: {59}, 38: {76, 38}, 64: {64, 33, 40, 30}, 32: {32, 50}, 35: {35, 60}, 112: {112, 162}, 121: {121, 130, 132, 142}, 105: {105, 90}, 145: {145, 102}, 161: {161, 154, 94}, 96: {96}, 116: {169, 107, 116}, 97: {97, 133}, 98: {98, 117}, 99: {99, 119}, 168: {168, 101}, 106: {106, 167}, 166: {147, 166, 159}, 136: {136, 113}, 153: {153, 115}, 120: {120, 152}, 122: {122, 141}, 123: {123, 157}, 128: {128, 163}, 131: {131, 140}, 137: {137, 158}, 160: {160, 139}, 176: {176, 174}, 171: {171, 172}, 178: {178, 324, 295}, 294: {200, 294, 183}, 186: {186, 222}, 330: {256, 330}, 308: {308}, 191: {191}, 226: {226, 269}, 274: {241, 274, 231}, 188: {188, 262, 318, 263}, 220: {220, 189}, 192: {192, 332, 270, 305, 309}, 193: {193, 319}, 194: {194, 259, 310, 279}, 250: {250, 299, 247}, 297: {297, 196}, 197: {197}, 257: {257, 335}, 291: {291, 316, 311, 199}, 312: {312, 201}, 304: {304, 252}, 212: {212, 205, 342}, 323: {328, 282, 323, 260}, 213: {213}, 209: {209, 277}, 283: {283, 227}, 322: {322, 230, 327, 253}, 233: {233, 306}, 235: {235}, 240: {240, 251}, 266: {266, 246}, 345: {345, 292, 254, 343}, 273: {273, 268}, 419: {419, 493}, 414: {572, 414}, 350: {347, 556, 350}, 483: {483}, 395: {395, 428, 349}, 490: {490}, 352: {352, 565}, 353: {353, 499}, 356: {356, 478}, 357: {357, 557, 503}, 569: {569, 359}, 384: {384}, 362: {362}, 418: {418}, 552: {552, 378}, 441: {441, 421}, 364: {364}, 432: {432, 367}, 501: {501, 373}, 528: {528, 438, 374}, 461: {461, 375}, 376: {376, 542}, 379: {379}, 514: {514, 381}, 431: {512, 562, 431}, 385: {385, 538}, 426: {426, 386, 568}, 393: {393, 404}, 394: {394, 522, 525, 472, 412}, 484: {546, 484, 558, 559, 495}, 413: {413, 398}, 429: {516, 429}, 533: {411, 533, 463}, 401: {560, 401}, 536: {536}, 504: {504, 513, 403}, 480: {480}, 430: {409, 474, 430}, 459: {459, 470}, 561: {561, 458}, 529: {529}, 443: {443, 422}, 437: {437, 543}, 537: {537, 445}, 571: {571, 532, 447}, 450: {450, 510}, 462: {462, 535}, 464: {464, 550}, 541: {541, 469}, 576: {576}, 578: {578, 587}, 579: {579}, 584: {584, 589}, 592: {592, 581}, 588: {588}, 608: {608, 601, 606}, 611: {611, 612}, 613: {613, 617, 655, 632, 669}, 622: {622, 614}, 629: {652, 629}, 616: {616}, 662: {626, 662}, 656: {656, 636, 621}, 640: {640, 649}, 654: {653, 654}, 634: {634, 643}, 666: {666, 635, 646}, 651: {651, 637}, 641: {641, 659, 638}, 665: {665, 639}, 664: {664, 647}, 658: {658, 670}, 678: {678, 814}, 672: {672}, 721: {721, 734, 694, 758}, 675: {675, 776, 684, 821, 825}, 715: {745, 715}, 760: {816, 760, 722}, 680: {680}, 699: {699}, 683: {683}, 772: {772, 693, 686}, 756: {812, 750, 783, 756}, 691: {691}, 706: {706, 726, 695}, 716: {716}, 700: {803, 700}, 698: {698, 746, 763}, 824: {824, 709, 727}, 711: {767, 711}, 801: {801, 755, 780}, 788: {808, 827, 788}, 793: {793, 714, 820}, 741: {736, 741}, 787: {787, 723}, 749: {749, 751}, 765: {765, 830}, 768: {768, 775}, 797: {797, 822}, 813: {813, 806}, 809: {809, 828}, 834: {834, 836}}\n"
     ]
    }
   ],
   "source": [
    "print(parallel_clusters)"
   ]
  },
  {
   "cell_type": "code",
   "execution_count": 78,
   "metadata": {},
   "outputs": [
    {
     "name": "stderr",
     "output_type": "stream",
     "text": [
      "C:\\Users\\u0138247\\AppData\\Local\\Temp\\ipykernel_26284\\188946790.py:10: OptimizeWarning: Covariance of the parameters could not be estimated\n",
      "  params, _ = curve_fit(linear_func, x, y)\n"
     ]
    }
   ],
   "source": [
    "fitted_lines=fit_line_through_cluster(parallel_clusters)"
   ]
  },
  {
   "cell_type": "code",
   "execution_count": 79,
   "metadata": {},
   "outputs": [],
   "source": [
    "fitted_lineset=lines_to_lineset(fitted_lines)"
   ]
  },
  {
   "cell_type": "code",
   "execution_count": 80,
   "metadata": {},
   "outputs": [
    {
     "name": "stdout",
     "output_type": "stream",
     "text": [
      "LineSet with 178 lines.\n"
     ]
    }
   ],
   "source": [
    "print(fitted_lineset)"
   ]
  },
  {
   "cell_type": "code",
   "execution_count": 81,
   "metadata": {},
   "outputs": [],
   "source": [
    "# Create an empty LineSet for merged lines\n",
    "merged_linesets = o3d.geometry.LineSet()\n",
    "\n",
    "# Adjust line indices for the second LineSet\n",
    "num_points_fitted = len(fitted_lineset.points)\n",
    "adjusted_visualized_non_clusters_lines = [[idx1 + num_points_fitted, idx2 + num_points_fitted] for idx1, idx2 in visualized_non_clusters.lines]\n",
    "\n",
    "# Merge lines from both LineSets\n",
    "merged_lines = list(fitted_lineset.lines) + adjusted_visualized_non_clusters_lines\n",
    "merged_linesets.lines = o3d.utility.Vector2iVector(merged_lines)\n",
    "\n",
    "# Merge points from both LineSets\n",
    "merged_points = list(fitted_lineset.points) + list(visualized_non_clusters.points)\n",
    "merged_linesets.points = o3d.utility.Vector3dVector(merged_points)"
   ]
  },
  {
   "cell_type": "code",
   "execution_count": 82,
   "metadata": {},
   "outputs": [],
   "source": [
    "o3d.visualization.draw_geometries( [merged_linesets] )\n"
   ]
  },
  {
   "cell_type": "code",
   "execution_count": 83,
   "metadata": {},
   "outputs": [],
   "source": [
    "def lineset_to_lines(lineset):\n",
    "    lines = []\n",
    "    visited_segments = set()\n",
    "\n",
    "    # Extracting points from the LineSet\n",
    "    points = np.asarray(lineset.points)\n",
    "\n",
    "    # Extracting line segments from the LineSet\n",
    "    line_segments = np.asarray(lineset.lines)\n",
    "\n",
    "    for i in range(len(line_segments)):\n",
    "        start_index = line_segments[i][0]\n",
    "        end_index = line_segments[i][1]\n",
    "\n",
    "        # Checking if the current line segment has already been visited\n",
    "        if (start_index, end_index) in visited_segments or (end_index, start_index) in visited_segments:\n",
    "            continue\n",
    "        \n",
    "        start_point = points[start_index]\n",
    "        end_point = points[end_index]\n",
    "\n",
    "        # Creating a line from start and end points\n",
    "        line = [start_point[:3], end_point[:3]]  # Ignoring z-coordinate\n",
    "        lines.append(line)\n",
    "\n",
    "        # Marking the current line segment as visited\n",
    "        visited_segments.add((start_index, end_index))\n",
    "\n",
    "    return lines\n"
   ]
  },
  {
   "cell_type": "code",
   "execution_count": 84,
   "metadata": {},
   "outputs": [
    {
     "name": "stdout",
     "output_type": "stream",
     "text": [
      "LineSet with 837 lines.\n"
     ]
    }
   ],
   "source": [
    "print(big_lineset)"
   ]
  },
  {
   "cell_type": "code",
   "execution_count": 85,
   "metadata": {},
   "outputs": [
    {
     "name": "stdout",
     "output_type": "stream",
     "text": [
      "LineSet with 506 lines.\n"
     ]
    }
   ],
   "source": [
    "print((merged_linesets))"
   ]
  },
  {
   "cell_type": "code",
   "execution_count": 86,
   "metadata": {},
   "outputs": [],
   "source": [
    "lines=lineset_to_lines(merged_linesets)"
   ]
  },
  {
   "cell_type": "code",
   "execution_count": 87,
   "metadata": {},
   "outputs": [
    {
     "data": {
      "text/plain": [
       "LineSet with 506 lines."
      ]
     },
     "execution_count": 87,
     "metadata": {},
     "output_type": "execute_result"
    }
   ],
   "source": [
    "merged_linesets.paint_uniform_color([1,0,0])"
   ]
  },
  {
   "cell_type": "code",
   "execution_count": 88,
   "metadata": {},
   "outputs": [],
   "source": [
    "o3d.visualization.draw_geometries([merged_linesets] + geometries)"
   ]
  },
  {
   "cell_type": "code",
   "execution_count": 89,
   "metadata": {},
   "outputs": [],
   "source": [
    "linesetNodes=[]\n",
    "for i,line in enumerate(lines):\n",
    "    points=[]\n",
    "    start_point = line[0]\n",
    "    end_point = line[1]\n",
    "    # # Append points with correct sequence (x, y, z)\n",
    "    points.append((start_point))\n",
    "    points.append((end_point))\n",
    "    # Convert points to NumPy array\n",
    "    points = np.array(points)\n",
    "    lineset = o3d.geometry.LineSet()\n",
    "    lineset.points = o3d.utility.Vector3dVector(points)\n",
    "    lineset.lines = o3d.utility.Vector2iVector([[0, 1]])\n",
    "    linesetNode=geomapi.nodes.linesetnode.LinesetNode(resource=lineset)\n",
    "    linesetNode.name=str(\"line \" + str(i))\n",
    "    linesetNode.start=start_point\n",
    "    linesetNode.end=end_point\n",
    "    linesetNode.line=[start_point,end_point]\n",
    "    linesetNodes.append(linesetNode)"
   ]
  },
  {
   "cell_type": "code",
   "execution_count": 90,
   "metadata": {},
   "outputs": [
    {
     "data": {
      "image/png": "[encoded data removed]",
      "text/plain": [
       "<Figure size 640x480 with 1 Axes>"
      ]
     },
     "metadata": {},
     "output_type": "display_data"
    }
   ],
   "source": [
    "# Plot original and extended lines in 2D\n",
    "plt.figure()\n",
    "\n",
    "# Plot original lines\n",
    "for line in linesetNodes:\n",
    "    plt.plot([line.start[0], line.end[0]], [line.start[1], line.end[1]], 'k')\n",
    "\n",
    "# Set labels and title\n",
    "plt.xlabel('X')\n",
    "plt.ylabel('Y')\n",
    "plt.title('Original and Extended Lines (2D)')\n",
    "\n",
    "plt.gca().set_aspect('equal', adjustable='box')\n",
    "\n",
    "plt.show()"
   ]
  },
  {
   "cell_type": "code",
   "execution_count": 91,
   "metadata": {},
   "outputs": [],
   "source": [
    "t_trim=0.3 #max distance to trim a wall\n",
    "t_extend=0.7 #max distance to extend a wall"
   ]
  },
  {
   "cell_type": "code",
   "execution_count": null,
   "metadata": {},
   "outputs": [],
   "source": []
  },
  {
   "cell_type": "code",
   "execution_count": null,
   "metadata": {},
   "outputs": [],
   "source": [
    "t6.compute_potential_wall_connections(wallNodesBIM: List[Node], weight_intersection: float = 1, weight_orthogonal: float = 1, weight_direct: float = 1,\n",
    "                                       t_intersection_extension: float = 0.25, t_ortho_extension: float = 0.25, t_direct_extension: float = 0.7)\n"
   ]
  }
 ],
 "metadata": {
  "kernelspec": {
   "display_name": "Scan-to_BIM-CVPR",
   "language": "python",
   "name": "python3"
  },
  "language_info": {
   "codemirror_mode": {
    "name": "ipython",
    "version": 3
   },
   "file_extension": ".py",
   "mimetype": "text/x-python",
   "name": "python",
   "nbconvert_exporter": "python",
   "pygments_lexer": "ipython3",
   "version": "3.10.14"
  }
 },
 "nbformat": 4,
 "nbformat_minor": 2
}
