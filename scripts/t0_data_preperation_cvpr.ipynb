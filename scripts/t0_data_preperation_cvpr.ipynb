{
 "cells": [
  {
   "cell_type": "markdown",
   "metadata": {},
   "source": [
    "# T0. PREPARE POINT CLOUDS\n",
    "\n",
    "Import and prepare CVPR point clouds for t1-t10.\n",
    "To run these scripts, create a python 3.10 environment & install geomapi (numpy, opend3d, ifcopenshell, trimesh, ...)"
   ]
  },
  {
   "cell_type": "markdown",
   "metadata": {},
   "source": [
    "## LIBRARIES"
   ]
  },
  {
   "cell_type": "code",
   "execution_count": 2,
   "metadata": {},
   "outputs": [
    {
     "name": "stdout",
     "output_type": "stream",
     "text": [
      "Jupyter environment detected. Enabling Open3D WebVisualizer.\n",
      "[Open3D INFO] WebRTC GUI backend enabled.\n",
      "[Open3D INFO] WebRTCWindowSystem: HTTP handshake server disabled.\n"
     ]
    }
   ],
   "source": [
    "#IMPORT PACKAGES\n",
    "from rdflib import Graph, URIRef\n",
    "import os.path\n",
    "import importlib\n",
    "from pathlib import Path\n",
    "import numpy as np\n",
    "import xml.etree.ElementTree as ET\n",
    "import open3d as o3d\n",
    "import uuid    \n",
    "import pye57 \n",
    "import ifcopenshell\n",
    "import ifcopenshell.geom as geom\n",
    "import ifcopenshell.util\n",
    "from ifcopenshell.util.selector import Selector\n",
    "import multiprocessing\n",
    "import random as rd\n",
    "import pandas as pd\n",
    "# from tabulate import tabulate\n",
    "import cv2\n",
    "import laspy\n",
    "import time\n",
    "import json\n",
    "from scipy.spatial.transform import Rotation   \n",
    "import copy\n",
    "from datetime import datetime\n",
    "\n",
    "import geomapi\n",
    "from geomapi.nodes import *\n",
    "from geomapi import utils as ut\n",
    "from geomapi.utils import geometryutils as gmu\n",
    "from geomapi.tools import progresstools as pt\n",
    "\n",
    "import geomapi.tools as tl\n",
    "\n",
    "import context\n",
    "import utils as utl\n",
    "import utils.t0_utils as t0\n"
   ]
  },
  {
   "cell_type": "code",
   "execution_count": 2,
   "metadata": {},
   "outputs": [],
   "source": [
    "%load_ext autoreload"
   ]
  },
  {
   "cell_type": "code",
   "execution_count": 3,
   "metadata": {},
   "outputs": [],
   "source": [
    "%autoreload 2"
   ]
  },
  {
   "cell_type": "markdown",
   "metadata": {},
   "source": [
    "## INPUTS"
   ]
  },
  {
   "cell_type": "code",
   "execution_count": 4,
   "metadata": {},
   "outputs": [],
   "source": [
    "start_time = time.time()"
   ]
  },
  {
   "cell_type": "code",
   "execution_count": 5,
   "metadata": {},
   "outputs": [],
   "source": [
    "path=Path(os.getcwd()).parents[2]/'data'\n",
    "input_folder=path / 't0'/'train'\n",
    "class_file=path/'_classes.json'\n",
    "output_folder= path/'t0'/'results'\n",
    "output_folder.mkdir(parents=True, exist_ok=True)\n",
    "graphPath=str(path/f'objectGraph.ttl')\n",
    "\n",
    "distance_threshold=0.1\n",
    "resolution=0.03"
   ]
  },
  {
   "cell_type": "markdown",
   "metadata": {},
   "source": [
    "import classes"
   ]
  },
  {
   "cell_type": "code",
   "execution_count": 6,
   "metadata": {},
   "outputs": [
    {
     "name": "stdout",
     "output_type": "stream",
     "text": [
      "{'classes': [{'name': 'Unassigned', 'id': 255, 'temp_id': 0, 'color': '#9da2ab'}, {'name': 'floors', 'id': 0, 'temp_id': 1, 'color': '#03c2fc'}, {'name': 'ceilings', 'id': 1, 'temp_id': 2, 'color': '#e81416'}, {'name': 'walls', 'id': 2, 'temp_id': 3, 'color': '#ffa500'}, {'name': 'columns', 'id': 3, 'temp_id': 4, 'color': '#faeb36'}, {'name': 'doors', 'id': 4, 'temp_id': 5, 'color': '#79c314'}, {'name': 'windows', 'id': 5, 'temp_id': 6, 'color': '#4b369d'}], 'default': 255, 'type': 'semantic_segmentation', 'format': 'kitti', 'created_with': {'name': 'Saiga', 'version': '1.0.1'}}\n"
     ]
    }
   ],
   "source": [
    "# Read the JSON file\n",
    "with open(class_file, 'r') as file:\n",
    "    json_data = json.load(file)\n",
    "\n",
    "# Create a dictionary\n",
    "class_dict = {\n",
    "    'classes': json_data['classes'],\n",
    "    'default': json_data['default'],\n",
    "    'type': json_data['type'],\n",
    "    'format': json_data['format'],\n",
    "    'created_with': json_data['created_with']\n",
    "}\n",
    "print(class_dict)"
   ]
  },
  {
   "cell_type": "markdown",
   "metadata": {},
   "source": [
    "import objects"
   ]
  },
  {
   "cell_type": "code",
   "execution_count": 7,
   "metadata": {},
   "outputs": [
    {
     "name": "stdout",
     "output_type": "stream",
     "text": [
      "Data read from file: 05_MedOffice_01_F2_columns\n",
      "Data read from file: 05_MedOffice_01_F2_doors\n",
      "Data read from file: 05_MedOffice_01_F2_walls\n",
      "Data read from file: 06_MedOffice_02_B1_columns\n",
      "Data read from file: 06_MedOffice_02_B1_doors\n",
      "Data read from file: 06_MedOffice_02_B1_walls\n",
      "Data read from file: 06_MedOffice_02_F1_columns\n",
      "Data read from file: 06_MedOffice_02_F1_doors\n",
      "Data read from file: 06_MedOffice_02_F1_walls\n",
      "Data read from file: 06_MedOffice_02_F2_columns\n",
      "Data read from file: 06_MedOffice_02_F2_doors\n",
      "Data read from file: 06_MedOffice_02_F2_walls\n",
      "Data read from file: 06_MedOffice_02_F3_columns\n",
      "Data read from file: 06_MedOffice_02_F3_doors\n",
      "Data read from file: 06_MedOffice_02_F3_walls\n",
      "Data read from file: 07_MedOffice_03_F3_columns\n",
      "Data read from file: 07_MedOffice_03_F3_doors\n",
      "Data read from file: 07_MedOffice_03_F3_walls\n",
      "Data read from file: 07_MedOffice_03_F4_columns\n",
      "Data read from file: 07_MedOffice_03_F4_doors\n",
      "Data read from file: 07_MedOffice_03_F4_walls\n",
      "Data read from file: 07_MedOffice_03_F5_columns\n",
      "Data read from file: 07_MedOffice_03_F5_doors\n",
      "Data read from file: 07_MedOffice_03_F5_walls\n",
      "Data read from file: 16_Facility_01_F1_columns\n",
      "Data read from file: 16_Facility_01_F1_doors\n",
      "Data read from file: 16_Facility_01_F1_walls\n",
      "Data read from file: 19_MedOffice_07_F4_columns\n",
      "Data read from file: 19_MedOffice_07_F4_doors\n",
      "Data read from file: 19_MedOffice_07_F4_walls\n",
      "Data read from file: 32_ShortOffice_05_F1_columns\n",
      "Data read from file: 32_ShortOffice_05_F1_doors\n",
      "Data read from file: 32_ShortOffice_05_F1_walls\n",
      "Data read from file: 32_ShortOffice_05_F2_columns\n",
      "Data read from file: 32_ShortOffice_05_F2_doors\n",
      "Data read from file: 32_ShortOffice_05_F2_walls\n",
      "Data read from file: 32_ShortOffice_05_F3_columns\n",
      "Data read from file: 32_ShortOffice_05_F3_doors\n",
      "Data read from file: 32_ShortOffice_05_F3_walls\n",
      "Data read from file: 33_SmallBuilding_03_F1_columns\n",
      "Data read from file: 33_SmallBuilding_03_F1_doors\n",
      "Data read from file: 33_SmallBuilding_03_F1_walls\n",
      "Data read from file: 35_Lab_02_F1_columns\n",
      "Data read from file: 35_Lab_02_F1_doors\n",
      "Data read from file: 35_Lab_02_F1_walls\n",
      "Data read from file: 35_Lab_02_F2_columns\n",
      "Data read from file: 35_Lab_02_F2_doors\n",
      "Data read from file: 35_Lab_02_F2_walls\n",
      "len columns: 501\n",
      "len doors: 798\n",
      "len walls: 2201\n",
      "len objectNodes: 3500\n"
     ]
    }
   ],
   "source": [
    "files=[f for f in ut.get_list_of_files(input_folder) if f.endswith('.json')]\n",
    "objects_dict = {}  \n",
    "objectNodes=[]\n",
    "for file in files:\n",
    "    # Load the JSON data into Python objects\n",
    "    t0.parse_json(file,objects_dict)\n",
    "\n",
    "# Print counts\n",
    "print(f'len columns: {sum(1 for item in objects_dict.values() if item[\"type\"] == \"columns\")}')\n",
    "print(f'len doors: {sum(1 for item in objects_dict.values() if item[\"type\"] == \"doors\")}')\n",
    "print(f'len walls: {sum(1 for item in objects_dict.values() if item[\"type\"] == \"walls\")}')\n",
    "\n",
    "#convert json to object nodes\n",
    "objectNodes.extend(t0.create_object_nodes(objects_dict,class_dict))\n",
    "\n",
    "print(f'len objectNodes: {len(objectNodes)}')"
   ]
  },
  {
   "cell_type": "markdown",
   "metadata": {},
   "source": [
    "Import PCD"
   ]
  },
  {
   "cell_type": "code",
   "execution_count": 8,
   "metadata": {},
   "outputs": [
    {
     "name": "stdout",
     "output_type": "stream",
     "text": [
      "c:/Users/u0094523/OneDrive - KU Leuven/2024-05 CVPR scan-to-BIM challenge/data/t0/train/LAZ_train/05_MedOffice_01_F2_s0p01m.laz\n",
      "05_MedOffice_01_F2_pcd.laz\n",
      "Elapsed time: 201.8166539669037\n",
      "c:/Users/u0094523/OneDrive - KU Leuven/2024-05 CVPR scan-to-BIM challenge/data/t0/train/LAZ_train/06_MedOffice_02_B1_s0p01m.laz\n",
      "06_MedOffice_02_B1_pcd.laz\n",
      "Elapsed time: 1159.0312247276306\n",
      "c:/Users/u0094523/OneDrive - KU Leuven/2024-05 CVPR scan-to-BIM challenge/data/t0/train/LAZ_train/06_MedOffice_02_F1_s0p01m.laz\n",
      "06_MedOffice_02_F1_pcd.laz\n",
      "Elapsed time: 2279.401542901993\n",
      "c:/Users/u0094523/OneDrive - KU Leuven/2024-05 CVPR scan-to-BIM challenge/data/t0/train/LAZ_train/06_MedOffice_02_F2_s0p01m.laz\n",
      "06_MedOffice_02_F2_pcd.laz\n",
      "Elapsed time: 3060.8463344573975\n",
      "c:/Users/u0094523/OneDrive - KU Leuven/2024-05 CVPR scan-to-BIM challenge/data/t0/train/LAZ_train/06_MedOffice_02_F3_s0p01m.laz\n",
      "06_MedOffice_02_F3_pcd.laz\n",
      "Elapsed time: 3716.6023156642914\n",
      "c:/Users/u0094523/OneDrive - KU Leuven/2024-05 CVPR scan-to-BIM challenge/data/t0/train/LAZ_train/07_MedOffice_03_F3_s0p01m.laz\n",
      "07_MedOffice_03_F3_pcd.laz\n",
      "Elapsed time: 4349.283488035202\n",
      "c:/Users/u0094523/OneDrive - KU Leuven/2024-05 CVPR scan-to-BIM challenge/data/t0/train/LAZ_train/07_MedOffice_03_F4_t1.laz\n",
      "07_MedOffice_03_F4_pcd.laz\n",
      "Elapsed time: 5015.227303743362\n",
      "c:/Users/u0094523/OneDrive - KU Leuven/2024-05 CVPR scan-to-BIM challenge/data/t0/train/LAZ_train/07_MedOffice_03_F5_s0p01m.laz\n",
      "07_MedOffice_03_F5_pcd.laz\n",
      "Elapsed time: 5465.930388450623\n",
      "c:/Users/u0094523/OneDrive - KU Leuven/2024-05 CVPR scan-to-BIM challenge/data/t0/train/LAZ_train/16_Facility_01_F1_s0p01m.laz\n",
      "16_Facility_01_F1_pcd.laz\n",
      "Elapsed time: 7023.707811355591\n",
      "c:/Users/u0094523/OneDrive - KU Leuven/2024-05 CVPR scan-to-BIM challenge/data/t0/train/LAZ_train/19_MedOffice_07_F4_s0p01m.laz\n",
      "19_MedOffice_07_F4_pcd.laz\n",
      "Elapsed time: 7366.099241256714\n",
      "c:/Users/u0094523/OneDrive - KU Leuven/2024-05 CVPR scan-to-BIM challenge/data/t0/train/LAZ_train/32_ShortOffice_05_F1_t1.laz\n",
      "32_ShortOffice_05_F1_pcd.laz\n",
      "Elapsed time: 7583.86407661438\n",
      "c:/Users/u0094523/OneDrive - KU Leuven/2024-05 CVPR scan-to-BIM challenge/data/t0/train/LAZ_train/32_ShortOffice_05_F2_t1.laz\n",
      "32_ShortOffice_05_F2_pcd.laz\n",
      "Elapsed time: 7781.294062614441\n",
      "c:/Users/u0094523/OneDrive - KU Leuven/2024-05 CVPR scan-to-BIM challenge/data/t0/train/LAZ_train/32_ShortOffice_05_F3_t1.laz\n",
      "32_ShortOffice_05_F3_pcd.laz\n",
      "Elapsed time: 7986.607115745544\n",
      "c:/Users/u0094523/OneDrive - KU Leuven/2024-05 CVPR scan-to-BIM challenge/data/t0/train/LAZ_train/33_SmallBuilding_03_F1_t1.laz\n",
      "33_SmallBuilding_03_F1_pcd.laz\n",
      "Elapsed time: 8236.108535528183\n",
      "c:/Users/u0094523/OneDrive - KU Leuven/2024-05 CVPR scan-to-BIM challenge/data/t0/train/LAZ_train/35_Lab_02_F1_t1.laz\n",
      "35_Lab_02_F1_pcd.laz\n",
      "Elapsed time: 8866.013758659363\n",
      "c:/Users/u0094523/OneDrive - KU Leuven/2024-05 CVPR scan-to-BIM challenge/data/t0/train/LAZ_train/35_Lab_02_F2_t1.laz\n",
      "35_Lab_02_F2_pcd.laz\n",
      "Elapsed time: 9330.767659664154\n"
     ]
    }
   ],
   "source": [
    "files=[f for f in ut.get_list_of_files(input_folder) if f.endswith('.laz')]\n",
    "\n",
    "#iterate over files\n",
    "for f in files: \n",
    "    \n",
    "    #read pcd\n",
    "    print(f)\n",
    "    las=laspy.read(f)\n",
    "    \n",
    "    #create nodes\n",
    "    \n",
    "    pcdNode=PointCloudNode(resource=gmu.las_to_pcd(las),\n",
    "                                    name='_'.join(f.split('/')[-1].split('.')[0].split('_')[0:-1]),\n",
    "                                    color=ut.random_color()) \n",
    "    \n",
    "      \n",
    "    class_scalar,object_scalar=t0.process_point_cloud(pcdNode,\n",
    "                                                      [n for n in objectNodes if n.derivedFrom==pcdNode.name],\n",
    "                                                      distance_threshold=distance_threshold,\n",
    "                                                      resolution=resolution)\n",
    "    \n",
    "    gmu.las_add_extra_dimensions(las,(class_scalar,object_scalar),['classes','objects'],['uint8','uint16'])\n",
    "    \n",
    "    las.write(output_folder/f'{pcdNode.name}_pcd.laz')\n",
    "    print(f'{pcdNode.name}_pcd.laz')\n",
    "    print(f'Elapsed time: {time.time() - start_time}')"
   ]
  },
  {
   "cell_type": "markdown",
   "metadata": {},
   "source": [
    "## ADJUSTING FOR DOORS"
   ]
  },
  {
   "cell_type": "code",
   "execution_count": 24,
   "metadata": {},
   "outputs": [
    {
     "name": "stdout",
     "output_type": "stream",
     "text": [
      "58\n"
     ]
    },
    {
     "ename": "AttributeError",
     "evalue": "'MeshNode' object has no attribute 'object_id'",
     "output_type": "error",
     "traceback": [
      "\u001b[1;31m---------------------------------------------------------------------------\u001b[0m",
      "\u001b[1;31mAttributeError\u001b[0m                            Traceback (most recent call last)",
      "Cell \u001b[1;32mIn[24], line 7\u001b[0m\n\u001b[0;32m      5\u001b[0m doorNodes\u001b[38;5;241m=\u001b[39m[n \u001b[38;5;28;01mfor\u001b[39;00m n \u001b[38;5;129;01min\u001b[39;00m objectNodes \u001b[38;5;28;01mif\u001b[39;00m n\u001b[38;5;241m.\u001b[39mderivedFrom \u001b[38;5;129;01min\u001b[39;00m f \u001b[38;5;129;01mand\u001b[39;00m n\u001b[38;5;241m.\u001b[39mclass_id\u001b[38;5;241m==\u001b[39m\u001b[38;5;241m4\u001b[39m]\n\u001b[0;32m      6\u001b[0m \u001b[38;5;28mprint\u001b[39m(\u001b[38;5;28mlen\u001b[39m(doorNodes))\n\u001b[1;32m----> 7\u001b[0m \u001b[38;5;28mprint\u001b[39m(doorNodes[\u001b[38;5;241m0\u001b[39m]\u001b[38;5;241m.\u001b[39mclass_id,\u001b[43mdoorNodes\u001b[49m\u001b[43m[\u001b[49m\u001b[38;5;241;43m0\u001b[39;49m\u001b[43m]\u001b[49m\u001b[38;5;241;43m.\u001b[39;49m\u001b[43mobject_id\u001b[49m)\n",
      "\u001b[1;31mAttributeError\u001b[0m: 'MeshNode' object has no attribute 'object_id'"
     ]
    }
   ],
   "source": [
    "\n",
    "input_folder2=path / 't1'/'input'\n",
    "\n",
    "files=[f for f in ut.get_list_of_files(input_folder) if f.endswith('.laz')]\n",
    "f=files[0]\n",
    "doorNodes=[n for n in objectNodes if n.derivedFrom in f and n.class_id==4]\n",
    "print(len(doorNodes))\n",
    "print(doorNodes[0].class_id,doorNodes[0].object_id)"
   ]
  },
  {
   "cell_type": "code",
   "execution_count": 27,
   "metadata": {},
   "outputs": [
    {
     "name": "stdout",
     "output_type": "stream",
     "text": [
      "c:/Users/u0094523/OneDrive - KU Leuven/2024-05 CVPR scan-to-BIM challenge/data/t1/input/05_MedOffice_01_F2_small.laz\n",
      "58\n",
      "c:/Users/u0094523/OneDrive - KU Leuven/2024-05 CVPR scan-to-BIM challenge/data/t1/input/05_MedOffice_01_F2_small.laz1.laz\n",
      "Elapsed time: 1572.0031366348267\n",
      "c:/Users/u0094523/OneDrive - KU Leuven/2024-05 CVPR scan-to-BIM challenge/data/t1/input/05_MedOffice_01_F2_small1.laz\n",
      "58\n",
      "c:/Users/u0094523/OneDrive - KU Leuven/2024-05 CVPR scan-to-BIM challenge/data/t1/input/05_MedOffice_01_F2_small1.laz1.laz\n",
      "Elapsed time: 1591.1883232593536\n",
      "c:/Users/u0094523/OneDrive - KU Leuven/2024-05 CVPR scan-to-BIM challenge/data/t1/input/19_MedOffice_07_F4_small.laz\n",
      "20\n",
      "c:/Users/u0094523/OneDrive - KU Leuven/2024-05 CVPR scan-to-BIM challenge/data/t1/input/19_MedOffice_07_F4_small.laz1.laz\n",
      "Elapsed time: 1615.2180304527283\n",
      "c:/Users/u0094523/OneDrive - KU Leuven/2024-05 CVPR scan-to-BIM challenge/data/t1/input/32_ShortOffice_05_F1_small.laz\n",
      "27\n",
      "c:/Users/u0094523/OneDrive - KU Leuven/2024-05 CVPR scan-to-BIM challenge/data/t1/input/32_ShortOffice_05_F1_small.laz1.laz\n",
      "Elapsed time: 1633.2365124225616\n",
      "c:/Users/u0094523/OneDrive - KU Leuven/2024-05 CVPR scan-to-BIM challenge/data/t1/input/32_ShortOffice_05_F2_small.laz\n",
      "27\n",
      "c:/Users/u0094523/OneDrive - KU Leuven/2024-05 CVPR scan-to-BIM challenge/data/t1/input/32_ShortOffice_05_F2_small.laz1.laz\n",
      "Elapsed time: 1649.9190292358398\n",
      "c:/Users/u0094523/OneDrive - KU Leuven/2024-05 CVPR scan-to-BIM challenge/data/t1/input/32_ShortOffice_05_F3_small.laz\n",
      "27\n",
      "c:/Users/u0094523/OneDrive - KU Leuven/2024-05 CVPR scan-to-BIM challenge/data/t1/input/32_ShortOffice_05_F3_small.laz1.laz\n",
      "Elapsed time: 1666.3056378364563\n",
      "c:/Users/u0094523/OneDrive - KU Leuven/2024-05 CVPR scan-to-BIM challenge/data/t1/input/33_SmallBuilding_03_F1_small.laz\n",
      "45\n",
      "c:/Users/u0094523/OneDrive - KU Leuven/2024-05 CVPR scan-to-BIM challenge/data/t1/input/33_SmallBuilding_03_F1_small.laz1.laz\n",
      "Elapsed time: 1687.494388103485\n",
      "c:/Users/u0094523/OneDrive - KU Leuven/2024-05 CVPR scan-to-BIM challenge/data/t1/input/35_Lab_02_F1_small.laz\n",
      "88\n",
      "c:/Users/u0094523/OneDrive - KU Leuven/2024-05 CVPR scan-to-BIM challenge/data/t1/input/35_Lab_02_F1_small.laz1.laz\n",
      "Elapsed time: 1758.9772436618805\n",
      "c:/Users/u0094523/OneDrive - KU Leuven/2024-05 CVPR scan-to-BIM challenge/data/t1/input/35_Lab_02_F2_small.laz\n",
      "61\n",
      "c:/Users/u0094523/OneDrive - KU Leuven/2024-05 CVPR scan-to-BIM challenge/data/t1/input/35_Lab_02_F2_small.laz1.laz\n",
      "Elapsed time: 1803.4121465682983\n"
     ]
    }
   ],
   "source": [
    "\n",
    "input_folder2=path / 't1'/'input'\n",
    "\n",
    "files=[f for f in ut.get_list_of_files(input_folder2) if f.endswith('.laz')]\n",
    "\n",
    "#iterate over files\n",
    "for f in files: \n",
    "    \n",
    "    #read pcd\n",
    "    print(f)\n",
    "    las=laspy.read(f)\n",
    "    \n",
    "    #get door nodes\n",
    "    doorNodes=[n for n in objectNodes if n.derivedFrom in f and n.class_id==4]\n",
    "    print(len(doorNodes))\n",
    "    \n",
    "    points=o3d.utility.Vector3dVector(las.xyz)\n",
    "    for i,d in enumerate(doorNodes):\n",
    "        box=d.resource.get_oriented_bounding_box()\n",
    "        box=gmu.expand_box(box,0.05,0.05,0.05)\n",
    "        indices=box.get_point_indices_within_bounding_box(points)\n",
    "        las['classes'][indices]=d.class_id\n",
    "        las['objects'][indices]=i+400\n",
    "        \n",
    "\n",
    "    name=ut.get_filename(f)\n",
    "    las.write(input_folder2/f'{name}1.laz')\n",
    "    print(f'{f}1.laz')\n",
    "    print(f'Elapsed time: {time.time() - start_time}')"
   ]
  },
  {
   "cell_type": "code",
   "execution_count": 19,
   "metadata": {},
   "outputs": [
    {
     "name": "stdout",
     "output_type": "stream",
     "text": [
      "[Open3D WARNING] GLFW Error: WGL: Failed to make context current: The requested transformation operation is not supported. \n"
     ]
    }
   ],
   "source": [
    "joined_geometries=gmu.join_geometries([d.resource for d in doorNodes if d.derivedFrom in f])\n",
    "# lines=gmu.join_geometries([n.line.paint_uniform_color(n.color) for n in objectNodes if n.derivedFrom==pcdNode.name \n",
    "#                            if getattr(n,'line',None) is not None])\n",
    "\n",
    "o3d.visualization.draw_geometries([joined_geometries])"
   ]
  },
  {
   "cell_type": "code",
   "execution_count": 10,
   "metadata": {},
   "outputs": [],
   "source": [
    "# o=0\n",
    "# walls=gmu.join_geometries([n.resource.paint_uniform_color([1,0,0]) for n in objectNodes if n.derivedFrom==pcdNodes[o].name\n",
    "#                            if n.class_name in ['walls']])\n",
    "# columns=gmu.join_geometries([n.resource.paint_uniform_color([0,1,0]) for n in objectNodes if n.derivedFrom==pcdNodes[o].name\n",
    "#                              if n.class_name in ['columns']])\n",
    "# doors=gmu.join_geometries([n.resource.paint_uniform_color([0,0,1]) for n in objectNodes if n.derivedFrom==pcdNodes[o].name\n",
    "#                             if n.class_name in ['doors']])\n",
    "# joined_geometries=gmu.join_geometries([walls,columns,doors])\n",
    "# print(joined_geometries)\n",
    "\n",
    "# lines=gmu.join_geometries([n.line.paint_uniform_color(n.color) for n in objectNodes if n.derivedFrom==pcdNodes[o].name \n",
    "#                            if getattr(n,'line',None) is not None])\n",
    "\n",
    "# o3d.visualization.draw_geometries([pcdNodes[o].resource] + [joined_geometries,lines])"
   ]
  },
  {
   "cell_type": "markdown",
   "metadata": {},
   "source": [
    "## PROCESSING"
   ]
  },
  {
   "cell_type": "code",
   "execution_count": 11,
   "metadata": {},
   "outputs": [],
   "source": [
    "# objectNodes= [n for n in objectNodes if n.derivedFrom==pcdNode.name]"
   ]
  },
  {
   "cell_type": "code",
   "execution_count": 12,
   "metadata": {},
   "outputs": [],
   "source": [
    "# #create an identity point cloud of all the objectNodes\n",
    "# identityPcd,objectArray=gmu.create_identity_point_cloud([n.resource for n in objectNodes if n.derivedFrom==pcdNode.name],resolution=0.05)\n",
    "# classArray=np.array([int(n.class_id) for n in objectNodes if n.derivedFrom==pcdNode.name])[objectArray.astype(int)]\n",
    "# print(len(classArray),len(objectArray))"
   ]
  },
  {
   "cell_type": "code",
   "execution_count": 13,
   "metadata": {},
   "outputs": [],
   "source": [
    "# #compute distances\n",
    "# distances_total=pcdNodes[o].resource.compute_point_cloud_distance(identityPcd)\n",
    "# distances_total=np.asarray(distances_total)"
   ]
  },
  {
   "cell_type": "code",
   "execution_count": 14,
   "metadata": {},
   "outputs": [],
   "source": [
    "# object_scalar = np.full(len(pcdNode.resource.points), 0, dtype=np.uint8)\n",
    "# class_scalar = np.full(len(pcdNode.resource.points), 255, dtype=np.uint8)"
   ]
  },
  {
   "cell_type": "code",
   "execution_count": 15,
   "metadata": {},
   "outputs": [],
   "source": [
    "# indices,distances=gmu.compute_nearest_neighbors(np.asarray(pcdNode.resource.points),np.asarray(identityPcd.points))"
   ]
  },
  {
   "cell_type": "code",
   "execution_count": 16,
   "metadata": {},
   "outputs": [],
   "source": [
    "# indices=indices.flatten()\n",
    "# threshold_indices = np.where(distances <= distance_threshold)[0]\n",
    "# object_scalar[threshold_indices] = objectArray[indices[threshold_indices]]\n",
    "# class_scalar[threshold_indices] = classArray[indices[threshold_indices]]"
   ]
  },
  {
   "cell_type": "code",
   "execution_count": 17,
   "metadata": {},
   "outputs": [],
   "source": [
    "# #remap objectArray\n",
    "# names=np.array([int(n.name) for n in objectNodes])\n",
    "# object_scalar=names[object_scalar]"
   ]
  },
  {
   "cell_type": "code",
   "execution_count": 18,
   "metadata": {},
   "outputs": [],
   "source": [
    "# #temp\n",
    "# temp_pcd=pcdNode.resource.select_by_index(np.where(distances<distance_threshold)[0])\n",
    "# o3d.visualization.draw_geometries([temp_pcd] + [joined_geometries])"
   ]
  },
  {
   "cell_type": "markdown",
   "metadata": {},
   "source": [
    "## OUTPUTS"
   ]
  },
  {
   "cell_type": "markdown",
   "metadata": {},
   "source": [
    "### export las file"
   ]
  },
  {
   "cell_type": "code",
   "execution_count": 19,
   "metadata": {},
   "outputs": [],
   "source": [
    "# gmu.las_add_extra_dimensions(las,(class_scalar,object_scalar),['classes','objects'],['uint8','uint8'])\n",
    "# print(list(las.point_format.dimension_names))"
   ]
  },
  {
   "cell_type": "code",
   "execution_count": 20,
   "metadata": {},
   "outputs": [],
   "source": [
    "# las.write(output_folder/f'{pcdNode.name}_pcd.laz')\n",
    "# print(f'{pcdNode.name}_pcd.laz')"
   ]
  },
  {
   "cell_type": "markdown",
   "metadata": {},
   "source": [
    "### save graph"
   ]
  },
  {
   "cell_type": "code",
   "execution_count": 21,
   "metadata": {},
   "outputs": [],
   "source": [
    "for name in np.unique(np.array([n.derivedFrom for n in objectNodes])):\n",
    "    nodes=[n for n in objectNodes if n.derivedFrom==name]\n",
    "    tl.nodes_to_graph(nodes,\n",
    "                    graphPath=str(output_folder/f'{name}_graph.ttl'),\n",
    "                    save=True)"
   ]
  },
  {
   "cell_type": "markdown",
   "metadata": {},
   "source": [
    "save objectNodes geometries"
   ]
  },
  {
   "cell_type": "code",
   "execution_count": 22,
   "metadata": {},
   "outputs": [
    {
     "name": "stdout",
     "output_type": "stream",
     "text": [
      "05_MedOffice_01_F2 written!\n",
      "06_MedOffice_02_B1 written!\n",
      "06_MedOffice_02_F1 written!\n",
      "06_MedOffice_02_F2 written!\n",
      "06_MedOffice_02_F3 written!\n",
      "07_MedOffice_03_F3 written!\n",
      "07_MedOffice_03_F4 written!\n",
      "07_MedOffice_03_F5 written!\n",
      "16_Facility_01_F1 written!\n",
      "19_MedOffice_07_F4 written!\n",
      "32_ShortOffice_05_F1 written!\n",
      "32_ShortOffice_05_F2 written!\n",
      "32_ShortOffice_05_F3 written!\n",
      "33_SmallBuilding_03_F1 written!\n",
      "35_Lab_02_F1 written!\n",
      "35_Lab_02_F2 written!\n"
     ]
    }
   ],
   "source": [
    "for name in np.unique(np.array([n.derivedFrom for n in objectNodes])):\n",
    "    nodes=[n for n in objectNodes if n.derivedFrom==name]\n",
    "    t0.write_obj_with_submeshes(output_folder/f'{name}_objects.obj', [n.resource for n in nodes], [n.name for n in nodes])\n",
    "    print(f'{name} written!')"
   ]
  },
  {
   "cell_type": "markdown",
   "metadata": {},
   "source": [
    "### CHECK PTH"
   ]
  },
  {
   "cell_type": "code",
   "execution_count": 30,
   "metadata": {},
   "outputs": [
    {
     "name": "stdout",
     "output_type": "stream",
     "text": [
      "c:\\Users\\u0094523\\OneDrive - KU Leuven\\2024-05 CVPR scan-to-BIM challenge\\data\\t1\\val\n"
     ]
    }
   ],
   "source": [
    "pth_folder=Path(os.getcwd()).parents[2]/'data'/'t1'/'val'\n",
    "print(pth_folder)"
   ]
  },
  {
   "cell_type": "code",
   "execution_count": 37,
   "metadata": {},
   "outputs": [
    {
     "name": "stdout",
     "output_type": "stream",
     "text": [
      "c:/Users/u0094523/OneDrive - KU Leuven/2024-05 CVPR scan-to-BIM challenge/data/t1/val/05_MedOffice_01_F2_small1_0_0_0.pth\n",
      "[0 1 2 3 4 5] [ 248691  661301  508331   47955   23361 1073033]\n",
      "c:/Users/u0094523/OneDrive - KU Leuven/2024-05 CVPR scan-to-BIM challenge/data/t1/val/05_MedOffice_01_F2_small1_0_2_0.pth\n",
      "[0 1 5] [   89   467 25533]\n",
      "c:/Users/u0094523/OneDrive - KU Leuven/2024-05 CVPR scan-to-BIM challenge/data/t1/val/05_MedOffice_01_F2_small1_1_2_0.pth\n",
      "[0 1 2 3 4 5] [409741 592120 624057  59606  58973 845788]\n"
     ]
    }
   ],
   "source": [
    "pcdNodes = []\n",
    "import torch\n",
    "#reload pth file \n",
    "for f in utl.get_list_of_files(pth_folder,ext='.pth'):\n",
    "    print(f)\n",
    "    \n",
    "    chunk_dict=torch.load(f)\n",
    "    #create o3d point cloud\n",
    "    pcd = o3d.geometry.PointCloud()\n",
    "    pcd.points = o3d.utility.Vector3dVector(chunk_dict['coord'])\n",
    "    pcd.colors = o3d.utility.Vector3dVector(chunk_dict['color'])\n",
    "    pcd.normals = o3d.utility.Vector3dVector(chunk_dict['normal'])\n",
    "    colors=gmu.array_to_colors(chunk_dict['semantic_gt'])\n",
    "    pcd.colors =o3d.utility.Vector3dVector(colors)\n",
    "    pcdNodes.append(PointCloudNode(resource=pcd))\n",
    "    \n",
    "    labels,counts=np.unique(chunk_dict['semantic_gt'],return_counts=True)\n",
    "    print(labels,counts)"
   ]
  },
  {
   "cell_type": "code",
   "execution_count": 38,
   "metadata": {},
   "outputs": [],
   "source": [
    "o3d.visualization.draw_geometries([pcdNodes[0].resource])"
   ]
  },
  {
   "cell_type": "code",
   "execution_count": 35,
   "metadata": {},
   "outputs": [],
   "source": [
    "joined_pcd=gmu.join_geometries([n.resource.paint_uniform_color(ut.random_color()) for n in pcdNodes if n.resource is not None])\n",
    "\n",
    "o3d.visualization.draw_geometries([joined_pcd])"
   ]
  },
  {
   "cell_type": "markdown",
   "metadata": {},
   "source": [
    "## CHECK DIVIDE BOX"
   ]
  },
  {
   "cell_type": "code",
   "execution_count": 21,
   "metadata": {},
   "outputs": [
    {
     "name": "stdout",
     "output_type": "stream",
     "text": [
      "c:\\Users\\u0094523\\OneDrive - KU Leuven\\2024-05 CVPR scan-to-BIM challenge\\data\\t0\\test\n",
      "c:/Users/u0094523/OneDrive - KU Leuven/2024-05 CVPR scan-to-BIM challenge/data/t0/test/25_Parking_01_F2_small.laz\n"
     ]
    }
   ],
   "source": [
    "path=Path(os.getcwd()).parents[2]/'data'\n",
    "input_folder=path / 't0'/'test'\n",
    "print( input_folder)\n",
    "\n",
    "for f in ut.get_list_of_files(input_folder)[-2:-1]:\n",
    "    print(f)\n",
    "    las=laspy.read(f)\n",
    "    pcd=gmu.las_to_pcd(las)\n",
    "    # pcdNode=PointCloudNode(resource=gmu.las_to_pcd(las),\n",
    "    #                                 name='_'.join(f.split('/')[-1].split('.')[0].split('_')[0:-1]),\n",
    "    #                                 color=ut.random_color()) \n",
    "    \n",
    "    # class_scalar,object_scalar=t0.process_point_cloud(pcdNode,\n",
    "    #                                                   [n for n in objectNodes if n.derivedFrom==pcdNode.name],\n",
    "    #                                                   distance_threshold=distance_threshold,\n",
    "    #                                                   resolution=resolution)\n",
    "    \n",
    "    # gmu.las_add_extra_dimensions(las,(class_scalar,object_scalar),['classes','objects'],['uint8','uint16'])\n",
    "    \n",
    "    # las.write(output_folder/f'{pcdNode.name}_pcd.laz')\n",
    "    # print(f'{pcdNode.name}_pcd.laz')\n",
    "    # print(f'Elapsed time: {time.time() - start_time}')\n",
    " \n",
    "#  #divide the point cloud into chunks per part [7,7,1] or size e.g. [10m,10m,100m]\n",
    "    "
   ]
  },
  {
   "cell_type": "code",
   "execution_count": 22,
   "metadata": {},
   "outputs": [],
   "source": [
    "size=[12,12,100]\n",
    "parts=None\n",
    "sub_pcds=[]\n",
    "if size or parts:\n",
    "    box=o3d.geometry.AxisAlignedBoundingBox(min_bound=np.array([las.x.min()-5,las.y.min()-5,las.z.min()-5]),\n",
    "                                    max_bound=np.array([las.x.max()+5,las.y.max()+5,las.z.max()+5]))\n",
    "\n",
    "    #create open3d axis aligned bounding box of points\n",
    "    boxes,names=gmu.divide_box_in_boxes(box,size=size) if size is not None else gmu.divide_box_in_boxes(box,parts=parts)\n",
    "    \n",
    "    # select indices per boxes\n",
    "    pathLists=[]\n",
    "    idxLists=[]\n",
    "    for box,name in zip(boxes,names):\n",
    "        pathLists.append(f'{name[0]}_{name[1]}_{name[2]}')\n",
    "        idxLists.append(box.get_point_indices_within_bounding_box(pcd.points))\n",
    "    #save the chunks\n",
    "    for i,name in zip(idxLists,pathLists):\n",
    "        #select points\n",
    "        sub_pcd=pcd.select_by_index(i)\n",
    "        sub_pcds.append(sub_pcd)"
   ]
  },
  {
   "cell_type": "code",
   "execution_count": 23,
   "metadata": {},
   "outputs": [],
   "source": [
    "for b in boxes:\n",
    "    b.color=[1,0,0]\n",
    "joined_pcd=gmu.join_geometries([n.paint_uniform_color(ut.random_color()) for n in sub_pcds])\n",
    "# joined_pcd=gmu.join_geometries([n for n in sub_pcds])\n",
    "\n",
    "o3d.visualization.draw_geometries([pcd]+[joined_pcd]+boxes)"
   ]
  },
  {
   "cell_type": "markdown",
   "metadata": {},
   "source": [
    "## FINISH"
   ]
  },
  {
   "cell_type": "code",
   "execution_count": 23,
   "metadata": {},
   "outputs": [
    {
     "name": "stdout",
     "output_type": "stream",
     "text": [
      "Current Time = 00:46:39\n",
      "runtime: --- 9340.315954208374 seconds ---\n"
     ]
    }
   ],
   "source": [
    "now = datetime.now()\n",
    "print(\"Current Time =\", now.strftime(\"%H:%M:%S\"))\n",
    "\n",
    "print(\"runtime: --- %s seconds ---\" % (time.time() - start_time))\n"
   ]
  }
 ],
 "metadata": {
  "kernelspec": {
   "display_name": "geomapi_installed",
   "language": "python",
   "name": "python3"
  },
  "language_info": {
   "codemirror_mode": {
    "name": "ipython",
    "version": 3
   },
   "file_extension": ".py",
   "mimetype": "text/x-python",
   "name": "python",
   "nbconvert_exporter": "python",
   "pygments_lexer": "ipython3",
   "version": "3.10.14"
  }
 },
 "nbformat": 4,
 "nbformat_minor": 2
}
