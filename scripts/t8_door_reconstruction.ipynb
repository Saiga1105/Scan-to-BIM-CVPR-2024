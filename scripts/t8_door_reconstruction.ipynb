{
 "cells": [
  {
   "cell_type": "code",
   "execution_count": 1,
   "metadata": {},
   "outputs": [
    {
     "name": "stdout",
     "output_type": "stream",
     "text": [
      "Jupyter environment detected. Enabling Open3D WebVisualizer.\n",
      "[Open3D INFO] WebRTC GUI backend enabled.\n",
      "[Open3D INFO] WebRTCWindowSystem: HTTP handshake server disabled.\n"
     ]
    }
   ],
   "source": [
    "#IMPORT PACKAGES\n",
    "import os.path\n",
    "from pathlib import Path\n",
    "import numpy as np\n",
    "import xml.etree.ElementTree as ET\n",
    "import open3d as o3d\n",
    "import matplotlib.pyplot as plt\n",
    "\n",
    "# from tabulate import tabulate\n",
    "\n",
    "import json  \n",
    "import copy\n",
    "import laspy\n",
    "\n",
    "from sklearn.cluster import DBSCAN\n",
    "from PIL import Image\n",
    "\n",
    "from geomapi.nodes import *\n",
    "import geomapi.utils as ut\n",
    "from geomapi.utils import geometryutils as gmu\n",
    "import geomapi.tools as tl\n",
    "import geomapi.tools.progresstools as pt\n",
    "\n",
    "#import utils\n",
    "import context\n",
    "import utils as utl\n",
    "import utils.t8_utils as t8\n",
    "\n",
    "\n",
    "# Grounding DINO\n",
    "from groundingdino.util.inference import  annotate, load_image, predict\n",
    "\n",
    "\n",
    "# segment anything\n",
    "# from segment_anything import build_sam, SamPredictor \n",
    "\n",
    "\n",
    "# diffusers\n",
    "import torch\n",
    "from torch.cuda.amp import autocast"
   ]
  },
  {
   "cell_type": "code",
   "execution_count": 2,
   "metadata": {},
   "outputs": [],
   "source": [
    "%load_ext autoreload"
   ]
  },
  {
   "cell_type": "code",
   "execution_count": 3,
   "metadata": {},
   "outputs": [],
   "source": [
    "%autoreload 2"
   ]
  },
  {
   "cell_type": "markdown",
   "metadata": {},
   "source": [
    "## INPUTS"
   ]
  },
  {
   "cell_type": "code",
   "execution_count": 4,
   "metadata": {},
   "outputs": [
    {
     "name": "stdout",
     "output_type": "stream",
     "text": [
      "/home/sdegeyter/Code/Scan-to-BIM-CVPR-2024\n"
     ]
    }
   ],
   "source": [
    "#paths\n",
    "path=Path(os.getcwd()).parents[0]\n",
    "\n",
    "print(path)\n",
    "input_folder_t4=path/'data'/'t4'/'test' \n",
    "input_folder_t6=path/'data'/'t6'/'test'\n",
    "class_file=path/'data'/'_classes.json'\n",
    "output_folder=path/'data'/'t8'/ 'test'\n",
    "os.makedirs(output_folder, exist_ok=True)\n",
    "\n",
    "#parameters\n",
    "image_resolution = 0.01\n",
    "\n",
    "t_score = 0.3\n",
    "\n",
    "TEXT_PROMPT = \"Door\""
   ]
  },
  {
   "cell_type": "markdown",
   "metadata": {},
   "source": [
    "Import Classes"
   ]
  },
  {
   "cell_type": "code",
   "execution_count": 5,
   "metadata": {},
   "outputs": [
    {
     "name": "stdout",
     "output_type": "stream",
     "text": [
      "{'classes': [{'name': 'Unassigned', 'id': 255, 'temp_id': 0, 'color': '#9da2ab'}, {'name': 'Floors', 'id': 0, 'temp_id': 1, 'color': '#03c2fc'}, {'name': 'Ceilings', 'id': 1, 'temp_id': 2, 'color': '#e81416'}, {'name': 'Walls', 'id': 2, 'temp_id': 3, 'color': '#ffa500'}, {'name': 'Columns', 'id': 3, 'temp_id': 4, 'color': '#faeb36'}, {'name': 'Doors', 'id': 4, 'temp_id': 5, 'color': '#79c314'}, {'name': 'Windows', 'id': 5, 'temp_id': 6, 'color': '#4b369d'}], 'default': 255, 'type': 'semantic_segmentation', 'format': 'kitti', 'created_with': {'name': 'Saiga', 'version': '1.0.1'}}\n"
     ]
    }
   ],
   "source": [
    "# Read the JSON file\n",
    "with open(class_file, 'r') as file:\n",
    "    json_data = json.load(file)\n",
    "\n",
    "# Create a dictionary\n",
    "class_dict = {\n",
    "    'classes': json_data['classes'],\n",
    "    'default': json_data['default'],\n",
    "    'type': json_data['type'],\n",
    "    'format': json_data['format'],\n",
    "    'created_with': json_data['created_with']\n",
    "}\n",
    "print(class_dict)"
   ]
  },
  {
   "cell_type": "markdown",
   "metadata": {},
   "source": [
    "## Processing"
   ]
  },
  {
   "cell_type": "code",
   "execution_count": 6,
   "metadata": {},
   "outputs": [],
   "source": [
    "point_cloud_files=utl.get_list_of_files(input_folder_t4,'.laz')\n",
    "wall_files=utl.get_list_of_files(input_folder_t6,'.ttl')"
   ]
  },
  {
   "cell_type": "code",
   "execution_count": 7,
   "metadata": {},
   "outputs": [
    {
     "name": "stderr",
     "output_type": "stream",
     "text": [
      "UserWarning: torch.meshgrid: in an upcoming release, it will be required to pass the indexing argument. (Triggered internally at /opt/conda/conda-bld/pytorch_1711403380909/work/aten/src/ATen/native/TensorShape.cpp:3549.)\n"
     ]
    },
    {
     "name": "stdout",
     "output_type": "stream",
     "text": [
      "final text_encoder_type: bert-base-uncased\n",
      "Model loaded from /home/sdegeyter/.cache/huggingface/hub/models--ShilongLiu--GroundingDINO/snapshots/a94c9b567a2a374598f05c584e96798a170c56fb/groundingdino_swinb_cogcoor.pth \n",
      " => _IncompatibleKeys(missing_keys=[], unexpected_keys=['label_enc.weight', 'bert.embeddings.position_ids'])\n",
      "/home/sdegeyter/Code/Scan-to-BIM-CVPR-2024/data/t4/test/25_Parking_01_F2_small_pred.laz\n",
      "/home/sdegeyter/Code/Scan-to-BIM-CVPR-2024/data/t6/test/25_Parking_01_F2_walls.ttl\n",
      "processing 25_Parking_01_F2_small_pred...\n",
      "18 wallNodes detected!\n",
      "Matched 18 pointclouds to nodes\n"
     ]
    },
    {
     "name": "stderr",
     "output_type": "stream",
     "text": [
      "FutureWarning: The `device` argument is deprecated and will be removed in v5 of Transformers.\n",
      "UserWarning: torch.utils.checkpoint: please pass in use_reentrant=True or use_reentrant=False explicitly. The default value of use_reentrant will be updated to be False in the future. To maintain current behavior, pass use_reentrant=True. It is recommended that you use use_reentrant=False. Refer to docs for more details on the differences between the two variants.\n",
      "UserWarning: None of the inputs have requires_grad=True. Gradients will be None\n",
      "2024-05-31 16:08:31.412605: I tensorflow/core/platform/cpu_feature_guard.cc:193] This TensorFlow binary is optimized with oneAPI Deep Neural Network Library (oneDNN) to use the following CPU instructions in performance-critical operations:  AVX2 FMA\n",
      "To enable them in other operations, rebuild TensorFlow with the appropriate compiler flags.\n",
      "2024-05-31 16:08:32.822718: W tensorflow/compiler/xla/stream_executor/platform/default/dso_loader.cc:64] Could not load dynamic library 'libnvinfer.so.7'; dlerror: libnvinfer.so.7: cannot open shared object file: No such file or directory; LD_LIBRARY_PATH: /home/sdegeyter/.conda/envs/pointcept/lib/python3.10/site-packages/cv2/../../lib64:\n",
      "2024-05-31 16:08:32.822825: W tensorflow/compiler/xla/stream_executor/platform/default/dso_loader.cc:64] Could not load dynamic library 'libnvinfer_plugin.so.7'; dlerror: libnvinfer_plugin.so.7: cannot open shared object file: No such file or directory; LD_LIBRARY_PATH: /home/sdegeyter/.conda/envs/pointcept/lib/python3.10/site-packages/cv2/../../lib64:\n",
      "2024-05-31 16:08:32.822837: W tensorflow/compiler/tf2tensorrt/utils/py_utils.cc:38] TF-TRT Warning: Cannot dlopen some TensorRT libraries. If you would like to use Nvidia GPU with TensorRT, please make sure the missing libraries mentioned above are installed properly.\n"
     ]
    },
    {
     "name": "stdout",
     "output_type": "stream",
     "text": [
      "Doors_4 : Door Score: 0.6158147001784781 => Referencelevel: 0.01; Width: 1.17; height: 2.08\n",
      "Doors_3 : Door Score: 0.6615254315474761 => Referencelevel: 0.02; Width: 1.02; height: 2.09\n",
      "Doors_6 : Door Score: 0.7119081344293511 => Referencelevel: 0.05; Width: 0.92; height: 2.1\n",
      "Doors_2 : Door Score: 0.53901416586793 => Referencelevel: 0.03; Width: 0.8; height: 2.11\n",
      "Number of doors: 4\n",
      "JSON data written to file: /home/sdegeyter/Code/Scan-to-BIM-CVPR-2024/data/t8/test/25_Parking_01_F2_doors.json\n",
      "final text_encoder_type: bert-base-uncased\n",
      "Model loaded from /home/sdegeyter/.cache/huggingface/hub/models--ShilongLiu--GroundingDINO/snapshots/a94c9b567a2a374598f05c584e96798a170c56fb/groundingdino_swinb_cogcoor.pth \n",
      " => _IncompatibleKeys(missing_keys=[], unexpected_keys=['label_enc.weight', 'bert.embeddings.position_ids'])\n",
      "/home/sdegeyter/Code/Scan-to-BIM-CVPR-2024/data/t4/test/08_ShortOffice_01_F2_small_pred.laz\n",
      "/home/sdegeyter/Code/Scan-to-BIM-CVPR-2024/data/t6/test/08_ShortOffice_01_F2_walls.ttl\n",
      "processing 08_ShortOffice_01_F2_small_pred...\n",
      "70 wallNodes detected!\n",
      "Matched 70 pointclouds to nodes\n"
     ]
    },
    {
     "name": "stderr",
     "output_type": "stream",
     "text": [
      "FutureWarning: The `device` argument is deprecated and will be removed in v5 of Transformers.\n",
      "UserWarning: torch.utils.checkpoint: please pass in use_reentrant=True or use_reentrant=False explicitly. The default value of use_reentrant will be updated to be False in the future. To maintain current behavior, pass use_reentrant=True. It is recommended that you use use_reentrant=False. Refer to docs for more details on the differences between the two variants.\n",
      "UserWarning: None of the inputs have requires_grad=True. Gradients will be None\n"
     ]
    },
    {
     "name": "stdout",
     "output_type": "stream",
     "text": [
      "Doors_30 : Door Score: 0.6593811416366826 => Referencelevel: 0.04; Width: 0.88; height: 2.06\n",
      "Doors_31 : Door Score: 0.543852769110514 => Referencelevel: 0.02; Width: 0.67; height: 2.09\n",
      "Doors_22 : Door Score: 0.6376453069759453 => Referencelevel: 0.03; Width: 0.97; height: 2.11\n",
      "Doors_17 : Door Score: 0.5043595651180848 => Referencelevel: 0.04; Width: 0.57; height: 2.04\n",
      "Doors_14 : Door Score: 0.6592198531005693 => Referencelevel: 0.01; Width: 1.16; height: 2.12\n",
      "Doors_11 : Door Score: 0.6819457715490592 => Referencelevel: 0.03; Width: 1.17; height: 2.07\n",
      "Doors_21 : Door Score: 0.6139765364709105 => Referencelevel: 0.01; Width: 1.1; height: 2.08\n",
      "Doors_12 : Door Score: 0.6438205980217977 => Referencelevel: 0.02; Width: 0.92; height: 2.11\n",
      "Doors_24 : Door Score: 0.7244203122802403 => Referencelevel: 0.01; Width: 0.86; height: 2.06\n",
      "Doors_0 : Door Score: 0.7159302826549695 => Referencelevel: 0.01; Width: 0.85; height: 2.08\n",
      "Doors_25 : Door Score: 0.7007998785765275 => Referencelevel: 0.03; Width: 0.85; height: 2.08\n",
      "Doors_16 : Door Score: 0.7090432320470396 => Referencelevel: 0.03; Width: 0.85; height: 2.04\n",
      "Doors_15 : Door Score: 0.7193839571268663 => Referencelevel: 0.03; Width: 0.82; height: 2.05\n",
      "Doors_29 : Door Score: 0.7034588519386623 => Referencelevel: 0.01; Width: 0.74; height: 2.06\n",
      "Doors_9 : Door Score: 0.7653181284406909 => Referencelevel: 0.01; Width: 0.97; height: 2.1\n",
      "Doors_20 : Door Score: 0.7747915052331014 => Referencelevel: 0.02; Width: 1.04; height: 2.09\n",
      "Doors_5 : Door Score: 0.6300544629926269 => Referencelevel: 0.2; Width: 0.95; height: 2.09\n",
      "Doors_3 : Door Score: 0.6347102648278939 => Referencelevel: 0.01; Width: 0.95; height: 2.12\n",
      "Doors_19 : Door Score: 0.7819241030838178 => Referencelevel: 0.02; Width: 0.95; height: 2.08\n",
      "Doors_26 : Door Score: 0.7026193407307499 => Referencelevel: 0.01; Width: 0.86; height: 2.08\n",
      "Doors_27 : Door Score: 0.6970259264241093 => Referencelevel: 0.07; Width: 0.9; height: 1.98\n",
      "Doors_8 : Door Score: 0.7069566448875098 => Referencelevel: 0.02; Width: 0.8; height: 2.07\n",
      "Doors_6 : Door Score: 0.6009862238427868 => Referencelevel: 0.17; Width: 0.94; height: 1.85\n",
      "Doors_28 : Door Score: 0.6424905906552854 => Referencelevel: 0.1; Width: 0.85; height: 1.93\n",
      "Doors_13 : Door Score: 0.5114946870441021 => Referencelevel: 0.01; Width: 0.71; height: 2.1\n",
      "Number of doors: 25\n",
      "JSON data written to file: /home/sdegeyter/Code/Scan-to-BIM-CVPR-2024/data/t8/test/08_ShortOffice_01_F2_doors.json\n",
      "final text_encoder_type: bert-base-uncased\n",
      "Model loaded from /home/sdegeyter/.cache/huggingface/hub/models--ShilongLiu--GroundingDINO/snapshots/a94c9b567a2a374598f05c584e96798a170c56fb/groundingdino_swinb_cogcoor.pth \n",
      " => _IncompatibleKeys(missing_keys=[], unexpected_keys=['label_enc.weight', 'bert.embeddings.position_ids'])\n",
      "/home/sdegeyter/Code/Scan-to-BIM-CVPR-2024/data/t4/test/11_MedOffice_05_F4_small_pred.laz\n",
      "/home/sdegeyter/Code/Scan-to-BIM-CVPR-2024/data/t6/test/11_MedOffice_05_F4_walls.ttl\n",
      "processing 11_MedOffice_05_F4_small_pred...\n",
      "93 wallNodes detected!\n",
      "Matched 93 pointclouds to nodes\n"
     ]
    },
    {
     "name": "stderr",
     "output_type": "stream",
     "text": [
      "FutureWarning: The `device` argument is deprecated and will be removed in v5 of Transformers.\n",
      "UserWarning: torch.utils.checkpoint: please pass in use_reentrant=True or use_reentrant=False explicitly. The default value of use_reentrant will be updated to be False in the future. To maintain current behavior, pass use_reentrant=True. It is recommended that you use use_reentrant=False. Refer to docs for more details on the differences between the two variants.\n",
      "UserWarning: None of the inputs have requires_grad=True. Gradients will be None\n"
     ]
    },
    {
     "name": "stdout",
     "output_type": "stream",
     "text": [
      "Doors_41 : Door Score: 0.7546150289411132 => Referencelevel: 0.09; Width: 1.02; height: 2.03\n",
      "Doors_40 : Door Score: 0.7025646692125697 => Referencelevel: 0.21; Width: 0.97; height: 2.01\n",
      "Doors_39 : Door Score: 0.8018869585576265 => Referencelevel: 0.09; Width: 0.97; height: 2.0\n",
      "Doors_60 : Door Score: 0.7457722679428431 => Referencelevel: 0.05; Width: 1.06; height: 2.04\n",
      "Doors_62 : Door Score: 0.655834971471973 => Referencelevel: 0.06; Width: 0.97; height: 2.08\n",
      "Doors_2 : Door Score: 0.7063323409142701 => Referencelevel: 0.02; Width: 0.99; height: 2.16\n",
      "Doors_3 : Door Score: 0.651555550072504 => Referencelevel: 0.01; Width: 1.0; height: 2.12\n",
      "Doors_52 : Door Score: 0.5864066168795461 => Referencelevel: 0.02; Width: 0.85; height: 2.11\n",
      "Doors_57 : Door Score: 0.5660248786988467 => Referencelevel: 0.02; Width: 1.13; height: 2.19\n",
      "Doors_12 : Door Score: 0.7072250378909317 => Referencelevel: 0.06; Width: 0.97; height: 2.06\n",
      "Doors_13 : Door Score: 0.7104070299086365 => Referencelevel: 0.06; Width: 0.97; height: 2.05\n",
      "Doors_33 : Door Score: 0.6837524613090182 => Referencelevel: 0.02; Width: 0.83; height: 2.1\n",
      "Doors_51 : Door Score: 0.5488976574203243 => Referencelevel: 0.06; Width: 0.89; height: 2.15\n",
      "Doors_63 : Door Score: 0.7112666900779887 => Referencelevel: 0.01; Width: 1.12; height: 2.14\n",
      "Doors_1 : Door Score: 0.6792835551241172 => Referencelevel: 0.02; Width: 0.78; height: 2.03\n",
      "Doors_66 : Door Score: 0.5745181915034419 => Referencelevel: 0.02; Width: 0.94; height: 2.17\n",
      "Doors_53 : Door Score: 0.5330617555587187 => Referencelevel: 0.02; Width: 0.9; height: 2.2\n",
      "Doors_48 : Door Score: 0.7282677291139312 => Referencelevel: 0.14; Width: 0.99; height: 1.98\n",
      "Doors_27 : Door Score: 0.6433259324405506 => Referencelevel: 0.08; Width: 0.93; height: 2.09\n",
      "Doors_21 : Door Score: 0.7589156485640484 => Referencelevel: 0.13; Width: 0.96; height: 1.98\n",
      "Doors_17 : Door Score: 0.6608440958676132 => Referencelevel: 0.01; Width: 0.89; height: 2.11\n",
      "Doors_26 : Door Score: 0.5338924741226693 => Referencelevel: 0.04; Width: 0.86; height: 2.16\n",
      "Doors_29 : Door Score: 0.7334578557636426 => Referencelevel: 0.02; Width: 0.86; height: 2.1\n",
      "Doors_59 : Door Score: 0.5414816220428631 => Referencelevel: 0.04; Width: 0.83; height: 2.12\n",
      "Doors_58 : Door Score: 0.6071949017307032 => Referencelevel: 0.03; Width: 0.83; height: 2.08\n",
      "Doors_25 : Door Score: 0.6948126970685046 => Referencelevel: 0.04; Width: 0.83; height: 2.08\n",
      "Doors_67 : Door Score: 0.6231980102995167 => Referencelevel: 0.02; Width: 0.82; height: 2.1\n",
      "Doors_16 : Door Score: 0.5676101582205815 => Referencelevel: 0.05; Width: 0.82; height: 2.07\n",
      "Doors_23 : Door Score: 0.6497624184515165 => Referencelevel: 0.11; Width: 0.85; height: 1.98\n",
      "Doors_14 : Door Score: 0.599142825499825 => Referencelevel: 0.04; Width: 0.81; height: 2.07\n",
      "Doors_54 : Door Score: 0.6071007414486098 => Referencelevel: 0.02; Width: 0.79; height: 2.09\n",
      "Doors_56 : Door Score: 0.5744175227569499 => Referencelevel: 0.02; Width: 0.78; height: 2.09\n",
      "Doors_22 : Door Score: 0.6321455708793972 => Referencelevel: 0.12; Width: 0.81; height: 1.99\n",
      "Doors_15 : Door Score: 0.6000052322771239 => Referencelevel: 0.04; Width: 0.78; height: 2.06\n",
      "Doors_55 : Door Score: 0.5874039228066155 => Referencelevel: 0.03; Width: 0.77; height: 2.08\n",
      "Doors_7 : Door Score: 0.6357617836672325 => Referencelevel: 0.01; Width: 1.01; height: 2.12\n",
      "Doors_11 : Door Score: 0.7128364037949106 => Referencelevel: 0.06; Width: 0.77; height: 2.0\n",
      "Doors_24 : Door Score: 0.576872615516186 => Referencelevel: 0.1; Width: 0.76; height: 2.01\n",
      "Doors_68 : Door Score: 0.5499234583455583 => Referencelevel: 0.06; Width: 1.04; height: 2.21\n",
      "Doors_18 : Door Score: 0.5579496618327888 => Referencelevel: 0.02; Width: 1.17; height: 1.89\n",
      "Doors_44 : Door Score: 0.6730329235222028 => Referencelevel: 0.04; Width: 1.05; height: 2.08\n",
      "Doors_45 : Door Score: 0.6829586116127347 => Referencelevel: 0.09; Width: 0.92; height: 2.03\n",
      "Doors_32 : Door Score: 0.7209261246090352 => Referencelevel: 0.06; Width: 0.96; height: 2.01\n",
      "Doors_30 : Door Score: 0.6072850888967514 => Referencelevel: 0.02; Width: 0.84; height: 2.1\n",
      "Number of doors: 44\n",
      "JSON data written to file: /home/sdegeyter/Code/Scan-to-BIM-CVPR-2024/data/t8/test/11_MedOffice_05_F4_doors.json\n",
      "final text_encoder_type: bert-base-uncased\n",
      "Model loaded from /home/sdegeyter/.cache/huggingface/hub/models--ShilongLiu--GroundingDINO/snapshots/a94c9b567a2a374598f05c584e96798a170c56fb/groundingdino_swinb_cogcoor.pth \n",
      " => _IncompatibleKeys(missing_keys=[], unexpected_keys=['label_enc.weight', 'bert.embeddings.position_ids'])\n",
      "/home/sdegeyter/Code/Scan-to-BIM-CVPR-2024/data/t4/test/08_ShortOffice_01_F1_small_pred.laz\n",
      "/home/sdegeyter/Code/Scan-to-BIM-CVPR-2024/data/t6/test/08_ShortOffice_01_F1_walls.ttl\n",
      "processing 08_ShortOffice_01_F1_small_pred...\n",
      "59 wallNodes detected!\n",
      "Matched 59 pointclouds to nodes\n"
     ]
    },
    {
     "name": "stderr",
     "output_type": "stream",
     "text": [
      "FutureWarning: The `device` argument is deprecated and will be removed in v5 of Transformers.\n",
      "UserWarning: torch.utils.checkpoint: please pass in use_reentrant=True or use_reentrant=False explicitly. The default value of use_reentrant will be updated to be False in the future. To maintain current behavior, pass use_reentrant=True. It is recommended that you use use_reentrant=False. Refer to docs for more details on the differences between the two variants.\n",
      "UserWarning: None of the inputs have requires_grad=True. Gradients will be None\n"
     ]
    },
    {
     "name": "stdout",
     "output_type": "stream",
     "text": [
      "Doors_0 : Door Score: 0.7018359653846078 => Referencelevel: 0.03; Width: 0.95; height: 2.09\n",
      "Doors_10 : Door Score: 0.5659288412591684 => Referencelevel: 0.01; Width: 1.16; height: 2.16\n",
      "Doors_35 : Door Score: 0.5449184272729835 => Referencelevel: 0.02; Width: 1.13; height: 2.15\n",
      "Doors_7 : Door Score: 0.6274956706554993 => Referencelevel: 0.02; Width: 1.09; height: 2.08\n",
      "Doors_36 : Door Score: 0.5480392221652943 => Referencelevel: 0.02; Width: 1.08; height: 2.17\n",
      "Doors_14 : Door Score: 0.6925814968347552 => Referencelevel: 0.04; Width: 1.14; height: 2.03\n",
      "Doors_4 : Door Score: 0.711743655567584 => Referencelevel: 0.04; Width: 0.98; height: 2.05\n",
      "Doors_17 : Door Score: 0.6418501005094983 => Referencelevel: 0.03; Width: 1.12; height: 2.04\n",
      "Doors_18 : Door Score: 0.5899172393394554 => Referencelevel: 0.03; Width: 1.05; height: 2.15\n",
      "Doors_20 : Door Score: 0.6696346370292747 => Referencelevel: 0.03; Width: 1.1; height: 2.05\n",
      "Doors_11 : Door Score: 0.6476650260842365 => Referencelevel: 0.02; Width: 1.02; height: 2.15\n",
      "Doors_22 : Door Score: 0.7009235603135564 => Referencelevel: 0.02; Width: 0.96; height: 2.06\n",
      "Doors_29 : Door Score: 0.6861391433036845 => Referencelevel: 0.12; Width: 1.01; height: 1.92\n",
      "Doors_33 : Door Score: 0.6367345890273219 => Referencelevel: 0.0; Width: 0.91; height: 2.11\n",
      "Doors_2 : Door Score: 0.6698744499165079 => Referencelevel: 0.15; Width: 0.96; height: 1.92\n",
      "Doors_21 : Door Score: 0.7156407945570739 => Referencelevel: 0.01; Width: 0.9; height: 2.0\n",
      "Doors_16 : Door Score: 0.6639837357531425 => Referencelevel: 0.03; Width: 0.85; height: 2.05\n",
      "Doors_8 : Door Score: 0.603089064411495 => Referencelevel: 0.03; Width: 0.98; height: 1.77\n",
      "Doors_41 : Door Score: 0.5434484710511954 => Referencelevel: 0.0; Width: 0.83; height: 2.11\n",
      "Doors_31 : Door Score: 0.6673576217630636 => Referencelevel: 0.1; Width: 0.86; height: 1.95\n",
      "Doors_32 : Door Score: 0.6367455080281132 => Referencelevel: 0.12; Width: 0.83; height: 1.95\n",
      "Doors_30 : Door Score: 0.5993430646865264 => Referencelevel: 0.1; Width: 0.79; height: 1.95\n",
      "Number of doors: 22\n",
      "JSON data written to file: /home/sdegeyter/Code/Scan-to-BIM-CVPR-2024/data/t8/test/08_ShortOffice_01_F1_doors.json\n",
      "final text_encoder_type: bert-base-uncased\n",
      "Model loaded from /home/sdegeyter/.cache/huggingface/hub/models--ShilongLiu--GroundingDINO/snapshots/a94c9b567a2a374598f05c584e96798a170c56fb/groundingdino_swinb_cogcoor.pth \n",
      " => _IncompatibleKeys(missing_keys=[], unexpected_keys=['label_enc.weight', 'bert.embeddings.position_ids'])\n",
      "/home/sdegeyter/Code/Scan-to-BIM-CVPR-2024/data/t4/test/11_MedOffice_05_F2_small_pred.laz\n",
      "/home/sdegeyter/Code/Scan-to-BIM-CVPR-2024/data/t6/test/11_MedOffice_05_F2_walls.ttl\n",
      "processing 11_MedOffice_05_F2_small_pred...\n",
      "101 wallNodes detected!\n",
      "Matched 100 pointclouds to nodes\n"
     ]
    },
    {
     "name": "stderr",
     "output_type": "stream",
     "text": [
      "FutureWarning: The `device` argument is deprecated and will be removed in v5 of Transformers.\n",
      "UserWarning: torch.utils.checkpoint: please pass in use_reentrant=True or use_reentrant=False explicitly. The default value of use_reentrant will be updated to be False in the future. To maintain current behavior, pass use_reentrant=True. It is recommended that you use use_reentrant=False. Refer to docs for more details on the differences between the two variants.\n",
      "UserWarning: None of the inputs have requires_grad=True. Gradients will be None\n"
     ]
    },
    {
     "name": "stdout",
     "output_type": "stream",
     "text": [
      "Doors_16 : Door Score: 0.5789894267398377 => Referencelevel: 0.02; Width: 0.93; height: 2.14\n",
      "Doors_70 : Door Score: 0.6823829673684163 => Referencelevel: 0.02; Width: 1.04; height: 2.07\n",
      "Doors_33 : Door Score: 0.540684784832208 => Referencelevel: 0.02; Width: 1.18; height: 2.19\n",
      "Doors_52 : Door Score: 0.687472999640133 => Referencelevel: 0.04; Width: 0.94; height: 2.04\n",
      "Doors_50 : Door Score: 0.6882761296500333 => Referencelevel: 0.02; Width: 0.94; height: 2.03\n",
      "Doors_10 : Door Score: 0.6218733181901599 => Referencelevel: 0.02; Width: 1.07; height: 2.14\n",
      "Doors_49 : Door Score: 0.7488077795505526 => Referencelevel: 0.02; Width: 0.99; height: 2.09\n",
      "Doors_34 : Door Score: 0.6111797765286071 => Referencelevel: 0.01; Width: 0.97; height: 2.14\n",
      "Doors_73 : Door Score: 0.5789737935429033 => Referencelevel: 0.02; Width: 1.01; height: 2.19\n",
      "Doors_39 : Door Score: 0.6353253956203877 => Referencelevel: 0.02; Width: 0.89; height: 2.13\n",
      "Doors_48 : Door Score: 0.5418778212951578 => Referencelevel: 0.02; Width: 0.81; height: 2.11\n",
      "Doors_72 : Door Score: 0.6387457897870437 => Referencelevel: 0.01; Width: 1.14; height: 1.98\n",
      "Doors_12 : Door Score: 0.5975533617320267 => Referencelevel: 0.01; Width: 0.87; height: 2.08\n",
      "Doors_40 : Door Score: 0.7019833150635595 => Referencelevel: 0.03; Width: 0.98; height: 2.06\n",
      "Doors_56 : Door Score: 0.5833326258089232 => Referencelevel: 0.0; Width: 1.09; height: 1.85\n",
      "Doors_54 : Door Score: 0.5818462352649025 => Referencelevel: 0.04; Width: 0.98; height: 1.78\n",
      "Doors_71 : Door Score: 0.6371721494197844 => Referencelevel: 0.01; Width: 0.94; height: 2.08\n",
      "Doors_38 : Door Score: 0.5581529334317084 => Referencelevel: 0.02; Width: 1.13; height: 2.13\n",
      "Doors_42 : Door Score: 0.6738089064152346 => Referencelevel: 0.04; Width: 0.91; height: 2.05\n",
      "Doors_4 : Door Score: 0.6338320440701817 => Referencelevel: 0.02; Width: 0.9; height: 2.06\n",
      "Doors_31 : Door Score: 0.616205740182296 => Referencelevel: 0.02; Width: 0.87; height: 2.12\n",
      "Doors_32 : Door Score: 0.6597015163691148 => Referencelevel: 0.03; Width: 0.88; height: 2.08\n",
      "Doors_28 : Door Score: 0.6301823893319005 => Referencelevel: 0.0; Width: 1.05; height: 2.13\n",
      "Doors_59 : Door Score: 0.6818159584895427 => Referencelevel: 0.02; Width: 0.82; height: 2.05\n",
      "Doors_43 : Door Score: 0.7041560342519179 => Referencelevel: 0.01; Width: 0.8; height: 2.08\n",
      "Doors_60 : Door Score: 0.6551889574527743 => Referencelevel: 0.02; Width: 0.8; height: 2.05\n",
      "Doors_9 : Door Score: 0.6659004042459571 => Referencelevel: 0.02; Width: 0.76; height: 2.06\n",
      "Doors_53 : Door Score: 0.6435230979193812 => Referencelevel: 0.01; Width: 0.75; height: 2.05\n",
      "Doors_41 : Door Score: 0.6331720124120299 => Referencelevel: 0.05; Width: 0.75; height: 2.03\n",
      "Doors_57 : Door Score: 0.5662135595083236 => Referencelevel: 0.23; Width: 1.08; height: 2.15\n",
      "Doors_46 : Door Score: 0.5351827566779179 => Referencelevel: 0.01; Width: 0.68; height: 2.07\n",
      "Doors_58 : Door Score: 0.6643550142904988 => Referencelevel: 0.04; Width: 0.95; height: 2.05\n",
      "Doors_61 : Door Score: 0.5001314863692161 => Referencelevel: 0.02; Width: 0.6; height: 2.05\n",
      "Doors_14 : Door Score: 0.6776041035807653 => Referencelevel: 0.01; Width: 0.92; height: 2.07\n",
      "Doors_21 : Door Score: 0.6768926907622297 => Referencelevel: 0.02; Width: 0.99; height: 2.13\n",
      "Doors_18 : Door Score: 0.5890548893679742 => Referencelevel: 0.01; Width: 0.81; height: 1.96\n",
      "Doors_69 : Door Score: 0.5955446413548096 => Referencelevel: 0.03; Width: 1.12; height: 1.9\n",
      "Doors_20 : Door Score: 0.5379768734522488 => Referencelevel: 0.02; Width: 0.9; height: 2.17\n",
      "Doors_23 : Door Score: 0.6308939859400626 => Referencelevel: 0.02; Width: 1.01; height: 2.15\n",
      "Doors_25 : Door Score: 0.6355320337803467 => Referencelevel: 0.02; Width: 0.97; height: 2.13\n",
      "Doors_29 : Door Score: 0.591168008291203 => Referencelevel: 0.0; Width: 0.98; height: 2.19\n",
      "Doors_1 : Door Score: 0.6003688065642896 => Referencelevel: 0.01; Width: 1.09; height: 1.86\n",
      "Doors_67 : Door Score: 0.6957297634300981 => Referencelevel: 0.02; Width: 0.9; height: 2.05\n",
      "Doors_8 : Door Score: 0.6274712368975517 => Referencelevel: 0.02; Width: 0.85; height: 2.11\n",
      "Doors_74 : Door Score: 0.6699699742379396 => Referencelevel: 0.01; Width: 0.85; height: 2.0\n",
      "Number of doors: 45\n",
      "JSON data written to file: /home/sdegeyter/Code/Scan-to-BIM-CVPR-2024/data/t8/test/11_MedOffice_05_F2_doors.json\n",
      "final text_encoder_type: bert-base-uncased\n",
      "Model loaded from /home/sdegeyter/.cache/huggingface/hub/models--ShilongLiu--GroundingDINO/snapshots/a94c9b567a2a374598f05c584e96798a170c56fb/groundingdino_swinb_cogcoor.pth \n",
      " => _IncompatibleKeys(missing_keys=[], unexpected_keys=['label_enc.weight', 'bert.embeddings.position_ids'])\n",
      "/home/sdegeyter/Code/Scan-to-BIM-CVPR-2024/data/t4/test/25_Parking_01_F1_small_pred.laz\n",
      "/home/sdegeyter/Code/Scan-to-BIM-CVPR-2024/data/t6/test/25_Parking_01_F1_walls.ttl\n",
      "processing 25_Parking_01_F1_small_pred...\n",
      "27 wallNodes detected!\n",
      "Matched 27 pointclouds to nodes\n"
     ]
    },
    {
     "name": "stderr",
     "output_type": "stream",
     "text": [
      "FutureWarning: The `device` argument is deprecated and will be removed in v5 of Transformers.\n",
      "UserWarning: torch.utils.checkpoint: please pass in use_reentrant=True or use_reentrant=False explicitly. The default value of use_reentrant will be updated to be False in the future. To maintain current behavior, pass use_reentrant=True. It is recommended that you use use_reentrant=False. Refer to docs for more details on the differences between the two variants.\n",
      "UserWarning: None of the inputs have requires_grad=True. Gradients will be None\n"
     ]
    },
    {
     "name": "stdout",
     "output_type": "stream",
     "text": [
      "Doors_8 : Door Score: 0.7179698565731878 => Referencelevel: 0.0; Width: 1.01; height: 1.97\n",
      "Doors_3 : Door Score: 0.5856343354608701 => Referencelevel: 0.01; Width: 1.15; height: 2.1\n",
      "Doors_13 : Door Score: 0.7576629561963287 => Referencelevel: 0.01; Width: 1.06; height: 1.98\n",
      "Doors_0 : Door Score: 0.6606818645933399 => Referencelevel: 0.01; Width: 0.7; height: 1.98\n",
      "Number of doors: 4\n",
      "JSON data written to file: /home/sdegeyter/Code/Scan-to-BIM-CVPR-2024/data/t8/test/25_Parking_01_F1_doors.json\n",
      "final text_encoder_type: bert-base-uncased\n",
      "Model loaded from /home/sdegeyter/.cache/huggingface/hub/models--ShilongLiu--GroundingDINO/snapshots/a94c9b567a2a374598f05c584e96798a170c56fb/groundingdino_swinb_cogcoor.pth \n",
      " => _IncompatibleKeys(missing_keys=[], unexpected_keys=['label_enc.weight', 'bert.embeddings.position_ids'])\n",
      "/home/sdegeyter/Code/Scan-to-BIM-CVPR-2024/data/t4/test/34_Parking_04_F1_small_pred.laz\n",
      "/home/sdegeyter/Code/Scan-to-BIM-CVPR-2024/data/t6/test/34_Parking_04_F1_walls.ttl\n",
      "processing 34_Parking_04_F1_small_pred...\n",
      "10 wallNodes detected!\n",
      "Matched 10 pointclouds to nodes\n"
     ]
    },
    {
     "name": "stderr",
     "output_type": "stream",
     "text": [
      "FutureWarning: The `device` argument is deprecated and will be removed in v5 of Transformers.\n",
      "UserWarning: torch.utils.checkpoint: please pass in use_reentrant=True or use_reentrant=False explicitly. The default value of use_reentrant will be updated to be False in the future. To maintain current behavior, pass use_reentrant=True. It is recommended that you use use_reentrant=False. Refer to docs for more details on the differences between the two variants.\n",
      "UserWarning: None of the inputs have requires_grad=True. Gradients will be None\n"
     ]
    },
    {
     "name": "stdout",
     "output_type": "stream",
     "text": [
      "Doors_5 : Door Score: 0.640062119623889 => Referencelevel: 0.01; Width: 0.91; height: 2.06\n",
      "Doors_3 : Door Score: 0.7533429845001387 => Referencelevel: 0.02; Width: 0.88; height: 2.08\n",
      "Doors_2 : Door Score: 0.5524114944105561 => Referencelevel: 0.01; Width: 1.13; height: 2.14\n",
      "Number of doors: 3\n",
      "JSON data written to file: /home/sdegeyter/Code/Scan-to-BIM-CVPR-2024/data/t8/test/34_Parking_04_F1_doors.json\n"
     ]
    }
   ],
   "source": [
    "for f_pcd in point_cloud_files:\n",
    "    \n",
    "    ckpt_repo_id = \"ShilongLiu/GroundingDINO\" \n",
    "    ckpt_filenmae = \"groundingdino_swinb_cogcoor.pth\"\n",
    "    ckpt_config_filename = \"GroundingDINO_SwinB.cfg.py\"\n",
    "    device=\"cuda:1\"\n",
    "    \n",
    "    with autocast():\n",
    "        groundingdino_model = t8.load_model_hf(ckpt_repo_id, ckpt_filenmae, ckpt_config_filename, device=device)\n",
    "        \n",
    "        \n",
    "    reform_name='_'.join(ut.get_filename(f_pcd).split('_')[:4])\n",
    "    for f_rdf in wall_files:\n",
    "        if reform_name == '_'.join(ut.get_filename(f_rdf).split('_')[:4]):\n",
    "            break\n",
    "    print(f_pcd)\n",
    "    print(f_rdf)\n",
    "    doorNodes = []\n",
    "    door_count = 0\n",
    "    print(f'processing {ut.get_filename(f_pcd)}...') \n",
    "    \n",
    "    wallNodes = t8.graph_to_wallnodes(f_pcd, f_rdf)\n",
    "    \n",
    "    t8.create_orthos(wallNodes, image_resolution = 0.01, octree_size = 10, fill_region = 12)\n",
    "    \n",
    "    t8.object_detection(wallNodes, model = groundingdino_model, TEXT_PROMPT = \"Door\") \n",
    "    \n",
    "    doorNodes = t8.process_detections(wallNodes, t_score = 0.5, image_resolution = 0.01)\n",
    "    t8.create_geometry(doorNodes)\n",
    "            \n",
    "    nodes = t8.merge_door_nodes(doorNodes)\n",
    "    new_nodes = t8.filter_door_nodes(doorNodes = nodes, min_width = 0.5, max_width = 1.2, min_height = 1.5, max_height = 2.5, max_distance_to_ground = 0.5)\n",
    "    \n",
    "    t8.create_geometry(new_nodes)\n",
    "\n",
    "    for doornode in new_nodes:\n",
    "        print(\"%s : Door Score: %s => Referencelevel: %s; Width: %s; height: %s\" %(doornode.name, doornode.doornessScore, doornode.reference_level, doornode.doorWidth, doornode.height))    \n",
    "    \n",
    "    print(f\"Number of doors: {len(new_nodes)}\")\n",
    "    t8.export_door_nodes(doorNodes = new_nodes, output_folder = output_folder, filename = ut.get_filename(f_pcd))\n",
    "    "
   ]
  },
  {
   "cell_type": "code",
   "execution_count": null,
   "metadata": {},
   "outputs": [],
   "source": []
  }
 ],
 "metadata": {
  "kernelspec": {
   "display_name": "CVPR2",
   "language": "python",
   "name": "python3"
  },
  "language_info": {
   "codemirror_mode": {
    "name": "ipython",
    "version": 3
   },
   "file_extension": ".py",
   "mimetype": "text/x-python",
   "name": "python",
   "nbconvert_exporter": "python",
   "pygments_lexer": "ipython3",
   "version": "3.10.14"
  }
 },
 "nbformat": 4,
 "nbformat_minor": 2
}
