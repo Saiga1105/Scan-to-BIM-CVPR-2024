{
 "cells": [
  {
   "cell_type": "markdown",
   "metadata": {},
   "source": [
    "# T5. REFERENCE LEVELS\n",
    "\n",
    "In this notebook, we extract the reference levels from the t1_semantic segmentation/ t2_instance segmentation"
   ]
  },
  {
   "cell_type": "markdown",
   "metadata": {},
   "source": [
    "## LIBRARIES"
   ]
  },
  {
   "cell_type": "code",
   "execution_count": 1,
   "metadata": {},
   "outputs": [
    {
     "name": "stdout",
     "output_type": "stream",
     "text": [
      "Jupyter environment detected. Enabling Open3D WebVisualizer.\n",
      "[Open3D INFO] WebRTC GUI backend enabled.\n",
      "[Open3D INFO] WebRTCWindowSystem: HTTP handshake server disabled.\n"
     ]
    }
   ],
   "source": [
    "#IMPORT PACKAGES\n",
    "from rdflib import Graph, URIRef\n",
    "import os.path\n",
    "import importlib\n",
    "from pathlib import Path\n",
    "import numpy as np\n",
    "import xml.etree.ElementTree as ET\n",
    "import open3d as o3d\n",
    "import uuid    \n",
    "import pye57 \n",
    "import ifcopenshell\n",
    "import ifcopenshell.geom as geom\n",
    "import ifcopenshell.util\n",
    "from ifcopenshell.util.selector import Selector\n",
    "import multiprocessing\n",
    "import random as rd\n",
    "import pandas as pd\n",
    "# from tabulate import tabulate\n",
    "import cv2\n",
    "import laspy\n",
    "import json\n",
    "from scipy.spatial.transform import Rotation   \n",
    "import copy\n",
    "import geomapi\n",
    "from geomapi.nodes import *\n",
    "import geomapi.utils as ut\n",
    "from geomapi.utils import geometryutils as gmu\n",
    "import geomapi.tools as tl\n",
    "\n",
    "import geomapi\n",
    "from geomapi.nodes import *\n",
    "import geomapi.utils as ut\n",
    "from geomapi.utils import geometryutils as gmu\n",
    "import geomapi.tools as tl\n",
    "import geomapi.tools.progresstools as pt\n",
    "\n",
    "#import utils\n",
    "import context \n",
    "import utils as utl\n"
   ]
  },
  {
   "cell_type": "code",
   "execution_count": 2,
   "metadata": {},
   "outputs": [],
   "source": [
    "%load_ext autoreload"
   ]
  },
  {
   "cell_type": "code",
   "execution_count": 3,
   "metadata": {},
   "outputs": [],
   "source": [
    "%autoreload 2"
   ]
  },
  {
   "cell_type": "markdown",
   "metadata": {},
   "source": [
    "## INPUTS"
   ]
  },
  {
   "cell_type": "code",
   "execution_count": 4,
   "metadata": {},
   "outputs": [
    {
     "name": "stdout",
     "output_type": "stream",
     "text": [
      "/home/sdegeyter/Code/Scan-to-BIM-CVPR-2024\n"
     ]
    }
   ],
   "source": [
    "#paths\n",
    "path=Path(os.getcwd()).parents[0] # with MB this is 2\n",
    "\n",
    "print(path)\n",
    "input_folder=path/'data'/'t4'/'test' \n",
    "class_file=path/'data'/'_classes.json'\n",
    "output_folder=path/'data'/'t5'/ 'test'\n",
    "os.makedirs(output_folder, exist_ok=True)\n"
   ]
  },
  {
   "cell_type": "markdown",
   "metadata": {},
   "source": [
    "Import Classes"
   ]
  },
  {
   "cell_type": "code",
   "execution_count": 6,
   "metadata": {},
   "outputs": [
    {
     "name": "stdout",
     "output_type": "stream",
     "text": [
<<<<<<< HEAD
      "{'classes': [{'name': 'unassigned', 'id': 255, 'temp_id': 0, 'color': '#9da2ab'}, {'name': 'floors', 'id': 0, 'temp_id': 1, 'color': '#03c2fc'}, {'name': 'ceilings', 'id': 1, 'temp_id': 2, 'color': '#e81416'}, {'name': 'walls', 'id': 2, 'temp_id': 3, 'color': '#ffa500'}, {'name': 'columns', 'id': 3, 'temp_id': 4, 'color': '#faeb36'}, {'name': 'doors', 'id': 4, 'temp_id': 5, 'color': '#79c314'}, {'name': 'beams', 'id': 5, 'temp_id': 6, 'color': '#79c314'}], 'default': 255, 'type': 'semantic_segmentation', 'format': 'kitti', 'created_with': {'name': 'Saiga', 'version': '1.0.1'}}\n"
=======
      "{'classes': [{'name': 'Unassigned', 'id': 255, 'temp_id': 0, 'color': '#9da2ab'}, {'name': 'Floors', 'id': 0, 'temp_id': 1, 'color': '#03c2fc'}, {'name': 'Ceilings', 'id': 1, 'temp_id': 2, 'color': '#e81416'}, {'name': 'Walls', 'id': 2, 'temp_id': 3, 'color': '#ffa500'}, {'name': 'Columns', 'id': 3, 'temp_id': 4, 'color': '#faeb36'}, {'name': 'Doors', 'id': 4, 'temp_id': 5, 'color': '#79c314'}, {'name': 'Windows', 'id': 5, 'temp_id': 6, 'color': '#4b369d'}], 'default': 255, 'type': 'semantic_segmentation', 'format': 'kitti', 'created_with': {'name': 'Saiga', 'version': '1.0.1'}}\n"
>>>>>>> 8d7ef90ab82e7bd9023dc0b0c2a27bc6e73fb7ce
     ]
    }
   ],
   "source": [
    "# Read the JSON file\n",
    "with open(class_file, 'r') as file:\n",
    "    json_data = json.load(file)\n",
    "\n",
    "# Create a dictionary\n",
    "class_dict = {\n",
    "    'classes': json_data['classes'],\n",
    "    'default': json_data['default'],\n",
    "    'type': json_data['type'],\n",
    "    'format': json_data['format'],\n",
    "    'created_with': json_data['created_with']\n",
    "}\n",
    "print(class_dict)"
   ]
  },
  {
   "cell_type": "markdown",
   "metadata": {},
   "source": [
    "Import PCD"
   ]
  },
  {
   "cell_type": "code",
   "execution_count": 17,
   "metadata": {},
   "outputs": [
    {
     "name": "stdout",
     "output_type": "stream",
     "text": [
<<<<<<< HEAD
      "c:\\Users\\u0094523\\OneDrive - KU Leuven\\2024-05 CVPR scan-to-BIM challenge\\data\\t4\\test\\11_MedOffice_05_F2_small_pred.ttl\n",
      "processing 11_MedOffice_05_F2_small_pred ...\n",
      "156 Nodes found\n",
      "3 floor nodes and 5 ceiling nodes found\n",
      "2 levels created at heights [0.0161679523, 2.74903721]\n",
      "JSON data written to file: c:\\Users\\u0094523\\OneDrive - KU Leuven\\2024-05 CVPR scan-to-BIM challenge\\data\\t5\\test\\11_MedOffice_05_F2_small_pred_levels.json\n",
      " Saving joint references : True\n",
      "c:\\Users\\u0094523\\OneDrive - KU Leuven\\2024-05 CVPR scan-to-BIM challenge\\data\\t4\\test\\11_MedOffice_05_F4_small_pred.ttl\n",
      "processing 11_MedOffice_05_F4_small_pred ...\n",
      "152 Nodes found\n",
      "8 floor nodes and 9 ceiling nodes found\n",
      "4 levels created at heights [-4.21099628, 0.0604897509, 2.78621407, 4.15988102]\n",
      "JSON data written to file: c:\\Users\\u0094523\\OneDrive - KU Leuven\\2024-05 CVPR scan-to-BIM challenge\\data\\t5\\test\\11_MedOffice_05_F4_small_pred_levels.json\n",
      " Saving joint references : True\n",
      "c:\\Users\\u0094523\\OneDrive - KU Leuven\\2024-05 CVPR scan-to-BIM challenge\\data\\t4\\test\\25_Parking_01_F1_small_pred.ttl\n",
      "processing 25_Parking_01_F1_small_pred ...\n",
      "111 Nodes found\n",
      "18 floor nodes and 33 ceiling nodes found\n",
      "3 levels created at heights [-0.0152047619, 0.72754617, 3.90959681]\n",
      "JSON data written to file: c:\\Users\\u0094523\\OneDrive - KU Leuven\\2024-05 CVPR scan-to-BIM challenge\\data\\t5\\test\\25_Parking_01_F1_small_pred_levels.json\n",
      " Saving joint references : True\n",
      "c:\\Users\\u0094523\\OneDrive - KU Leuven\\2024-05 CVPR scan-to-BIM challenge\\data\\t4\\test\\25_Parking_01_F2_small_pred.ttl\n",
      "processing 25_Parking_01_F2_small_pred ...\n",
      "110 Nodes found\n",
      "21 floor nodes and 30 ceiling nodes found\n",
      "7 levels created at heights [-2.82363624, -2.19015511, -1.27174933, 0.00143420707, 0.5913446, 2.94969298, 4.53497272]\n",
      "JSON data written to file: c:\\Users\\u0094523\\OneDrive - KU Leuven\\2024-05 CVPR scan-to-BIM challenge\\data\\t5\\test\\25_Parking_01_F2_small_pred_levels.json\n",
      " Saving joint references : True\n",
      "c:\\Users\\u0094523\\OneDrive - KU Leuven\\2024-05 CVPR scan-to-BIM challenge\\data\\t4\\test\\34_Parking_04_F1_small_pred.ttl\n",
      "processing 34_Parking_04_F1_small_pred ...\n",
      "19 Nodes found\n",
      "1 floor nodes and 3 ceiling nodes found\n",
      "3 levels created at heights [-0.01429057, 2.43856236, 4.19882012]\n",
      "JSON data written to file: c:\\Users\\u0094523\\OneDrive - KU Leuven\\2024-05 CVPR scan-to-BIM challenge\\data\\t5\\test\\34_Parking_04_F1_small_pred_levels.json\n",
      " Saving joint references : True\n"
=======
      "processing 05_MedOffice_01_F2_small1...\n",
      "Unassigned\n",
      "(10399439,)\n",
      "Floors\n",
      "(2867767,)\n",
      "Ceilings\n",
      "(5737921,)\n",
      "Walls\n",
      "(2633,)\n",
      "(75779,)\n",
      "(6000,)\n",
      "(12508,)\n",
      "(1463,)\n",
      "(1783,)\n",
      "(1615,)\n",
      "(12447,)\n",
      "(7897,)\n",
      "(13767,)\n",
      "(13068,)\n",
      "(17022,)\n",
      "(26220,)\n",
      "(136808,)\n",
      "(38772,)\n",
      "(17285,)\n",
      "(91748,)\n",
      "(40086,)\n",
      "(5704,)\n",
      "(25575,)\n",
      "(15473,)\n",
      "(10951,)\n",
      "(121004,)\n",
      "(18036,)\n",
      "(25734,)\n",
      "(53866,)\n",
      "(27951,)\n",
      "(45054,)\n",
      "(24839,)\n",
      "(62241,)\n",
      "(33995,)\n",
      "(20824,)\n",
      "(147797,)\n",
      "(40292,)\n",
      "(48208,)\n",
      "(18537,)\n",
      "(85906,)\n",
      "(18753,)\n",
      "(78267,)\n",
      "(47624,)\n",
      "(22233,)\n",
      "(23384,)\n",
      "(92197,)\n",
      "(15005,)\n",
      "(86209,)\n",
      "(39493,)\n",
      "(23639,)\n",
      "(17172,)\n",
      "(7914,)\n",
      "(77504,)\n",
      "(178555,)\n",
      "(57908,)\n",
      "(82997,)\n",
      "(55895,)\n",
      "(36962,)\n",
      "(25456,)\n",
      "(48337,)\n",
      "(29462,)\n",
      "(27529,)\n",
      "(94811,)\n",
      "(55502,)\n",
      "(5562,)\n",
      "(4597,)\n",
      "(17388,)\n",
      "(7427,)\n",
      "(9134,)\n",
      "(58566,)\n",
      "(5950,)\n",
      "(13893,)\n",
      "(192041,)\n",
      "(77852,)\n",
      "(14704,)\n",
      "(51669,)\n",
      "(135990,)\n",
      "(152219,)\n",
      "(108725,)\n",
      "(104598,)\n",
      "(65029,)\n",
      "(36705,)\n",
      "(9691,)\n",
      "(17264,)\n",
      "(39017,)\n",
      "(45576,)\n",
      "(48533,)\n",
      "(60233,)\n",
      "(35499,)\n",
      "(123340,)\n",
      "(10070,)\n",
      "(6274,)\n",
      "(20929,)\n",
      "(34192,)\n",
      "(63152,)\n",
      "(26725,)\n",
      "(6717,)\n",
      "(35798,)\n",
      "(74614,)\n",
      "(39927,)\n",
      "(29904,)\n",
      "(17349,)\n",
      "(39013,)\n",
      "(24268,)\n",
      "(7454,)\n",
      "(60694,)\n",
      "(12588,)\n",
      "(98486,)\n",
      "(14453,)\n",
      "(159813,)\n",
      "(75333,)\n",
      "(36434,)\n",
      "(54379,)\n",
      "(49612,)\n",
      "(173377,)\n",
      "(30413,)\n",
      "(36146,)\n",
      "(41769,)\n",
      "(45995,)\n",
      "(8295,)\n",
      "(16314,)\n",
      "(90798,)\n",
      "(64973,)\n",
      "(50966,)\n",
      "(53930,)\n",
      "(59987,)\n",
      "(20687,)\n",
      "(14907,)\n",
      "(9241,)\n",
      "(8883,)\n",
      "(92320,)\n",
      "(55393,)\n",
      "(71465,)\n",
      "(57461,)\n",
      "(23314,)\n",
      "(56490,)\n",
      "(89667,)\n",
      "(94162,)\n",
      "(35649,)\n",
      "(11265,)\n",
      "(65364,)\n",
      "(13086,)\n",
      "(25017,)\n",
      "(45920,)\n",
      "(8589,)\n",
      "(10305,)\n",
      "(19212,)\n",
      "(5987,)\n",
      "Columns\n",
      "(495,)\n",
      "(636,)\n",
      "(738,)\n",
      "(362,)\n",
      "(522,)\n",
      "(3130,)\n",
      "(3673,)\n",
      "(13379,)\n",
      "(27251,)\n",
      "(2101,)\n",
      "(1096,)\n",
      "(773,)\n",
      "(14578,)\n",
      "(9144,)\n",
      "(13001,)\n",
      "(11833,)\n",
      "(17461,)\n",
      "(20629,)\n",
      "(18519,)\n",
      "(22731,)\n",
      "(18356,)\n",
      "(8869,)\n",
      "(17038,)\n",
      "(14186,)\n",
      "(9822,)\n",
      "Doors\n",
      "(5663,)\n",
      "(3570,)\n",
      "(13110,)\n",
      "(4598,)\n",
      "(4078,)\n",
      "(4550,)\n",
      "(5551,)\n",
      "(4193,)\n",
      "(2483,)\n",
      "(5010,)\n",
      "(4373,)\n",
      "(5143,)\n",
      "(4626,)\n",
      "(4284,)\n",
      "(9344,)\n",
      "(5677,)\n",
      "(7562,)\n",
      "(7849,)\n",
      "(5169,)\n",
      "(6038,)\n",
      "(8607,)\n",
      "(9539,)\n",
      "(4848,)\n",
      "(4749,)\n",
      "(9537,)\n",
      "(3222,)\n",
      "(11964,)\n",
      "(13514,)\n",
      "(4852,)\n",
      "(18362,)\n",
      "(9633,)\n",
      "(5737,)\n",
      "(6968,)\n",
      "(7002,)\n",
      "(6487,)\n",
      "(6094,)\n",
      "(6448,)\n",
      "(5628,)\n",
      "(18197,)\n",
      "(10276,)\n",
      "(8475,)\n",
      "(5708,)\n",
      "(7712,)\n",
      "(5131,)\n",
      "(6722,)\n",
      "(8699,)\n",
      "(9205,)\n",
      "(8879,)\n",
      "(6335,)\n",
      "(10606,)\n",
      "(6310,)\n",
      "(5782,)\n",
      "(8035,)\n",
      "(6662,)\n",
      "(6931,)\n",
      "(6848,)\n",
      "(4994,)\n",
      "(4342,)\n",
      "(2293,)\n",
      "(1883,)\n",
      "(1968,)\n",
      "(1121,)\n",
      "(82,)\n",
      "(2690,)\n",
      "(2545,)\n",
      "(749,)\n",
      "(473,)\n",
      "(682,)\n",
      "(542,)\n",
      "(637,)\n",
      "(732,)\n",
      "(730,)\n",
      "(592,)\n",
      "(734,)\n",
      "(1364,)\n",
      "(1091,)\n",
      "(1163,)\n",
      "(1363,)\n",
      "(730,)\n",
      "(841,)\n",
      "(1303,)\n",
      "(1433,)\n",
      "(1041,)\n",
      "(931,)\n",
      "(1914,)\n",
      "(771,)\n",
      "(1920,)\n",
      "(3272,)\n",
      "(655,)\n",
      "(10655,)\n",
      "(1208,)\n",
      "(974,)\n",
      "(1550,)\n",
      "(1424,)\n",
      "(1108,)\n",
      "(855,)\n",
      "(611,)\n",
      "(1340,)\n",
      "(2120,)\n",
      "(1565,)\n",
      "(5064,)\n",
      "(3218,)\n",
      "(4978,)\n",
      "(1870,)\n",
      "(1575,)\n",
      "(2000,)\n",
      "(4869,)\n",
      "(1726,)\n",
      "(1239,)\n",
      "(1937,)\n",
      "(848,)\n",
      "(568,)\n",
      "(1191,)\n",
      "(1292,)\n",
      "(1097,)\n",
      "(1726,)\n",
      "Windows\n",
      "Windows : 289 Nodes found\n"
>>>>>>> 8d7ef90ab82e7bd9023dc0b0c2a27bc6e73fb7ce
     ]
    }
   ],
   "source": [
    "files=utl.get_list_of_files(input_folder,'.laz')\n",
    "\n",
    "for f in files[:1]: #only read the first one\n",
    "    pcdNodes=[]\n",
    "    \n",
    "    # check if las/pcd variable is already defined    \n",
    "    print(f'processing {ut.get_filename(f)}...')      \n",
    "    las = laspy.read(f) if 'las' not in globals() else las\n",
    "    pcd=gmu.las_to_pcd(las,getNormals=True) if 'pcd' not in globals() else pcd # this is the slowest step\n",
    "        \n",
    "    #seperate initial objects\n",
    "    for c in class_dict['classes']:\n",
    "        print(c['name'])\n",
    "        idx=np.where((las['classes']==c['id']))[0]\n",
    "        class_pcd=pcd.select_by_index(idx)\n",
    "        object_labels=las['objects'][idx]\n",
    "        \n",
    "        for j in np.unique(object_labels):\n",
    "            indices=np.where(object_labels==j)[0]\n",
    "            object_pcd=class_pcd.select_by_index(indices)\n",
    "            pcdNodes.append(PointCloudNode(resource=object_pcd,\n",
    "                                        class_id=c['id'],\n",
    "                                        object_id=j,\n",
    "                                        color=ut.random_color(),\n",
    "                                        name=c['name']+f'_{str(j)}'))\n",
    "            \n",
    "            \n",
<<<<<<< HEAD
    "    print(f'{len(pcdNodes)} Nodes found')     \n",
    "    \n",
    "    #retrieve levelNodes -> CVPR they take highest element in the group instead of the average -> this even should be 20cm higher but this is arbitrary in the CVPR dataset -> 4% error\n",
    "    floorNodes=[n for n in pcdNodes if n.class_id ==0]\n",
    "    ceilingNodes=[n for n in pcdNodes if n.class_id ==1]    \n",
    "    print(f'{len(floorNodes)} floor nodes and {len(ceilingNodes)} ceiling nodes found')\n",
    "    levelNodes=t5.create_level_nodes((floorNodes+ceilingNodes),threshold_horizontal_clustering=threshold_horizontal_clustering,threshold_vertical_clustering=threshold_vertical_clustering)\n",
    "    print(f'{len(levelNodes)} levels created at heights {[n.height for n in levelNodes]}')      \n",
    "    \n",
    "    #write this information to the 3D detection json\n",
    "    json_data=t5.levels_to_json(levelNodes,f)\n",
    "    with open(os.path.join(output_folder,f'{ut.get_filename(f)}_levels.json'), 'w') as file:\n",
    "        json.dump(json_data, file, indent=4)\n",
    "    print(\"JSON data written to file:\", os.path.join(output_folder,f'{ut.get_filename(f)}_levels.json') )\n",
    "    \n",
    "    #write geometries to file\n",
    "    joined_references=gmu.join_geometries([n.plane for n in levelNodes])\n",
    "    success=o3d.io.write_triangle_mesh(filename=os.path.join(output_folder,f'{ut.get_filename(f)}_levels.obj'), mesh=joined_references) \n",
    "    print(f' Saving joint references : {success}')\n",
    "    \n",
    "    #write graph to file\n",
    "    graphPath=os.path.join(output_folder,f'{ut.get_filename(f)}_levels.ttl')\n",
    "    graph=tl.nodes_to_graph(levelNodes,graphPath=graphPath,save=True)\n"
   ]
  },
  {
   "cell_type": "markdown",
   "metadata": {},
   "source": [
    "## VISUALIZE"
=======
    "    #all further processing will be placed here (or in functions)!\n",
    "    print( c['name'], f': {len(pcdNodes)} Nodes found')             "
>>>>>>> 8d7ef90ab82e7bd9023dc0b0c2a27bc6e73fb7ce
   ]
  },
  {
   "cell_type": "code",
   "execution_count": null,
   "metadata": {},
   "outputs": [],
   "source": [
    "# joined_pcd=gmu.join_geometries([p.resource.paint_uniform_color(ut.random_color()) for p in objectNodes])\n",
    "# o3d.visualization.draw_geometries([joined_pcd,gmu.sample_geometry(class_pcd)[0]])"
   ]
  },
  {
   "cell_type": "markdown",
   "metadata": {},
   "source": [
    "import Graph"
   ]
  },
  {
   "cell_type": "code",
   "execution_count": 18,
   "metadata": {},
   "outputs": [],
   "source": [
    "# graph=Graph().parse(graphPath)\n",
    "# pcdNodes=tl.graph_to_nodes(graph)"
   ]
  },
  {
   "cell_type": "markdown",
   "metadata": {},
   "source": [
    "match point clouds with graph"
   ]
  },
  {
   "cell_type": "code",
   "execution_count": 19,
   "metadata": {},
   "outputs": [],
   "source": [
    "# for n in pcdNodes: # this is 6 times slower than the code above !!\n",
    "#     idx=np.where((laz['classes']==n.class_id) & (laz['objects']==n.object_id))\n",
    "#     pcd=o3d.geometry.PointCloud()\n",
    "#     pcd.points=o3d.utility.Vector3dVector(laz.xyz[idx])\n",
    "#     n.resource=pcd"
   ]
  },
  {
   "cell_type": "code",
   "execution_count": 20,
   "metadata": {},
   "outputs": [],
   "source": [
    "# {key:value for key, value in pcdNodes[1].__dict__.items() if not key.startswith('__') and not callable(key)}              "
   ]
  },
  {
   "cell_type": "code",
   "execution_count": 133,
   "metadata": {},
   "outputs": [],
   "source": [
    "# joined_pcd=gmu.join_geometries([n.resource.paint_uniform_color(ut.literal_to_array(n.color)) for n in pcdNodes if n.resource is not None])\n",
    "# o3d.visualization.draw_geometries([joined_pcd])"
   ]
  },
  {
   "cell_type": "markdown",
   "metadata": {},
   "source": [
    "## PROCESSING"
   ]
  },
  {
   "cell_type": "markdown",
   "metadata": {},
   "source": [
    "get floor point clouds and upper ceiling node"
   ]
  },
  {
   "cell_type": "code",
   "execution_count": 26,
   "metadata": {},
   "outputs": [
    {
     "name": "stdout",
     "output_type": "stream",
     "text": [
      "1 floorNodes detected!\n",
      " Floors_1 with OrientedBoundingBox: center: (7.15942, 9.13511, -1.74057), extent: 88.7838, 51.6765, 5.28601)\n"
     ]
    }
   ],
   "source": [
    "#retrieve floor points\n",
    "floorNodes=[n for n in pcdNodes if n.class_id ==0]\n",
    "ceilingNodes=[n for n in pcdNodes if n.class_id ==1]\n",
    "print(f'{len(floorNodes)} floorNodes detected!')\n",
    "for n in floorNodes:\n",
    "    print(f' {n.name} with {n.get_oriented_bounding_box()}')\n"
   ]
  },
  {
   "cell_type": "code",
   "execution_count": 28,
   "metadata": {},
   "outputs": [
    {
     "name": "stdout",
     "output_type": "stream",
     "text": [
      "[[<geomapi.nodes.pointcloudnode.PointCloudNode object at 0x7fb428356980>], [<geomapi.nodes.pointcloudnode.PointCloudNode object at 0x7fb428355b10>]]\n"
     ]
    }
   ],
   "source": [
    "# for now, put all floorNodes in a single group (1 reference level)\n",
    "groupedLevelNodes=[floorNodes,ceilingNodes]\n",
    "print(groupedLevelNodes)\n"
   ]
  },
  {
   "cell_type": "markdown",
   "metadata": {},
   "source": [
    "Compute reference Planes"
   ]
  },
  {
   "cell_type": "code",
   "execution_count": 29,
   "metadata": {},
   "outputs": [
    {
     "name": "stdout",
     "output_type": "stream",
     "text": [
      " Level level_00 created at height -0.007221328826867619\n",
      " Level level_10 created at height 2.7739179168203005\n"
     ]
    }
   ],
   "source": [
    "#compute height underneight all floor points of a level (according to the lowest slab)\n",
    "referenceNodes= []\n",
    "\n",
    "for i,nodes in enumerate(groupedLevelNodes):\n",
    "    #create sessionNode\n",
    "    name='level_'+str(i)+'0'\n",
    "    referenceNode=SessionNode(linkedNodes=nodes,\n",
    "                                name=name,\n",
    "                                subject=name)\n",
    "    \n",
    "    #determine height -> note that this can be negative\n",
    "    weights=[float(len(np.asarray(n.resource.points))) for n in nodes]\n",
    "    heights= [float(n.cartesianTransform[2,3]) for n in nodes]\n",
    "    weighted_height= np.average(heights, weights=weights)\n",
    "\n",
    "    #compute plane from cornerpoints orientedbounding box\n",
    "    vertices=np.array([np.hstack((referenceNode.orientedBounds[0][0:2],weighted_height)),\n",
    "                       np.hstack((referenceNode.orientedBounds[1][0:2],weighted_height)),\n",
    "                       np.hstack((referenceNode.orientedBounds[2][0:2],weighted_height)),\n",
    "                       np.hstack((referenceNode.orientedBounds[4][0:2],weighted_height))])#,\n",
    "    vertices=o3d.utility.Vector3dVector(vertices)\n",
    "    triangles=o3d.utility.Vector3iVector(np.array([[0,1,2],[2,1,3]]))\n",
    "    plane=o3d.geometry.TriangleMesh(vertices,triangles)\n",
    "\n",
    "    #assign information to referenceNode\n",
    "    referenceNode.plane=plane\n",
    "    referenceNode.height=weighted_height\n",
    "    \n",
    "    referenceNodes.append(referenceNode)\n",
    "    print(f' Level {referenceNode.name} created at height {referenceNode.height}')\n",
    "# print(f'{len(referenceNodes)} referenceNodes created!')"
   ]
  },
  {
   "cell_type": "code",
   "execution_count": 138,
   "metadata": {},
   "outputs": [],
   "source": [
    "# joined_pcd=gmu.join_geometries([n.resource.paint_uniform_color(n.color) for n in pcdNodes if n.resource is not None])\n",
    "# o3d.visualization.draw_geometries([joined_pcd,referenceNodes[0].plane])"
   ]
  },
  {
   "cell_type": "code",
   "execution_count": 30,
   "metadata": {},
   "outputs": [
    {
     "data": {
      "text/plain": [
       "{'_linkedNodes': [<geomapi.nodes.pointcloudnode.PointCloudNode at 0x7fb428355b10>],\n",
       " '_linkedSubjects': [rdflib.term.URIRef('file:///Ceilings_2')],\n",
       " '_subject': rdflib.term.URIRef('file:///level_10'),\n",
       " '_graph': None,\n",
       " '_graphPath': None,\n",
       " '_path': None,\n",
       " '_name': 'level_10',\n",
       " '_cartesianBounds': array([-2.80895652e+01,  3.97142580e+01, -3.60133539e+01,  5.81279315e+01,\n",
       "        -4.41641246e-02,  7.53458671e+00]),\n",
       " '_orientedBounds': array([[ 2.14217984e+01, -3.58783279e+01, -4.41641246e-02],\n",
       "        [ 3.96821373e+01,  4.72735862e+01,  2.26753106e+00],\n",
       "        [-2.80895652e+01, -2.50239826e+01,  6.19715839e-01],\n",
       "        [ 2.14539191e+01, -3.60133539e+01,  4.55901155e+00],\n",
       "        [-9.79710564e+00,  5.79929055e+01,  7.53458671e+00],\n",
       "        [-2.80574445e+01, -2.51590086e+01,  5.22289152e+00],\n",
       "        [ 3.97142580e+01,  4.71385602e+01,  6.87070674e+00],\n",
       "        [-9.82922629e+00,  5.81279315e+01,  2.93141103e+00]]),\n",
       " '_orientedBoundingBox': OrientedBoundingBox: center: (5.81235, 11.0573, 3.74521), extent: 85.1647, 50.6915, 4.60527),\n",
       " '_timestamp': '2024-05-13T15:53:53',\n",
       " '_resource': TriangleMesh with 8 points and 12 triangles.,\n",
       " '_cartesianTransform': array([[ 1.        ,  0.        ,  0.        ,  5.8123464 ],\n",
       "        [ 0.        ,  1.        ,  0.        , 11.0572888 ],\n",
       "        [ 0.        ,  0.        ,  1.        ,  3.74521129],\n",
       "        [ 0.        ,  0.        ,  0.        ,  1.        ]]),\n",
       " 'plane': TriangleMesh with 4 points and 2 triangles.,\n",
       " 'height': 2.7739179168203005}"
      ]
     },
     "execution_count": 30,
     "metadata": {},
     "output_type": "execute_result"
    }
   ],
   "source": [
    "{key:value for key, value in referenceNode.__dict__.items() if not key.startswith('__') and not callable(key)}              "
   ]
  },
  {
   "cell_type": "markdown",
   "metadata": {},
   "source": [
    "Compute Json information"
   ]
  },
  {
   "cell_type": "code",
   "execution_count": 32,
   "metadata": {},
   "outputs": [],
   "source": [
    "for n in referenceNodes:\n",
    "    n.box=n.resource.get_oriented_bounding_box()\n",
    "    n.box.color=[1,0,0]\n",
    "    \n",
    "    rotation_matrix=copy.deepcopy(n.box.R) #! can these angles be negative?\n",
    "    r =  Rotation.from_matrix(np.asarray(rotation_matrix))\n",
    "    n.rotations = r.as_euler(\"zyx\",degrees=True)"
   ]
  },
  {
   "cell_type": "markdown",
   "metadata": {},
   "source": [
    "## EXPORT"
   ]
  },
  {
   "cell_type": "markdown",
   "metadata": {},
   "source": [
    "geometry"
   ]
  },
  {
   "cell_type": "code",
   "execution_count": 33,
   "metadata": {},
   "outputs": [
    {
     "name": "stdout",
     "output_type": "stream",
     "text": [
      " Saving joint references : True\n"
     ]
    }
   ],
   "source": [
    "joined_references=gmu.join_geometries([n.resource for n in referenceNodes])\n",
    "success=o3d.io.write_triangle_mesh(filename=os.path.join(output_folder,f'{ut.get_filename(f)}_levels.obj'), mesh=joined_references) \n",
    "print(f' Saving joint references : {success}')\n",
    "    "
   ]
  },
  {
   "cell_type": "markdown",
   "metadata": {},
   "source": [
    "json with reference heights"
   ]
  },
  {
   "cell_type": "code",
   "execution_count": 34,
   "metadata": {},
   "outputs": [],
   "source": [
    "#declare json\n",
    "json_data = {\n",
    "        \"filename\": f'{ut.get_filename(f)}_levels.obj',\n",
    "        \"objects\": []\n",
    "    }"
   ]
  },
  {
   "cell_type": "code",
   "execution_count": 35,
   "metadata": {},
   "outputs": [],
   "source": [
    "#fill json\n",
    "for n in referenceNodes:\n",
    "    obj = {\n",
    "            \"name\": 'level_'+n.name,\n",
    "            \"centroid\": {\n",
    "                \"x\": n.box.center[0],\n",
    "                \"y\": n.box.center[1],\n",
    "                \"z\": n.height\n",
    "            },\n",
    "            \"dimensions\": {\n",
    "                \"length\": n.box.extent[0],\n",
    "                \"width\": n.box.extent[1],\n",
    "                \"height\": n.height\n",
    "            },\n",
    "            \"rotations\": {\n",
    "                \"x\": 0,\n",
    "                \"y\": 0,\n",
    "                \"z\": n.rotations[0]\n",
    "            }\n",
    "            }\n",
    "    json_data[\"objects\"].append(obj)"
   ]
  },
  {
   "cell_type": "code",
   "execution_count": 36,
   "metadata": {},
   "outputs": [
    {
     "name": "stdout",
     "output_type": "stream",
     "text": [
      "JSON data written to file: /home/sdegeyter/Code/Scan-to-BIM-CVPR-2024/data/t5/test/05_MedOffice_01_F2_small1_levels.json\n"
     ]
    }
   ],
   "source": [
    "#write this information to the 3D detection json\n",
    "with open(os.path.join(output_folder,f'{ut.get_filename(f)}_levels.json') , \"w\") as json_file: \n",
    "    json.dump(json_data, json_file, indent=4)\n",
    "print(\"JSON data written to file:\", os.path.join(output_folder,f'{ut.get_filename(f)}_levels.json') )"
   ]
  },
  {
   "cell_type": "markdown",
   "metadata": {},
   "source": [
    "save Graph"
   ]
  },
  {
   "cell_type": "code",
   "execution_count": 40,
   "metadata": {},
   "outputs": [],
   "source": [
    "graphPath=os.path.join(output_folder,f'{ut.get_filename(f)}_levels.ttl')\n",
    "graph=tl.nodes_to_graph(referenceNodes,\n",
    "                  graphPath=graphPath,save=True)\n"
   ]
  },
  {
   "cell_type": "code",
   "execution_count": 41,
   "metadata": {},
   "outputs": [
    {
     "name": "stdout",
     "output_type": "stream",
     "text": [
      "@prefix e57: <http://libe57.org#> .\n",
      "@prefix openlabel: <https://www.asam.net/index.php?eID=dumpFile&t=f&f=3876&token=413e8c85031ae64cc35cf42d0768627514868b2f#> .\n",
      "@prefix v4d: <https://w3id.org/v4d/core#> .\n",
      "@prefix xsd: <http://www.w3.org/2001/XMLSchema#> .\n",
      "\n",
      "<file:///level_00> a v4d:SessionNode ;\n",
      "    e57:cartesianBounds \"\"\"[-30.50617846  44.82502113 -40.88119715  59.15142274  -5.77151495\n",
      "   2.29038091]\"\"\" ;\n",
      "    e57:cartesianTransform \"\"\"[[ 1.          0.          0.          7.15942134]\n",
      " [ 0.          1.          0.          9.1351128 ]\n",
      " [ 0.          0.          1.         -1.74056702]\n",
      " [ 0.          0.          0.          1.        ]]\"\"\" ;\n",
      "    v4d:box \"OrientedBoundingBox: center: (7.15942, 9.13511, -1.74057), extent: 88.7838, 51.6765, 5.28601)\" ;\n",
      "    v4d:height \"-0.007221328826867619\"^^xsd:float ;\n",
      "    v4d:linkedSubjects \"['file:///Floors_1']\" ;\n",
      "    v4d:name \"level_00\" ;\n",
      "    v4d:orientedBounds \"\"\"[[ 18.93030764 -40.88119715  -3.9889792 ]\n",
      " [ 44.69676502  44.06274756  -5.77151495]\n",
      " [-30.50617846 -25.86450053  -2.99357986]\n",
      " [ 19.05856375 -40.80921858   1.29498157]\n",
      " [ -4.61146496  59.15142274   0.50784517]\n",
      " [-30.37792235 -25.79252197   2.29038091]\n",
      " [ 44.82502113  44.13472613  -0.48755417]\n",
      " [ -4.73972107  59.07944418  -4.7761156 ]]\"\"\" ;\n",
      "    v4d:plane \"TriangleMesh with 4 points and 2 triangles.\" ;\n",
      "    v4d:rotations \"[73.12400788  1.39032255 -0.78043974]\" ;\n",
      "    openlabel:timestamp \"2024-05-13T15:51:33\" .\n",
      "\n",
      "<file:///level_10> a v4d:SessionNode ;\n",
      "    e57:cartesianBounds \"\"\"[-2.80895652e+01  3.97142580e+01 -3.60133539e+01  5.81279315e+01\n",
      " -4.41641246e-02  7.53458671e+00]\"\"\" ;\n",
      "    e57:cartesianTransform \"\"\"[[ 1.          0.          0.          5.8123464 ]\n",
      " [ 0.          1.          0.         11.0572888 ]\n",
      " [ 0.          0.          1.          3.74521129]\n",
      " [ 0.          0.          0.          1.        ]]\"\"\" ;\n",
      "    v4d:box \"OrientedBoundingBox: center: (5.81235, 11.0573, 3.74521), extent: 85.1647, 50.6915, 4.60527)\" ;\n",
      "    v4d:height \"2.7739179168203005\"^^xsd:float ;\n",
      "    v4d:linkedSubjects \"['file:///Ceilings_2']\" ;\n",
      "    v4d:name \"level_10\" ;\n",
      "    v4d:orientedBounds \"\"\"[[ 2.14217984e+01 -3.58783279e+01 -4.41641246e-02]\n",
      " [ 3.96821373e+01  4.72735862e+01  2.26753106e+00]\n",
      " [-2.80895652e+01 -2.50239826e+01  6.19715839e-01]\n",
      " [ 2.14539191e+01 -3.60133539e+01  4.55901155e+00]\n",
      " [-9.79710564e+00  5.79929055e+01  7.53458671e+00]\n",
      " [-2.80574445e+01 -2.51590086e+01  5.22289152e+00]\n",
      " [ 3.97142580e+01  4.71385602e+01  6.87070674e+00]\n",
      " [-9.82922629e+00  5.81279315e+01  2.93141103e+00]]\"\"\" ;\n",
      "    v4d:plane \"TriangleMesh with 4 points and 2 triangles.\" ;\n",
      "    v4d:rotations \"[77.6186563   0.39962766  1.68018874]\" ;\n",
      "    openlabel:timestamp \"2024-05-13T15:53:53\" .\n",
      "\n",
      "\n"
     ]
    }
   ],
   "source": [
    "print(graph.serialize())"
   ]
  }
 ],
 "metadata": {
  "kernelspec": {
   "display_name": "geomapi_installed",
   "language": "python",
   "name": "python3"
  },
  "language_info": {
   "codemirror_mode": {
    "name": "ipython",
    "version": 3
   },
   "file_extension": ".py",
   "mimetype": "text/x-python",
   "name": "python",
   "nbconvert_exporter": "python",
   "pygments_lexer": "ipython3",
   "version": "3.10.14"
  }
 },
 "nbformat": 4,
 "nbformat_minor": 2
}
